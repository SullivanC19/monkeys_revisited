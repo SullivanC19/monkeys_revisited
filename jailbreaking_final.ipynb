{
 "cells": [
  {
   "cell_type": "code",
   "execution_count": 10,
   "metadata": {},
   "outputs": [],
   "source": [
    "import sys\n",
    "import os\n",
    "import src.analyze as analyze \n",
    "import src.stats_utils as stats_utils\n",
    "import src.mixtures as mixtures\n",
    "import src.better_optimiation as bopt\n",
    "import matplotlib.pyplot as plt\n",
    "import numpy as np\n",
    "import pandas as pd\n",
    "import scipy\n",
    "import sklearn\n",
    "from sklearn.linear_model import LinearRegression\n",
    "from sklearn.model_selection import train_test_split\n",
    "from sklearn.metrics import mean_squared_error\n",
    "import src.EM as EM\n",
    "from src.EM import compute_estimate, compute_estimate_stable, compute_p_at_ks, compute_estimates_better_mixture\n",
    "import src.better_em as BEM\n",
    "import heapq\n",
    "import src.bem_geometric as bemg\n",
    "from src.bem_geometric import compute_estimates_better_three_param_geometric, compute_estimates_three_param"
   ]
  },
  {
   "cell_type": "markdown",
   "metadata": {},
   "source": [
    "Set model and number of samples"
   ]
  },
  {
   "cell_type": "code",
   "execution_count": 11,
   "metadata": {},
   "outputs": [],
   "source": [
    "model_name = 'Pythia 1B'#['Claude 3.5 Opus', 'Claude 3.5 Sonnet', 'GPT4o', 'GPT4o Mini', 'Gemini 1.5 Flash', 'Gemini 1.5 Pro', 'Llama 3 8B IT']\n",
    "samples = 50\n",
    "#define the ks that we will try to predict\n",
    "ks = np.array(np.logspace(np.log10(1), np.log10(10000), num=100))"
   ]
  },
  {
   "cell_type": "markdown",
   "metadata": {},
   "source": [
    "Load all data for monkeys power laws"
   ]
  },
  {
   "cell_type": "code",
   "execution_count": 12,
   "metadata": {},
   "outputs": [
    {
     "name": "stdout",
     "output_type": "stream",
     "text": [
      "Loaded /Users/jkazdan/Documents/Research/monkeys/KoyejoLab-Origin-Power-Laws-Scaling-Inference-Compute/data/processed_data/large_language_monkeys_pythia_math_pass_at_k.parquet with shape:  (90496, 7)\n",
      "Loaded /Users/jkazdan/Documents/Research/monkeys/KoyejoLab-Origin-Power-Laws-Scaling-Inference-Compute/data/processed_data/large_language_monkeys_pythia_math_individual_outcomes.parquet with shape:  (8960000, 5)\n"
     ]
    }
   ],
   "source": [
    "#get data for the number of math problems solved\n",
    "data = analyze.create_or_load_large_language_monkeys_pythia_math_pass_at_k_df()\n",
    "\n",
    "#this tells us whether each attempt was a success or failure -- I don't think it adds any \n",
    "#value given that the attempts were independent\n",
    "individual_data = analyze.create_or_load_large_language_monkeys_pythia_math_individual_outcomes_df()"
   ]
  },
  {
   "cell_type": "markdown",
   "metadata": {},
   "source": [
    "Number of total samples is missing-- fill this in"
   ]
  },
  {
   "cell_type": "code",
   "execution_count": 1087,
   "metadata": {},
   "outputs": [],
   "source": [
    "#label the number of total samples and compute the number of correct attempts for each problem\n",
    "data['Num. Samples Total'] = data['Scaling Parameter'].max()\n",
    "data['Num. Samples Correct'] = data['Score']*data['Num. Samples Total']\n",
    "data = data[data['Scaling Parameter'] == 1]"
   ]
  },
  {
   "cell_type": "code",
   "execution_count": 76,
   "metadata": {},
   "outputs": [
    {
     "name": "stdout",
     "output_type": "stream",
     "text": [
      "\n",
      "With Benchmark included:\n",
      "          Model  Problem Idx Benchmark  Total_Successes  Total_Attempts  Num. Samples Correct  Num. Samples Total\n",
      "0    Pythia 12B           82      MATH            667.0           10000                 667.0               667.0\n",
      "1    Pythia 12B          142      MATH            464.0           10000                 464.0               464.0\n",
      "2    Pythia 12B          188      MATH            832.0           10000                 832.0               832.0\n",
      "3    Pythia 12B          201      MATH            933.0           10000                 933.0               933.0\n",
      "4    Pythia 12B          240      MATH            833.0           10000                 833.0               833.0\n",
      "..          ...          ...       ...              ...             ...                   ...                 ...\n",
      "891  Pythia 70M         4861      MATH            539.0           10000                 539.0               539.0\n",
      "892  Pythia 70M         4895      MATH            780.0           10000                 780.0               780.0\n",
      "893  Pythia 70M         4907      MATH            859.0           10000                 859.0               859.0\n",
      "894  Pythia 70M         4975      MATH            102.0           10000                 102.0               102.0\n",
      "895  Pythia 70M         4988      MATH            332.0           10000                 332.0               332.0\n",
      "\n",
      "[896 rows x 7 columns]\n"
     ]
    }
   ],
   "source": [
    "# If you also want to include Benchmark in the grouping:\n",
    "model_problem_benchmark_summary = individual_data.groupby(['Model', 'Problem Idx', 'Benchmark']).agg(\n",
    "    Total_Successes=('Score', 'sum'),\n",
    "    Total_Attempts=('Score', 'count')\n",
    ").reset_index()\n",
    "\n",
    "model_problem_benchmark_summary['Num. Samples Correct'] = (\n",
    "    model_problem_benchmark_summary['Total_Successes'] \n",
    ")\n",
    "\n",
    "model_problem_benchmark_summary['Num. Samples Total'] = (\n",
    "    model_problem_benchmark_summary['Total_Successes'] \n",
    ")\n",
    "print(\"\\nWith Benchmark included:\")\n",
    "print(model_problem_benchmark_summary)"
   ]
  },
  {
   "cell_type": "code",
   "execution_count": 73,
   "metadata": {},
   "outputs": [
    {
     "ename": "TypeError",
     "evalue": "NDFrame.first() missing 1 required positional argument: 'offset'",
     "output_type": "error",
     "traceback": [
      "\u001b[0;31m---------------------------------------------------------------------------\u001b[0m",
      "\u001b[0;31mTypeError\u001b[0m                                 Traceback (most recent call last)",
      "Cell \u001b[0;32mIn[73], line 1\u001b[0m\n\u001b[0;32m----> 1\u001b[0m \u001b[43mindividual_data\u001b[49m\u001b[38;5;241;43m.\u001b[39;49m\u001b[43mgroupby\u001b[49m\u001b[43m(\u001b[49m\u001b[43m[\u001b[49m\u001b[38;5;124;43m'\u001b[39;49m\u001b[38;5;124;43mModel\u001b[39;49m\u001b[38;5;124;43m'\u001b[39;49m\u001b[43m,\u001b[49m\u001b[43m \u001b[49m\u001b[38;5;124;43m'\u001b[39;49m\u001b[38;5;124;43mProblem Idx\u001b[39;49m\u001b[38;5;124;43m'\u001b[39;49m\u001b[43m]\u001b[49m\u001b[43m)\u001b[49m\u001b[38;5;241;43m.\u001b[39;49m\u001b[43msum\u001b[49m\u001b[43m(\u001b[49m\u001b[43m)\u001b[49m\u001b[38;5;241;43m.\u001b[39;49m\u001b[43mfirst\u001b[49m\u001b[43m(\u001b[49m\u001b[43m)\u001b[49m\n",
      "\u001b[0;31mTypeError\u001b[0m: NDFrame.first() missing 1 required positional argument: 'offset'"
     ]
    }
   ],
   "source": [
    "individual_data.groupby(['Model', 'Problem Idx'])['Problem Idx', 'Score', 'Model'].sum().first()"
   ]
  },
  {
   "cell_type": "code",
   "execution_count": 20,
   "metadata": {},
   "outputs": [],
   "source": [
    "probs = np.random.uniform(size = problem_count)"
   ]
  },
  {
   "cell_type": "code",
   "execution_count": 68,
   "metadata": {},
   "outputs": [],
   "source": [
    "final_data = individual_data.copy()\n",
    "final_data['']"
   ]
  },
  {
   "cell_type": "markdown",
   "metadata": {},
   "source": [
    "Choose which model to analyze"
   ]
  },
  {
   "cell_type": "code",
   "execution_count": 46,
   "metadata": {},
   "outputs": [],
   "source": [
    "probs = np.random.uniform(0, 0.10, size = problem_count)\n",
    "for i, problem_index in enumerate(individual_data['Problem Idx'].unique()):\n",
    "    mask = (individual_data['Problem Idx'] == problem_index)\n",
    "    individual_data.loc[mask, 'Score'] = np.random.binomial(n=1, p = probs[i], size=mask.sum())"
   ]
  },
  {
   "cell_type": "code",
   "execution_count": 65,
   "metadata": {},
   "outputs": [
    {
     "data": {
      "text/html": [
       "<div>\n",
       "<style scoped>\n",
       "    .dataframe tbody tr th:only-of-type {\n",
       "        vertical-align: middle;\n",
       "    }\n",
       "\n",
       "    .dataframe tbody tr th {\n",
       "        vertical-align: top;\n",
       "    }\n",
       "\n",
       "    .dataframe thead th {\n",
       "        text-align: right;\n",
       "    }\n",
       "</style>\n",
       "<table border=\"1\" class=\"dataframe\">\n",
       "  <thead>\n",
       "    <tr style=\"text-align: right;\">\n",
       "      <th></th>\n",
       "      <th>Score</th>\n",
       "      <th>Scaling Parameter</th>\n",
       "      <th>Problem Idx</th>\n",
       "      <th>Model</th>\n",
       "      <th>Benchmark</th>\n",
       "      <th>Log Score</th>\n",
       "      <th>Neg Log Score</th>\n",
       "    </tr>\n",
       "  </thead>\n",
       "  <tbody>\n",
       "    <tr>\n",
       "      <th>0</th>\n",
       "      <td>0.0122</td>\n",
       "      <td>1</td>\n",
       "      <td>0</td>\n",
       "      <td>Pythia 12B</td>\n",
       "      <td>MATH</td>\n",
       "      <td>-4.406319</td>\n",
       "      <td>4.406319</td>\n",
       "    </tr>\n",
       "    <tr>\n",
       "      <th>1</th>\n",
       "      <td>0.0032</td>\n",
       "      <td>1</td>\n",
       "      <td>1</td>\n",
       "      <td>Pythia 12B</td>\n",
       "      <td>MATH</td>\n",
       "      <td>-5.744604</td>\n",
       "      <td>5.744604</td>\n",
       "    </tr>\n",
       "    <tr>\n",
       "      <th>2</th>\n",
       "      <td>0.0167</td>\n",
       "      <td>1</td>\n",
       "      <td>2</td>\n",
       "      <td>Pythia 12B</td>\n",
       "      <td>MATH</td>\n",
       "      <td>-4.092347</td>\n",
       "      <td>4.092347</td>\n",
       "    </tr>\n",
       "    <tr>\n",
       "      <th>3</th>\n",
       "      <td>0.0001</td>\n",
       "      <td>1</td>\n",
       "      <td>3</td>\n",
       "      <td>Pythia 12B</td>\n",
       "      <td>MATH</td>\n",
       "      <td>-9.210340</td>\n",
       "      <td>9.210340</td>\n",
       "    </tr>\n",
       "    <tr>\n",
       "      <th>4</th>\n",
       "      <td>0.2227</td>\n",
       "      <td>1</td>\n",
       "      <td>4</td>\n",
       "      <td>Pythia 12B</td>\n",
       "      <td>MATH</td>\n",
       "      <td>-1.501930</td>\n",
       "      <td>1.501930</td>\n",
       "    </tr>\n",
       "  </tbody>\n",
       "</table>\n",
       "</div>"
      ],
      "text/plain": [
       "    Score  Scaling Parameter  Problem Idx       Model Benchmark  Log Score  Neg Log Score\n",
       "0  0.0122                  1            0  Pythia 12B      MATH  -4.406319       4.406319\n",
       "1  0.0032                  1            1  Pythia 12B      MATH  -5.744604       5.744604\n",
       "2  0.0167                  1            2  Pythia 12B      MATH  -4.092347       4.092347\n",
       "3  0.0001                  1            3  Pythia 12B      MATH  -9.210340       9.210340\n",
       "4  0.2227                  1            4  Pythia 12B      MATH  -1.501930       1.501930"
      ]
     },
     "execution_count": 65,
     "metadata": {},
     "output_type": "execute_result"
    }
   ],
   "source": [
    "data.head()"
   ]
  },
  {
   "cell_type": "markdown",
   "metadata": {},
   "source": [
    "Collect a subset of the data that we use as the training set for prediction"
   ]
  },
  {
   "cell_type": "code",
   "execution_count": 47,
   "metadata": {},
   "outputs": [
    {
     "name": "stderr",
     "output_type": "stream",
     "text": [
      "/var/folders/sc/fyw6v7ks5mnfw0twp1p1k4mr0000gn/T/ipykernel_6064/3660908005.py:8: DeprecationWarning: DataFrameGroupBy.apply operated on the grouping columns. This behavior is deprecated, and in a future version of pandas the grouping columns will be excluded from the operation. Either pass `include_groups=False` to exclude the groupings or explicitly select the grouping columns after groupby to silence this warning.\n",
      "  model_ind_full = model_ind_full.groupby('Problem Idx').apply(shuffle_group).reset_index(drop=True)\n",
      "/var/folders/sc/fyw6v7ks5mnfw0twp1p1k4mr0000gn/T/ipykernel_6064/3660908005.py:10: SettingWithCopyWarning: \n",
      "A value is trying to be set on a copy of a slice from a DataFrame.\n",
      "Try using .loc[row_indexer,col_indexer] = value instead\n",
      "\n",
      "See the caveats in the documentation: https://pandas.pydata.org/pandas-docs/stable/user_guide/indexing.html#returning-a-view-versus-a-copy\n",
      "  model_ind['Num. Samples Correct'] = model_ind.groupby('Problem Idx')['Score'].transform('sum')\n",
      "/var/folders/sc/fyw6v7ks5mnfw0twp1p1k4mr0000gn/T/ipykernel_6064/3660908005.py:11: SettingWithCopyWarning: \n",
      "A value is trying to be set on a copy of a slice from a DataFrame.\n",
      "Try using .loc[row_indexer,col_indexer] = value instead\n",
      "\n",
      "See the caveats in the documentation: https://pandas.pydata.org/pandas-docs/stable/user_guide/indexing.html#returning-a-view-versus-a-copy\n",
      "  model_ind['Num. Samples Total'] = samples\n"
     ]
    }
   ],
   "source": [
    "model_ind_full = individual_data[(individual_data['Model'] == model_name)]\n",
    "# If you want to shuffle within each Problem Idx group\n",
    "def shuffle_group(group):\n",
    "    group = group.copy()\n",
    "    group['Score'] = np.random.permutation(group['Score'])\n",
    "    return group\n",
    "\n",
    "model_ind_full = model_ind_full.groupby('Problem Idx').apply(shuffle_group).reset_index(drop=True)\n",
    "model_ind = model_ind_full[model_ind_full['Attempt Idx'] <= samples]\n",
    "model_ind['Num. Samples Correct'] = model_ind.groupby('Problem Idx')['Score'].transform('sum')\n",
    "model_ind['Num. Samples Total'] = samples\n",
    "smaller_pythia12_math = model_ind"
   ]
  },
  {
   "cell_type": "code",
   "execution_count": 48,
   "metadata": {},
   "outputs": [],
   "source": [
    "smaller_pythia12_math = smaller_pythia12_math.groupby('Problem Idx').first()"
   ]
  },
  {
   "cell_type": "code",
   "execution_count": 49,
   "metadata": {},
   "outputs": [
    {
     "data": {
      "text/html": [
       "<div>\n",
       "<style scoped>\n",
       "    .dataframe tbody tr th:only-of-type {\n",
       "        vertical-align: middle;\n",
       "    }\n",
       "\n",
       "    .dataframe tbody tr th {\n",
       "        vertical-align: top;\n",
       "    }\n",
       "\n",
       "    .dataframe thead th {\n",
       "        text-align: right;\n",
       "    }\n",
       "</style>\n",
       "<table border=\"1\" class=\"dataframe\">\n",
       "  <thead>\n",
       "    <tr style=\"text-align: right;\">\n",
       "      <th></th>\n",
       "      <th>Attempt Idx</th>\n",
       "      <th>Score</th>\n",
       "      <th>Benchmark</th>\n",
       "      <th>Model</th>\n",
       "      <th>Num. Samples Correct</th>\n",
       "      <th>Num. Samples Total</th>\n",
       "    </tr>\n",
       "    <tr>\n",
       "      <th>Problem Idx</th>\n",
       "      <th></th>\n",
       "      <th></th>\n",
       "      <th></th>\n",
       "      <th></th>\n",
       "      <th></th>\n",
       "      <th></th>\n",
       "    </tr>\n",
       "  </thead>\n",
       "  <tbody>\n",
       "    <tr>\n",
       "      <th>82</th>\n",
       "      <td>1</td>\n",
       "      <td>0.0</td>\n",
       "      <td>MATH</td>\n",
       "      <td>Pythia 1B</td>\n",
       "      <td>7.0</td>\n",
       "      <td>50</td>\n",
       "    </tr>\n",
       "    <tr>\n",
       "      <th>142</th>\n",
       "      <td>1</td>\n",
       "      <td>0.0</td>\n",
       "      <td>MATH</td>\n",
       "      <td>Pythia 1B</td>\n",
       "      <td>3.0</td>\n",
       "      <td>50</td>\n",
       "    </tr>\n",
       "    <tr>\n",
       "      <th>188</th>\n",
       "      <td>1</td>\n",
       "      <td>0.0</td>\n",
       "      <td>MATH</td>\n",
       "      <td>Pythia 1B</td>\n",
       "      <td>4.0</td>\n",
       "      <td>50</td>\n",
       "    </tr>\n",
       "    <tr>\n",
       "      <th>201</th>\n",
       "      <td>1</td>\n",
       "      <td>0.0</td>\n",
       "      <td>MATH</td>\n",
       "      <td>Pythia 1B</td>\n",
       "      <td>8.0</td>\n",
       "      <td>50</td>\n",
       "    </tr>\n",
       "    <tr>\n",
       "      <th>240</th>\n",
       "      <td>1</td>\n",
       "      <td>0.0</td>\n",
       "      <td>MATH</td>\n",
       "      <td>Pythia 1B</td>\n",
       "      <td>4.0</td>\n",
       "      <td>50</td>\n",
       "    </tr>\n",
       "  </tbody>\n",
       "</table>\n",
       "</div>"
      ],
      "text/plain": [
       "             Attempt Idx  Score Benchmark      Model  Num. Samples Correct  Num. Samples Total\n",
       "Problem Idx                                                                                   \n",
       "82                     1    0.0      MATH  Pythia 1B                   7.0                  50\n",
       "142                    1    0.0      MATH  Pythia 1B                   3.0                  50\n",
       "188                    1    0.0      MATH  Pythia 1B                   4.0                  50\n",
       "201                    1    0.0      MATH  Pythia 1B                   8.0                  50\n",
       "240                    1    0.0      MATH  Pythia 1B                   4.0                  50"
      ]
     },
     "execution_count": 49,
     "metadata": {},
     "output_type": "execute_result"
    }
   ],
   "source": [
    "smaller_pythia12_math.head()"
   ]
  },
  {
   "cell_type": "markdown",
   "metadata": {},
   "source": [
    "Fit all methods that don't involve mixtures"
   ]
  },
  {
   "cell_type": "code",
   "execution_count": 50,
   "metadata": {},
   "outputs": [],
   "source": [
    "# smaller_beta_2_params = analyze.fit_beta_binomial_two_parameters_to_num_samples_and_num_successes(smaller_pythia12_math)\n",
    "# smaller_beta_2_params_stable = bopt.fit_beta_binomial_two_parameters_stable(smaller_pythia12_math)\n",
    "#smaller_beta_3_params = analyze.fit_beta_binomial_three_parameters_to_num_samples_and_num_successes(smaller_pythia12_math)\n",
    "# smaller_beta_3_params_stable = bopt.fit_beta_binomial_three_parameters_stable(smaller_pythia12_math)\n",
    "smaller_beta_3_discretized_params = analyze.fit_discretized_beta_three_parameters_to_num_samples_and_num_successes(smaller_pythia12_math)"
   ]
  },
  {
   "cell_type": "code",
   "execution_count": 51,
   "metadata": {},
   "outputs": [],
   "source": [
    "# smaller_beta_3_params_stable"
   ]
  },
  {
   "cell_type": "markdown",
   "metadata": {},
   "source": [
    "Compute the original OpenAI method"
   ]
  },
  {
   "cell_type": "code",
   "execution_count": 52,
   "metadata": {},
   "outputs": [
    {
     "data": {
      "text/plain": [
       "[<matplotlib.lines.Line2D at 0x2ac6905f0>]"
      ]
     },
     "execution_count": 52,
     "metadata": {},
     "output_type": "execute_result"
    },
    {
     "data": {
      "image/png": "[encoded data removed]",
      "text/plain": [
       "<Figure size 640x480 with 1 Axes>"
      ]
     },
     "metadata": {},
     "output_type": "display_data"
    }
   ],
   "source": [
    "#original estimator\n",
    "ks_fit = np.array([i for i in range(1, samples)])\n",
    "pass_at_ks = analyze.compute_pass_at_k_from_num_samples_and_num_successes_df(smaller_pythia12_math, ks_fit)\n",
    "pass_at_ks = pass_at_ks.groupby('Scaling Parameter')['Score'].mean()\n",
    "model = LinearRegression(fit_intercept=True)\n",
    "model.fit(np.log(ks_fit).reshape(-1,1), -np.log(pass_at_ks))\n",
    "plt.scatter(np.log(ks_fit), -np.log(pass_at_ks))\n",
    "plt.plot(np.log(ks_fit), model.predict(np.log(ks_fit).reshape(-1,1)))"
   ]
  },
  {
   "cell_type": "markdown",
   "metadata": {},
   "source": [
    "Compute beta-binomial mixture parameters"
   ]
  },
  {
   "cell_type": "code",
   "execution_count": 53,
   "metadata": {},
   "outputs": [],
   "source": [
    "# n_distr = 1\n",
    "# beta_mixture = BEM.beta_binom_mixture(n_distr=n_distr, num_successes= smaller_pythia12_math['Num. Samples Correct'], num_trials=smaller_pythia12_math['Num. Samples Total'])\n",
    "# beta_mixture_params = beta_mixture.fit_mixture()\n",
    "#beta_mixture_params = EM.fit_beta_binomial_mixture_em(smaller_pythia12_math['Num. Samples Total'], smaller_pythia12_math['Num. Samples Correct'], n_distr)"
   ]
  },
  {
   "cell_type": "markdown",
   "metadata": {},
   "source": [
    "Sample efficiently by always sampling the question with the lowest success probability so far"
   ]
  },
  {
   "cell_type": "code",
   "execution_count": 54,
   "metadata": {},
   "outputs": [
    {
     "ename": "NameError",
     "evalue": "name 'pythia12_math' is not defined",
     "output_type": "error",
     "traceback": [
      "\u001b[0;31m---------------------------------------------------------------------------\u001b[0m",
      "\u001b[0;31mNameError\u001b[0m                                 Traceback (most recent call last)",
      "Cell \u001b[0;32mIn[54], line 5\u001b[0m\n\u001b[1;32m      3\u001b[0m heap \u001b[38;5;241m=\u001b[39m []\n\u001b[1;32m      4\u001b[0m heapq\u001b[38;5;241m.\u001b[39mheapify(heap)\n\u001b[0;32m----> 5\u001b[0m budget \u001b[38;5;241m=\u001b[39m samples\u001b[38;5;241m*\u001b[39m\u001b[38;5;28mlen\u001b[39m(\u001b[43mpythia12_math\u001b[49m)\n\u001b[1;32m      6\u001b[0m results \u001b[38;5;241m=\u001b[39m []\n\u001b[1;32m      7\u001b[0m \u001b[38;5;28;01mfor\u001b[39;00m ele \u001b[38;5;129;01min\u001b[39;00m individual_data_model[\u001b[38;5;124m'\u001b[39m\u001b[38;5;124mProblem Idx\u001b[39m\u001b[38;5;124m'\u001b[39m]\u001b[38;5;241m.\u001b[39munique():\n",
      "\u001b[0;31mNameError\u001b[0m: name 'pythia12_math' is not defined"
     ]
    }
   ],
   "source": [
    "individual_data_model = model_ind_full\n",
    "\n",
    "heap = []\n",
    "heapq.heapify(heap)\n",
    "budget = samples*len(pythia12_math)\n",
    "results = []\n",
    "for ele in individual_data_model['Problem Idx'].unique():\n",
    "    heapq.heappush(heap, (0, ele))\n",
    "total_samples = 0\n",
    "while total_samples < budget:\n",
    "    total_samples += 1\n",
    "    attempts, index = heapq.heappop(heap)\n",
    "    attempt_index = attempts + 1\n",
    "    \n",
    "    # Check if this attempt exists\n",
    "    filtered_data = individual_data_model[\n",
    "        (individual_data_model['Problem Idx'] == index) & \n",
    "        (individual_data_model['Attempt Idx'] == attempt_index)\n",
    "    ]\n",
    "    \n",
    "    if filtered_data.empty:\n",
    "        continue  # Skip if no data for this attempt\n",
    "        \n",
    "    score = filtered_data['Score'].iloc[0]\n",
    "    attempts += 1\n",
    "    \n",
    "    if score == 0:\n",
    "        heapq.heappush(heap, (attempts, index))  # Fixed: use 'index' not 'ele'\n",
    "    else:\n",
    "        results.append({'Problem Idx': index, 'Num. Samples Total': attempts, 'Num. Samples Correct': 1})\n",
    "while heap:\n",
    "    attempts, index = heapq.heappop(heap)\n",
    "    results.append({'Problem Idx': index, 'Num. Samples Total': attempts, 'Num. Samples Correct': 0})\n",
    "efficient_data = pd.DataFrame(results)"
   ]
  },
  {
   "cell_type": "code",
   "execution_count": 55,
   "metadata": {},
   "outputs": [
    {
     "ename": "NameError",
     "evalue": "name 'budget' is not defined",
     "output_type": "error",
     "traceback": [
      "\u001b[0;31m---------------------------------------------------------------------------\u001b[0m",
      "\u001b[0;31mNameError\u001b[0m                                 Traceback (most recent call last)",
      "Cell \u001b[0;32mIn[55], line 1\u001b[0m\n\u001b[0;32m----> 1\u001b[0m \u001b[43mbudget\u001b[49m\n",
      "\u001b[0;31mNameError\u001b[0m: name 'budget' is not defined"
     ]
    }
   ],
   "source": [
    "budget"
   ]
  },
  {
   "cell_type": "code",
   "execution_count": 56,
   "metadata": {},
   "outputs": [
    {
     "data": {
      "text/html": [
       "<div>\n",
       "<style scoped>\n",
       "    .dataframe tbody tr th:only-of-type {\n",
       "        vertical-align: middle;\n",
       "    }\n",
       "\n",
       "    .dataframe tbody tr th {\n",
       "        vertical-align: top;\n",
       "    }\n",
       "\n",
       "    .dataframe thead th {\n",
       "        text-align: right;\n",
       "    }\n",
       "</style>\n",
       "<table border=\"1\" class=\"dataframe\">\n",
       "  <thead>\n",
       "    <tr style=\"text-align: right;\">\n",
       "      <th></th>\n",
       "      <th>Problem Idx</th>\n",
       "      <th>Attempt Idx</th>\n",
       "      <th>Score</th>\n",
       "      <th>Benchmark</th>\n",
       "      <th>Model</th>\n",
       "    </tr>\n",
       "  </thead>\n",
       "  <tbody>\n",
       "  </tbody>\n",
       "</table>\n",
       "</div>"
      ],
      "text/plain": [
       "Empty DataFrame\n",
       "Columns: [Problem Idx, Attempt Idx, Score, Benchmark, Model]\n",
       "Index: []"
      ]
     },
     "execution_count": 56,
     "metadata": {},
     "output_type": "execute_result"
    }
   ],
   "source": [
    "individual_data_model[individual_data_model['Problem Idx'] == 131]"
   ]
  },
  {
   "cell_type": "code",
   "execution_count": 57,
   "metadata": {},
   "outputs": [
    {
     "ename": "NameError",
     "evalue": "name 'pythia12_math' is not defined",
     "output_type": "error",
     "traceback": [
      "\u001b[0;31m---------------------------------------------------------------------------\u001b[0m",
      "\u001b[0;31mNameError\u001b[0m                                 Traceback (most recent call last)",
      "Cell \u001b[0;32mIn[57], line 6\u001b[0m\n\u001b[1;32m      4\u001b[0m heap \u001b[38;5;241m=\u001b[39m []\n\u001b[1;32m      5\u001b[0m heapq\u001b[38;5;241m.\u001b[39mheapify(heap)\n\u001b[0;32m----> 6\u001b[0m budget \u001b[38;5;241m=\u001b[39m samples\u001b[38;5;241m*\u001b[39m\u001b[38;5;28mlen\u001b[39m(\u001b[43mpythia12_math\u001b[49m)\n\u001b[1;32m      7\u001b[0m results \u001b[38;5;241m=\u001b[39m []\n\u001b[1;32m      8\u001b[0m starting_distr \u001b[38;5;241m=\u001b[39m [] \u001b[38;5;66;03m#(1, 1, 0, index) for index in individual_data_model['Problem Idx'].unique()]\u001b[39;00m\n",
      "\u001b[0;31mNameError\u001b[0m: name 'pythia12_math' is not defined"
     ]
    }
   ],
   "source": [
    "#version with thompson sampling\n",
    "individual_data_model = model_ind_full\n",
    "\n",
    "heap = []\n",
    "heapq.heapify(heap)\n",
    "budget = samples*len(pythia12_math)\n",
    "results = []\n",
    "starting_distr = [] #(1, 1, 0, index) for index in individual_data_model['Problem Idx'].unique()]\n",
    "\n",
    "total_samples = 0\n",
    "for problem in individual_data_model['Problem Idx'].unique():\n",
    "\n",
    "    #get first sample from every problem so that we can still estimate\n",
    "    filtered_data = individual_data_model[\n",
    "        (individual_data_model['Problem Idx'] == problem) & \n",
    "        (individual_data_model['Attempt Idx'] == 1)\n",
    "    ]\n",
    "    score = filtered_data['Score'].iloc[0]\n",
    "    #alpha, beta, attempts\n",
    "    starting_distr.append((1+score, 2-score, 1, problem))\n",
    "    total_samples += 1    \n",
    "\n",
    "\n",
    "while total_samples < budget:\n",
    "    draws = []\n",
    "    for i, ele in enumerate(starting_distr):\n",
    "        draws.append(np.random.beta(ele[0], ele[1]))\n",
    "    # draws.append([-1]) # just so that the median is in the dataframe\n",
    "    draws = np.array(draws)\n",
    "    med = np.median(draws)\n",
    "    print(draws)\n",
    "    print(med)\n",
    "    m = np.argmax(draws == med)\n",
    "    print(m)\n",
    "\n",
    "    alpha, beta, attempts, index = starting_distr[m]\n",
    "\n",
    "    \n",
    "    #choose the one with the minimum sample value\n",
    "        \n",
    "    attempts += 1\n",
    "    # Check if this attempt exists\n",
    "    filtered_data = individual_data_model[\n",
    "        (individual_data_model['Problem Idx'] == index) & \n",
    "        (individual_data_model['Attempt Idx'] == attempts)\n",
    "    ]\n",
    "\n",
    "    \n",
    "    if filtered_data.empty:\n",
    "        print(f'problem index: {index}')\n",
    "        print(f'attempt index: {attempts}')\n",
    "        continue  # Skip if no data for this attempt\n",
    "    else:\n",
    "        total_samples +=1\n",
    "            \n",
    "        score = filtered_data['Score'].iloc[0]\n",
    "\n",
    "        \n",
    "        starting_distr[m] = (alpha + score, beta+ (1-score), attempts, index)\n",
    "for ele in starting_distr:\n",
    "    results.append({'Problem Idx': ele[-1], 'Num. Samples Total': ele[-2], 'Num. Samples Correct': ele[0]-1})\n",
    "efficient_data = pd.DataFrame(results)\n"
   ]
  },
  {
   "cell_type": "code",
   "execution_count": 58,
   "metadata": {},
   "outputs": [
    {
     "ename": "NameError",
     "evalue": "name 'draws' is not defined",
     "output_type": "error",
     "traceback": [
      "\u001b[0;31m---------------------------------------------------------------------------\u001b[0m",
      "\u001b[0;31mNameError\u001b[0m                                 Traceback (most recent call last)",
      "Cell \u001b[0;32mIn[58], line 1\u001b[0m\n\u001b[0;32m----> 1\u001b[0m \u001b[38;5;28mprint\u001b[39m(\u001b[38;5;28mlen\u001b[39m(\u001b[43mdraws\u001b[49m))\n",
      "\u001b[0;31mNameError\u001b[0m: name 'draws' is not defined"
     ]
    }
   ],
   "source": [
    "print(len(draws))"
   ]
  },
  {
   "cell_type": "code",
   "execution_count": 59,
   "metadata": {},
   "outputs": [
    {
     "data": {
      "text/plain": [
       "311.0"
      ]
     },
     "execution_count": 59,
     "metadata": {},
     "output_type": "execute_result"
    }
   ],
   "source": [
    "smaller_pythia12_math['Num. Samples Correct'].sum()"
   ]
  },
  {
   "cell_type": "code",
   "execution_count": 60,
   "metadata": {},
   "outputs": [
    {
     "ename": "NameError",
     "evalue": "name 'efficient_data' is not defined",
     "output_type": "error",
     "traceback": [
      "\u001b[0;31m---------------------------------------------------------------------------\u001b[0m",
      "\u001b[0;31mNameError\u001b[0m                                 Traceback (most recent call last)",
      "Cell \u001b[0;32mIn[60], line 1\u001b[0m\n\u001b[0;32m----> 1\u001b[0m plt\u001b[38;5;241m.\u001b[39mhist(\u001b[43mefficient_data\u001b[49m[\u001b[38;5;124m'\u001b[39m\u001b[38;5;124mNum. Samples Total\u001b[39m\u001b[38;5;124m'\u001b[39m], bins\u001b[38;5;241m=\u001b[39m\u001b[38;5;241m100\u001b[39m)\n",
      "\u001b[0;31mNameError\u001b[0m: name 'efficient_data' is not defined"
     ]
    }
   ],
   "source": [
    "plt.hist(efficient_data['Num. Samples Total'], bins=100)"
   ]
  },
  {
   "cell_type": "markdown",
   "metadata": {},
   "source": [
    "Fit geometric mixture"
   ]
  },
  {
   "cell_type": "code",
   "execution_count": 61,
   "metadata": {},
   "outputs": [
    {
     "ename": "NameError",
     "evalue": "name 'efficient_data' is not defined",
     "output_type": "error",
     "traceback": [
      "\u001b[0;31m---------------------------------------------------------------------------\u001b[0m",
      "\u001b[0;31mNameError\u001b[0m                                 Traceback (most recent call last)",
      "Cell \u001b[0;32mIn[61], line 3\u001b[0m\n\u001b[1;32m      1\u001b[0m \u001b[38;5;66;03m#beta 2 geometric\u001b[39;00m\n\u001b[1;32m      2\u001b[0m n_distr \u001b[38;5;241m=\u001b[39m \u001b[38;5;241m1\u001b[39m\n\u001b[0;32m----> 3\u001b[0m geom_mix \u001b[38;5;241m=\u001b[39m bemg\u001b[38;5;241m.\u001b[39mbeta_geometric_mixture(n_distr\u001b[38;5;241m=\u001b[39mn_distr, num_successes \u001b[38;5;241m=\u001b[39m \u001b[43mefficient_data\u001b[49m[\u001b[38;5;124m'\u001b[39m\u001b[38;5;124mNum. Samples Correct\u001b[39m\u001b[38;5;124m'\u001b[39m], num_trials \u001b[38;5;241m=\u001b[39m efficient_data[\u001b[38;5;124m'\u001b[39m\u001b[38;5;124mNum. Samples Total\u001b[39m\u001b[38;5;124m'\u001b[39m])\n\u001b[1;32m      4\u001b[0m \u001b[38;5;66;03m# geom_params = geom_mix.fit_mixture()\u001b[39;00m\n\u001b[1;32m      5\u001b[0m geom_params \u001b[38;5;241m=\u001b[39m analyze\u001b[38;5;241m.\u001b[39mfit_beta_binomial_two_parameters_to_num_samples_and_num_successes(efficient_data)\n",
      "\u001b[0;31mNameError\u001b[0m: name 'efficient_data' is not defined"
     ]
    }
   ],
   "source": [
    "#beta 2 geometric\n",
    "n_distr = 1\n",
    "geom_mix = bemg.beta_geometric_mixture(n_distr=n_distr, num_successes = efficient_data['Num. Samples Correct'], num_trials = efficient_data['Num. Samples Total'])\n",
    "# geom_params = geom_mix.fit_mixture()\n",
    "geom_params = analyze.fit_beta_binomial_two_parameters_to_num_samples_and_num_successes(efficient_data)\n",
    "geom_preds = [compute_estimate(geom_params, k) for k in ks]\n",
    "beta_std_params = analyze.fit_beta_binomial_two_parameters_to_num_samples_and_num_successes(smaller_pythia12_math)\n",
    "beta_std_preds = [compute_estimate(beta_std_params, k) for k in ks]\n",
    "#beta 3 geometric\n",
    "# smaller_beta_3_params_geometric_stable = bopt.fit_beta_binomial_three_parameters_stable(efficient_data)\n"
   ]
  },
  {
   "cell_type": "markdown",
   "metadata": {},
   "source": [
    "Compute p@k estimates"
   ]
  },
  {
   "cell_type": "code",
   "execution_count": 62,
   "metadata": {},
   "outputs": [
    {
     "ename": "NameError",
     "evalue": "name 'pythia12_math' is not defined",
     "output_type": "error",
     "traceback": [
      "\u001b[0;31m---------------------------------------------------------------------------\u001b[0m",
      "\u001b[0;31mNameError\u001b[0m                                 Traceback (most recent call last)",
      "Cell \u001b[0;32mIn[62], line 1\u001b[0m\n\u001b[0;32m----> 1\u001b[0m pass_at_ks \u001b[38;5;241m=\u001b[39m compute_p_at_ks(\u001b[43mpythia12_math\u001b[49m, ks)\n",
      "\u001b[0;31mNameError\u001b[0m: name 'pythia12_math' is not defined"
     ]
    }
   ],
   "source": [
    "pass_at_ks = compute_p_at_ks(pythia12_math, ks)"
   ]
  },
  {
   "cell_type": "markdown",
   "metadata": {},
   "source": [
    "Compute estimates for all methods"
   ]
  },
  {
   "cell_type": "code",
   "execution_count": 44,
   "metadata": {},
   "outputs": [],
   "source": [
    "#openai regression predictions\n",
    "X = ks.reshape(-1,1)\n",
    "regression_predictions = np.exp(-model.predict(np.log(X)))\n",
    "#beta discretized estimates\n",
    "beta_estimates = [compute_estimate(smaller_beta_3_discretized_params, k) for k in ks] \n",
    "#2-param binomial mixture\n",
    "# mixture_estimates = [compute_estimates_better_mixture(smaller_pythia12_math, beta_mixture_params, k, n_distr) for k in ks]\n",
    "#3-param binomial \n",
    "# beta_3_stable_estimates_better = [compute_estimates_three_param(smaller_pythia12_math, smaller_beta_3_params_stable, k) for k in ks] \n",
    "#3-param geometric\n",
    "# three_param_geom_estimates = [bemg.compute_estimates_better_three_param_geometric(efficient_data, smaller_beta_3_params_geometric_stable, k) for k in ks]\n",
    "#2-param geometric\n",
    "# geom_correct_estimates = [bemg.compute_estimates_better_mixture_geometric(efficient_data, geom_params, k, n_distr) for k in ks]"
   ]
  },
  {
   "cell_type": "markdown",
   "metadata": {},
   "source": [
    "Make a graph of the fits"
   ]
  },
  {
   "cell_type": "code",
   "execution_count": 45,
   "metadata": {},
   "outputs": [
    {
     "ename": "NameError",
     "evalue": "name 'geom_preds' is not defined",
     "output_type": "error",
     "traceback": [
      "\u001b[0;31m---------------------------------------------------------------------------\u001b[0m",
      "\u001b[0;31mNameError\u001b[0m                                 Traceback (most recent call last)",
      "Cell \u001b[0;32mIn[45], line 4\u001b[0m\n\u001b[1;32m      2\u001b[0m \u001b[38;5;66;03m# plt.plot(ks, mixture_estimates, label = 'Beta-Binomial')\u001b[39;00m\n\u001b[1;32m      3\u001b[0m plt\u001b[38;5;241m.\u001b[39mplot(ks, np\u001b[38;5;241m.\u001b[39mclip(regression_predictions, \u001b[38;5;241m0\u001b[39m, \u001b[38;5;241m1\u001b[39m), label \u001b[38;5;241m=\u001b[39m \u001b[38;5;124m\"\u001b[39m\u001b[38;5;124mRegression (clipped at 1)\u001b[39m\u001b[38;5;124m\"\u001b[39m)\n\u001b[0;32m----> 4\u001b[0m plt\u001b[38;5;241m.\u001b[39mplot(ks, np\u001b[38;5;241m.\u001b[39mclip(\u001b[43mgeom_preds\u001b[49m, \u001b[38;5;241m0\u001b[39m, \u001b[38;5;241m1\u001b[39m), label \u001b[38;5;241m=\u001b[39m \u001b[38;5;124m\"\u001b[39m\u001b[38;5;124mBeta w Dynamic Sampling (Ours)\u001b[39m\u001b[38;5;124m\"\u001b[39m, linewidth\u001b[38;5;241m=\u001b[39m\u001b[38;5;241m4\u001b[39m, color\u001b[38;5;241m=\u001b[39m\u001b[38;5;124m'\u001b[39m\u001b[38;5;124mred\u001b[39m\u001b[38;5;124m'\u001b[39m, linestyle\u001b[38;5;241m=\u001b[39m\u001b[38;5;124m'\u001b[39m\u001b[38;5;124m-\u001b[39m\u001b[38;5;124m'\u001b[39m, markeredgecolor\u001b[38;5;241m=\u001b[39m\u001b[38;5;124m'\u001b[39m\u001b[38;5;124mdarkred\u001b[39m\u001b[38;5;124m'\u001b[39m)\n\u001b[1;32m      5\u001b[0m plt\u001b[38;5;241m.\u001b[39mplot(ks, beta_std_preds, label \u001b[38;5;241m=\u001b[39m \u001b[38;5;124m'\u001b[39m\u001b[38;5;124mbeta_std_preds\u001b[39m\u001b[38;5;124m'\u001b[39m)\n\u001b[1;32m      6\u001b[0m \u001b[38;5;66;03m# plt.plot(ks, beta_3_stable_estimates_better, label = 'Scaled Beta-Binomial')\u001b[39;00m\n\u001b[1;32m      7\u001b[0m \u001b[38;5;66;03m# plt.plot(ks, three_param_geom_estimates, label = 'Scaled Beta w Dynamic Sampling')\u001b[39;00m\n",
      "\u001b[0;31mNameError\u001b[0m: name 'geom_preds' is not defined"
     ]
    },
    {
     "data": {
      "image/png": "[encoded data removed]",
      "text/plain": [
       "<Figure size 640x480 with 1 Axes>"
      ]
     },
     "metadata": {},
     "output_type": "display_data"
    }
   ],
   "source": [
    "\n",
    "plt.plot(ks, beta_estimates, label = 'Discretized Beta')\n",
    "# plt.plot(ks, mixture_estimates, label = 'Beta-Binomial')\n",
    "plt.plot(ks, np.clip(regression_predictions, 0, 1), label = \"Regression (clipped at 1)\")\n",
    "plt.plot(ks, np.clip(geom_preds, 0, 1), label = \"Beta w Dynamic Sampling (Ours)\", linewidth=4, color='red', linestyle='-', markeredgecolor='darkred')\n",
    "plt.plot(ks, beta_std_preds, label = 'beta_std_preds')\n",
    "# plt.plot(ks, beta_3_stable_estimates_better, label = 'Scaled Beta-Binomial')\n",
    "# plt.plot(ks, three_param_geom_estimates, label = 'Scaled Beta w Dynamic Sampling')\n",
    "plt.plot(ks, pass_at_ks, label = 'Pass@k Estimate w 10k Samples', linewidth=4, color='black', linestyle='dashed')\n",
    "plt.title(f'Estimates of Pass@k for {model_name}')\n",
    "plt.ylabel('Pass@k')\n",
    "plt.xlabel('log(k)')\n",
    "plt.xscale('log')\n",
    "plt.legend(bbox_to_anchor=(1.05, 1), loc='upper left')"
   ]
  },
  {
   "cell_type": "code",
   "execution_count": 1107,
   "metadata": {},
   "outputs": [
    {
     "data": {
      "text/plain": [
       "(array([102.,   0.,   0.,   0.,   0.,   0.,   0.,   0.,   0.,   0.,   0.,\n",
       "          0.,   0.,   0.,   0.,   0.,   0.,   0.,   0.,   0.,   0.,   0.,\n",
       "          0.,   0.,   0.,   0.,   0.,   0.,   0.,   0.,   0.,   0.,   0.,\n",
       "          0.,   0.,   0.,   0.,   0.,   0.,   0.,   0.,   0.,   0.,   0.,\n",
       "          0.,   0.,   0.,   0.,   0.,   0.,   0.,   0.,   0.,   0.,   0.,\n",
       "          0.,   0.,   0.,   0.,   0.,   0.,   0.,   0.,   0.,   0.,   0.,\n",
       "          0.,   0.,   0.,   0.,   0.,   0.,   0.,   0.,   0.,   0.,   0.,\n",
       "          0.,   0.,   0.,   0.,   0.,   0.,   0.,   0.,   0.,   0.,   0.,\n",
       "          0.,   0.,   0.,   0.,   0.,   0.,   0.,   0.,   0.,   0.,   0.,\n",
       "         26.]),\n",
       " array([0.  , 0.01, 0.02, 0.03, 0.04, 0.05, 0.06, 0.07, 0.08, 0.09, 0.1 ,\n",
       "        0.11, 0.12, 0.13, 0.14, 0.15, 0.16, 0.17, 0.18, 0.19, 0.2 , 0.21,\n",
       "        0.22, 0.23, 0.24, 0.25, 0.26, 0.27, 0.28, 0.29, 0.3 , 0.31, 0.32,\n",
       "        0.33, 0.34, 0.35, 0.36, 0.37, 0.38, 0.39, 0.4 , 0.41, 0.42, 0.43,\n",
       "        0.44, 0.45, 0.46, 0.47, 0.48, 0.49, 0.5 , 0.51, 0.52, 0.53, 0.54,\n",
       "        0.55, 0.56, 0.57, 0.58, 0.59, 0.6 , 0.61, 0.62, 0.63, 0.64, 0.65,\n",
       "        0.66, 0.67, 0.68, 0.69, 0.7 , 0.71, 0.72, 0.73, 0.74, 0.75, 0.76,\n",
       "        0.77, 0.78, 0.79, 0.8 , 0.81, 0.82, 0.83, 0.84, 0.85, 0.86, 0.87,\n",
       "        0.88, 0.89, 0.9 , 0.91, 0.92, 0.93, 0.94, 0.95, 0.96, 0.97, 0.98,\n",
       "        0.99, 1.  ]),\n",
       " <BarContainer object of 100 artists>)"
      ]
     },
     "execution_count": 1107,
     "metadata": {},
     "output_type": "execute_result"
    },
    {
     "data": {
      "image/png": "[encoded data removed]",
      "text/plain": [
       "<Figure size 640x480 with 1 Axes>"
      ]
     },
     "metadata": {},
     "output_type": "display_data"
    }
   ],
   "source": [
    "plt.hist(efficient_data['Num. Samples Correct'], bins = 100)"
   ]
  },
  {
   "cell_type": "code",
   "execution_count": 1108,
   "metadata": {},
   "outputs": [
    {
     "data": {
      "text/plain": [
       "26.0"
      ]
     },
     "execution_count": 1108,
     "metadata": {},
     "output_type": "execute_result"
    }
   ],
   "source": [
    "efficient_data['Num. Samples Correct'].sum()"
   ]
  },
  {
   "cell_type": "code",
   "execution_count": 1109,
   "metadata": {},
   "outputs": [
    {
     "data": {
      "text/plain": [
       "46.0"
      ]
     },
     "execution_count": 1109,
     "metadata": {},
     "output_type": "execute_result"
    }
   ],
   "source": [
    "smaller_pythia12_math['Num. Samples Correct'].sum()"
   ]
  },
  {
   "cell_type": "code",
   "execution_count": 1110,
   "metadata": {},
   "outputs": [],
   "source": [
    "def compute_error(pass_at_ks, estimates):\n",
    "    return np.mean((pass_at_ks - estimates)**2)\n",
    "    "
   ]
  },
  {
   "cell_type": "code",
   "execution_count": 1111,
   "metadata": {},
   "outputs": [
    {
     "data": {
      "text/plain": [
       "0.0702611600487223"
      ]
     },
     "execution_count": 1111,
     "metadata": {},
     "output_type": "execute_result"
    }
   ],
   "source": [
    "compute_error(beta_estimates, pass_at_ks)"
   ]
  },
  {
   "cell_type": "code",
   "execution_count": 1112,
   "metadata": {},
   "outputs": [
    {
     "data": {
      "text/plain": [
       "22.91201718394807"
      ]
     },
     "execution_count": 1112,
     "metadata": {},
     "output_type": "execute_result"
    }
   ],
   "source": [
    "compute_error(regression_predictions, pass_at_ks)"
   ]
  },
  {
   "cell_type": "code",
   "execution_count": 1113,
   "metadata": {},
   "outputs": [
    {
     "data": {
      "text/plain": [
       "Problem Idx\n",
       "82       548.0\n",
       "142      243.0\n",
       "188      412.0\n",
       "201       10.0\n",
       "240     8491.0\n",
       "         ...  \n",
       "4861     554.0\n",
       "4895       0.0\n",
       "4907       0.0\n",
       "4975       1.0\n",
       "4988       0.0\n",
       "Name: Score, Length: 128, dtype: float32"
      ]
     },
     "execution_count": 1113,
     "metadata": {},
     "output_type": "execute_result"
    }
   ],
   "source": [
    "individual_data.groupby(by = 'Problem Idx')['Score'].sum()"
   ]
  },
  {
   "cell_type": "code",
   "execution_count": 1114,
   "metadata": {},
   "outputs": [
    {
     "ename": "NameError",
     "evalue": "name 'shuffled_data' is not defined",
     "output_type": "error",
     "traceback": [
      "\u001b[0;31m---------------------------------------------------------------------------\u001b[0m",
      "\u001b[0;31mNameError\u001b[0m                                 Traceback (most recent call last)",
      "Cell \u001b[0;32mIn[1114], line 1\u001b[0m\n\u001b[0;32m----> 1\u001b[0m \u001b[43mshuffled_data\u001b[49m[shuffled_data[\u001b[38;5;124m'\u001b[39m\u001b[38;5;124mProblem Idx\u001b[39m\u001b[38;5;124m'\u001b[39m] \u001b[38;5;241m==\u001b[39m \u001b[38;5;241m4\u001b[39m]\n",
      "\u001b[0;31mNameError\u001b[0m: name 'shuffled_data' is not defined"
     ]
    }
   ],
   "source": [
    "shuffled_data[shuffled_data['Problem Idx'] == 4]"
   ]
  },
  {
   "cell_type": "code",
   "execution_count": null,
   "metadata": {},
   "outputs": [
    {
     "data": {
      "text/html": [
       "<div>\n",
       "<style scoped>\n",
       "    .dataframe tbody tr th:only-of-type {\n",
       "        vertical-align: middle;\n",
       "    }\n",
       "\n",
       "    .dataframe tbody tr th {\n",
       "        vertical-align: top;\n",
       "    }\n",
       "\n",
       "    .dataframe thead th {\n",
       "        text-align: right;\n",
       "    }\n",
       "</style>\n",
       "<table border=\"1\" class=\"dataframe\">\n",
       "  <thead>\n",
       "    <tr style=\"text-align: right;\">\n",
       "      <th></th>\n",
       "      <th>Problem Idx</th>\n",
       "      <th>Attempt Idx</th>\n",
       "      <th>Score</th>\n",
       "      <th>Benchmark</th>\n",
       "      <th>Model</th>\n",
       "    </tr>\n",
       "  </thead>\n",
       "  <tbody>\n",
       "  </tbody>\n",
       "</table>\n",
       "</div>"
      ],
      "text/plain": [
       "Empty DataFrame\n",
       "Columns: [Problem Idx, Attempt Idx, Score, Benchmark, Model]\n",
       "Index: []"
      ]
     },
     "execution_count": 141,
     "metadata": {},
     "output_type": "execute_result"
    }
   ],
   "source": [
    "individual_data[individual_data['Problem Idx'] == 4]"
   ]
  },
  {
   "cell_type": "code",
   "execution_count": null,
   "metadata": {},
   "outputs": [],
   "source": [
    "data = pd.read_csv('notebooks/statistical_analysis/data/processed_data/jailbreaking_shuffled.csv')"
   ]
  },
  {
   "cell_type": "code",
   "execution_count": null,
   "metadata": {},
   "outputs": [
    {
     "data": {
      "text/plain": [
       "4806"
      ]
     },
     "execution_count": 86,
     "metadata": {},
     "output_type": "execute_result"
    }
   ],
   "source": [
    "len(data)"
   ]
  },
  {
   "cell_type": "code",
   "execution_count": null,
   "metadata": {},
   "outputs": [
    {
     "data": {
      "text/plain": [
       "alpha                 0.013109\n",
       "beta                  0.336569\n",
       "loc                        0.0\n",
       "scale                      0.3\n",
       "neg_log_likelihood    0.151565\n",
       "success                Success\n",
       "dtype: object"
      ]
     },
     "execution_count": 87,
     "metadata": {},
     "output_type": "execute_result"
    }
   ],
   "source": [
    "smaller_beta_3_discretized_params"
   ]
  },
  {
   "cell_type": "code",
   "execution_count": null,
   "metadata": {},
   "outputs": [
    {
     "data": {
      "text/plain": [
       "alpha                  0.301948\n",
       "beta                  25.522451\n",
       "loc                    0.000000\n",
       "scale                  1.000000\n",
       "neg_log_likelihood     0.364781\n",
       "aic                    4.729561\n",
       "bic                   10.433622\n",
       "Power Law Exponent     0.301948\n",
       "dtype: float64"
      ]
     },
     "execution_count": 88,
     "metadata": {},
     "output_type": "execute_result"
    }
   ],
   "source": [
    "geom_params\n"
   ]
  },
  {
   "cell_type": "code",
   "execution_count": null,
   "metadata": {},
   "outputs": [],
   "source": [
    "def convert_geom_params(geom_params):\n",
    "    ret = pd.Series({\n",
    "        'alpha': geom_params['alpha_0'],\n",
    "        'beta': geom_params['beta_0'],\n",
    "        'loc': 0.0,\n",
    "        'scale': 0\n",
    "    })\n",
    "    return ret"
   ]
  },
  {
   "cell_type": "code",
   "execution_count": null,
   "metadata": {},
   "outputs": [
    {
     "ename": "KeyError",
     "evalue": "'alpha_0'",
     "output_type": "error",
     "traceback": [
      "\u001b[0;31m---------------------------------------------------------------------------\u001b[0m",
      "\u001b[0;31mKeyError\u001b[0m                                  Traceback (most recent call last)",
      "File \u001b[0;32m~/miniforge3/envs/finance/lib/python3.12/site-packages/pandas/core/indexes/base.py:3805\u001b[0m, in \u001b[0;36mIndex.get_loc\u001b[0;34m(self, key)\u001b[0m\n\u001b[1;32m   3804\u001b[0m \u001b[38;5;28;01mtry\u001b[39;00m:\n\u001b[0;32m-> 3805\u001b[0m     \u001b[38;5;28;01mreturn\u001b[39;00m \u001b[38;5;28;43mself\u001b[39;49m\u001b[38;5;241;43m.\u001b[39;49m\u001b[43m_engine\u001b[49m\u001b[38;5;241;43m.\u001b[39;49m\u001b[43mget_loc\u001b[49m\u001b[43m(\u001b[49m\u001b[43mcasted_key\u001b[49m\u001b[43m)\u001b[49m\n\u001b[1;32m   3806\u001b[0m \u001b[38;5;28;01mexcept\u001b[39;00m \u001b[38;5;167;01mKeyError\u001b[39;00m \u001b[38;5;28;01mas\u001b[39;00m err:\n",
      "File \u001b[0;32mindex.pyx:167\u001b[0m, in \u001b[0;36mpandas._libs.index.IndexEngine.get_loc\u001b[0;34m()\u001b[0m\n",
      "File \u001b[0;32mindex.pyx:196\u001b[0m, in \u001b[0;36mpandas._libs.index.IndexEngine.get_loc\u001b[0;34m()\u001b[0m\n",
      "File \u001b[0;32mpandas/_libs/hashtable_class_helper.pxi:7081\u001b[0m, in \u001b[0;36mpandas._libs.hashtable.PyObjectHashTable.get_item\u001b[0;34m()\u001b[0m\n",
      "File \u001b[0;32mpandas/_libs/hashtable_class_helper.pxi:7089\u001b[0m, in \u001b[0;36mpandas._libs.hashtable.PyObjectHashTable.get_item\u001b[0;34m()\u001b[0m\n",
      "\u001b[0;31mKeyError\u001b[0m: 'alpha_0'",
      "\nThe above exception was the direct cause of the following exception:\n",
      "\u001b[0;31mKeyError\u001b[0m                                  Traceback (most recent call last)",
      "Cell \u001b[0;32mIn[90], line 1\u001b[0m\n\u001b[0;32m----> 1\u001b[0m \u001b[43mconvert_geom_params\u001b[49m\u001b[43m(\u001b[49m\u001b[43mgeom_params\u001b[49m\u001b[43m)\u001b[49m\n",
      "Cell \u001b[0;32mIn[89], line 3\u001b[0m, in \u001b[0;36mconvert_geom_params\u001b[0;34m(geom_params)\u001b[0m\n\u001b[1;32m      1\u001b[0m \u001b[38;5;28;01mdef\u001b[39;00m \u001b[38;5;21mconvert_geom_params\u001b[39m(geom_params):\n\u001b[1;32m      2\u001b[0m     ret \u001b[38;5;241m=\u001b[39m pd\u001b[38;5;241m.\u001b[39mSeries({\n\u001b[0;32m----> 3\u001b[0m         \u001b[38;5;124m'\u001b[39m\u001b[38;5;124malpha\u001b[39m\u001b[38;5;124m'\u001b[39m: \u001b[43mgeom_params\u001b[49m\u001b[43m[\u001b[49m\u001b[38;5;124;43m'\u001b[39;49m\u001b[38;5;124;43malpha_0\u001b[39;49m\u001b[38;5;124;43m'\u001b[39;49m\u001b[43m]\u001b[49m,\n\u001b[1;32m      4\u001b[0m         \u001b[38;5;124m'\u001b[39m\u001b[38;5;124mbeta\u001b[39m\u001b[38;5;124m'\u001b[39m: geom_params[\u001b[38;5;124m'\u001b[39m\u001b[38;5;124mbeta_0\u001b[39m\u001b[38;5;124m'\u001b[39m],\n\u001b[1;32m      5\u001b[0m         \u001b[38;5;124m'\u001b[39m\u001b[38;5;124mloc\u001b[39m\u001b[38;5;124m'\u001b[39m: \u001b[38;5;241m0.0\u001b[39m,\n\u001b[1;32m      6\u001b[0m         \u001b[38;5;124m'\u001b[39m\u001b[38;5;124mscale\u001b[39m\u001b[38;5;124m'\u001b[39m: \u001b[38;5;241m0\u001b[39m\n\u001b[1;32m      7\u001b[0m     })\n\u001b[1;32m      8\u001b[0m     \u001b[38;5;28;01mreturn\u001b[39;00m ret\n",
      "File \u001b[0;32m~/miniforge3/envs/finance/lib/python3.12/site-packages/pandas/core/series.py:1112\u001b[0m, in \u001b[0;36mSeries.__getitem__\u001b[0;34m(self, key)\u001b[0m\n\u001b[1;32m   1109\u001b[0m     \u001b[38;5;28;01mreturn\u001b[39;00m \u001b[38;5;28mself\u001b[39m\u001b[38;5;241m.\u001b[39m_values[key]\n\u001b[1;32m   1111\u001b[0m \u001b[38;5;28;01melif\u001b[39;00m key_is_scalar:\n\u001b[0;32m-> 1112\u001b[0m     \u001b[38;5;28;01mreturn\u001b[39;00m \u001b[38;5;28;43mself\u001b[39;49m\u001b[38;5;241;43m.\u001b[39;49m\u001b[43m_get_value\u001b[49m\u001b[43m(\u001b[49m\u001b[43mkey\u001b[49m\u001b[43m)\u001b[49m\n\u001b[1;32m   1114\u001b[0m \u001b[38;5;66;03m# Convert generator to list before going through hashable part\u001b[39;00m\n\u001b[1;32m   1115\u001b[0m \u001b[38;5;66;03m# (We will iterate through the generator there to check for slices)\u001b[39;00m\n\u001b[1;32m   1116\u001b[0m \u001b[38;5;28;01mif\u001b[39;00m is_iterator(key):\n",
      "File \u001b[0;32m~/miniforge3/envs/finance/lib/python3.12/site-packages/pandas/core/series.py:1228\u001b[0m, in \u001b[0;36mSeries._get_value\u001b[0;34m(self, label, takeable)\u001b[0m\n\u001b[1;32m   1225\u001b[0m     \u001b[38;5;28;01mreturn\u001b[39;00m \u001b[38;5;28mself\u001b[39m\u001b[38;5;241m.\u001b[39m_values[label]\n\u001b[1;32m   1227\u001b[0m \u001b[38;5;66;03m# Similar to Index.get_value, but we do not fall back to positional\u001b[39;00m\n\u001b[0;32m-> 1228\u001b[0m loc \u001b[38;5;241m=\u001b[39m \u001b[38;5;28;43mself\u001b[39;49m\u001b[38;5;241;43m.\u001b[39;49m\u001b[43mindex\u001b[49m\u001b[38;5;241;43m.\u001b[39;49m\u001b[43mget_loc\u001b[49m\u001b[43m(\u001b[49m\u001b[43mlabel\u001b[49m\u001b[43m)\u001b[49m\n\u001b[1;32m   1230\u001b[0m \u001b[38;5;28;01mif\u001b[39;00m is_integer(loc):\n\u001b[1;32m   1231\u001b[0m     \u001b[38;5;28;01mreturn\u001b[39;00m \u001b[38;5;28mself\u001b[39m\u001b[38;5;241m.\u001b[39m_values[loc]\n",
      "File \u001b[0;32m~/miniforge3/envs/finance/lib/python3.12/site-packages/pandas/core/indexes/base.py:3812\u001b[0m, in \u001b[0;36mIndex.get_loc\u001b[0;34m(self, key)\u001b[0m\n\u001b[1;32m   3807\u001b[0m     \u001b[38;5;28;01mif\u001b[39;00m \u001b[38;5;28misinstance\u001b[39m(casted_key, \u001b[38;5;28mslice\u001b[39m) \u001b[38;5;129;01mor\u001b[39;00m (\n\u001b[1;32m   3808\u001b[0m         \u001b[38;5;28misinstance\u001b[39m(casted_key, abc\u001b[38;5;241m.\u001b[39mIterable)\n\u001b[1;32m   3809\u001b[0m         \u001b[38;5;129;01mand\u001b[39;00m \u001b[38;5;28many\u001b[39m(\u001b[38;5;28misinstance\u001b[39m(x, \u001b[38;5;28mslice\u001b[39m) \u001b[38;5;28;01mfor\u001b[39;00m x \u001b[38;5;129;01min\u001b[39;00m casted_key)\n\u001b[1;32m   3810\u001b[0m     ):\n\u001b[1;32m   3811\u001b[0m         \u001b[38;5;28;01mraise\u001b[39;00m InvalidIndexError(key)\n\u001b[0;32m-> 3812\u001b[0m     \u001b[38;5;28;01mraise\u001b[39;00m \u001b[38;5;167;01mKeyError\u001b[39;00m(key) \u001b[38;5;28;01mfrom\u001b[39;00m \u001b[38;5;21;01merr\u001b[39;00m\n\u001b[1;32m   3813\u001b[0m \u001b[38;5;28;01mexcept\u001b[39;00m \u001b[38;5;167;01mTypeError\u001b[39;00m:\n\u001b[1;32m   3814\u001b[0m     \u001b[38;5;66;03m# If we have a listlike key, _check_indexing_error will raise\u001b[39;00m\n\u001b[1;32m   3815\u001b[0m     \u001b[38;5;66;03m#  InvalidIndexError. Otherwise we fall through and re-raise\u001b[39;00m\n\u001b[1;32m   3816\u001b[0m     \u001b[38;5;66;03m#  the TypeError.\u001b[39;00m\n\u001b[1;32m   3817\u001b[0m     \u001b[38;5;28mself\u001b[39m\u001b[38;5;241m.\u001b[39m_check_indexing_error(key)\n",
      "\u001b[0;31mKeyError\u001b[0m: 'alpha_0'"
     ]
    }
   ],
   "source": [
    "convert_geom_params(geom_params)"
   ]
  },
  {
   "cell_type": "code",
   "execution_count": null,
   "metadata": {},
   "outputs": [
    {
     "data": {
      "text/html": [
       "<div>\n",
       "<style scoped>\n",
       "    .dataframe tbody tr th:only-of-type {\n",
       "        vertical-align: middle;\n",
       "    }\n",
       "\n",
       "    .dataframe tbody tr th {\n",
       "        vertical-align: top;\n",
       "    }\n",
       "\n",
       "    .dataframe thead th {\n",
       "        text-align: right;\n",
       "    }\n",
       "</style>\n",
       "<table border=\"1\" class=\"dataframe\">\n",
       "  <thead>\n",
       "    <tr style=\"text-align: right;\">\n",
       "      <th></th>\n",
       "      <th>method</th>\n",
       "      <th>model</th>\n",
       "      <th>per_problem_budget</th>\n",
       "      <th>trial</th>\n",
       "      <th>1</th>\n",
       "      <th>2</th>\n",
       "      <th>3</th>\n",
       "      <th>4</th>\n",
       "      <th>5</th>\n",
       "      <th>6</th>\n",
       "      <th>...</th>\n",
       "      <th>2811</th>\n",
       "      <th>3237</th>\n",
       "      <th>3727</th>\n",
       "      <th>4291</th>\n",
       "      <th>4941</th>\n",
       "      <th>5689</th>\n",
       "      <th>6551</th>\n",
       "      <th>7543</th>\n",
       "      <th>8685</th>\n",
       "      <th>10000</th>\n",
       "    </tr>\n",
       "  </thead>\n",
       "  <tbody>\n",
       "    <tr>\n",
       "      <th>0</th>\n",
       "      <td>discretized</td>\n",
       "      <td>Llama 3 8B IT</td>\n",
       "      <td>5</td>\n",
       "      <td>0</td>\n",
       "      <td>0.030458</td>\n",
       "      <td>0.047429</td>\n",
       "      <td>0.057775</td>\n",
       "      <td>0.064682</td>\n",
       "      <td>0.069684</td>\n",
       "      <td>0.073550</td>\n",
       "      <td>...</td>\n",
       "      <td>0.179333</td>\n",
       "      <td>0.181571</td>\n",
       "      <td>0.183801</td>\n",
       "      <td>0.186024</td>\n",
       "      <td>0.188242</td>\n",
       "      <td>0.190454</td>\n",
       "      <td>0.192661</td>\n",
       "      <td>0.194861</td>\n",
       "      <td>0.197055</td>\n",
       "      <td>0.199242</td>\n",
       "    </tr>\n",
       "    <tr>\n",
       "      <th>1</th>\n",
       "      <td>our_method</td>\n",
       "      <td>Llama 3 8B IT</td>\n",
       "      <td>5</td>\n",
       "      <td>0</td>\n",
       "      <td>0.092243</td>\n",
       "      <td>0.140461</td>\n",
       "      <td>0.160377</td>\n",
       "      <td>0.176101</td>\n",
       "      <td>0.185535</td>\n",
       "      <td>0.201839</td>\n",
       "      <td>...</td>\n",
       "      <td>0.929734</td>\n",
       "      <td>0.934212</td>\n",
       "      <td>0.938402</td>\n",
       "      <td>0.942325</td>\n",
       "      <td>0.946003</td>\n",
       "      <td>0.949445</td>\n",
       "      <td>0.952671</td>\n",
       "      <td>0.955690</td>\n",
       "      <td>0.958517</td>\n",
       "      <td>0.961164</td>\n",
       "    </tr>\n",
       "    <tr>\n",
       "      <th>2</th>\n",
       "      <td>regression</td>\n",
       "      <td>Llama 3 8B IT</td>\n",
       "      <td>5</td>\n",
       "      <td>0</td>\n",
       "      <td>0.051040</td>\n",
       "      <td>0.090902</td>\n",
       "      <td>0.127409</td>\n",
       "      <td>0.161896</td>\n",
       "      <td>0.194954</td>\n",
       "      <td>0.226915</td>\n",
       "      <td>...</td>\n",
       "      <td>37.994868</td>\n",
       "      <td>42.732022</td>\n",
       "      <td>48.053795</td>\n",
       "      <td>54.036512</td>\n",
       "      <td>60.770745</td>\n",
       "      <td>68.339604</td>\n",
       "      <td>76.858602</td>\n",
       "      <td>86.433724</td>\n",
       "      <td>97.199713</td>\n",
       "      <td>109.307624</td>\n",
       "    </tr>\n",
       "    <tr>\n",
       "      <th>3</th>\n",
       "      <td>pass@k</td>\n",
       "      <td>Llama 3 8B IT</td>\n",
       "      <td>5</td>\n",
       "      <td>0</td>\n",
       "      <td>0.051040</td>\n",
       "      <td>0.090902</td>\n",
       "      <td>0.127409</td>\n",
       "      <td>0.161896</td>\n",
       "      <td>0.194954</td>\n",
       "      <td>0.226915</td>\n",
       "      <td>...</td>\n",
       "      <td>37.994868</td>\n",
       "      <td>42.732022</td>\n",
       "      <td>48.053795</td>\n",
       "      <td>54.036512</td>\n",
       "      <td>60.770745</td>\n",
       "      <td>68.339604</td>\n",
       "      <td>76.858602</td>\n",
       "      <td>86.433724</td>\n",
       "      <td>97.199713</td>\n",
       "      <td>109.307624</td>\n",
       "    </tr>\n",
       "    <tr>\n",
       "      <th>4</th>\n",
       "      <td>discretized</td>\n",
       "      <td>Llama 3 8B IT</td>\n",
       "      <td>10</td>\n",
       "      <td>0</td>\n",
       "      <td>0.049425</td>\n",
       "      <td>0.079323</td>\n",
       "      <td>0.098953</td>\n",
       "      <td>0.112858</td>\n",
       "      <td>0.123362</td>\n",
       "      <td>0.131711</td>\n",
       "      <td>...</td>\n",
       "      <td>0.358560</td>\n",
       "      <td>0.362965</td>\n",
       "      <td>0.367336</td>\n",
       "      <td>0.371675</td>\n",
       "      <td>0.375989</td>\n",
       "      <td>0.380270</td>\n",
       "      <td>0.384526</td>\n",
       "      <td>0.388750</td>\n",
       "      <td>0.392944</td>\n",
       "      <td>0.397110</td>\n",
       "    </tr>\n",
       "    <tr>\n",
       "      <th>...</th>\n",
       "      <td>...</td>\n",
       "      <td>...</td>\n",
       "      <td>...</td>\n",
       "      <td>...</td>\n",
       "      <td>...</td>\n",
       "      <td>...</td>\n",
       "      <td>...</td>\n",
       "      <td>...</td>\n",
       "      <td>...</td>\n",
       "      <td>...</td>\n",
       "      <td>...</td>\n",
       "      <td>...</td>\n",
       "      <td>...</td>\n",
       "      <td>...</td>\n",
       "      <td>...</td>\n",
       "      <td>...</td>\n",
       "      <td>...</td>\n",
       "      <td>...</td>\n",
       "      <td>...</td>\n",
       "      <td>...</td>\n",
       "      <td>...</td>\n",
       "    </tr>\n",
       "    <tr>\n",
       "      <th>67</th>\n",
       "      <td>pass@k</td>\n",
       "      <td>Llama 3 8B IT</td>\n",
       "      <td>85</td>\n",
       "      <td>0</td>\n",
       "      <td>0.044210</td>\n",
       "      <td>0.070426</td>\n",
       "      <td>0.092474</td>\n",
       "      <td>0.112188</td>\n",
       "      <td>0.130330</td>\n",
       "      <td>0.147310</td>\n",
       "      <td>...</td>\n",
       "      <td>9.167323</td>\n",
       "      <td>10.078775</td>\n",
       "      <td>11.079729</td>\n",
       "      <td>12.179761</td>\n",
       "      <td>13.390193</td>\n",
       "      <td>14.720115</td>\n",
       "      <td>16.183392</td>\n",
       "      <td>17.791161</td>\n",
       "      <td>19.558330</td>\n",
       "      <td>21.501178</td>\n",
       "    </tr>\n",
       "    <tr>\n",
       "      <th>68</th>\n",
       "      <td>discretized</td>\n",
       "      <td>Llama 3 8B IT</td>\n",
       "      <td>90</td>\n",
       "      <td>0</td>\n",
       "      <td>0.029643</td>\n",
       "      <td>0.056804</td>\n",
       "      <td>0.081753</td>\n",
       "      <td>0.104727</td>\n",
       "      <td>0.125934</td>\n",
       "      <td>0.145557</td>\n",
       "      <td>...</td>\n",
       "      <td>0.829226</td>\n",
       "      <td>0.836063</td>\n",
       "      <td>0.842620</td>\n",
       "      <td>0.848915</td>\n",
       "      <td>0.854963</td>\n",
       "      <td>0.860767</td>\n",
       "      <td>0.866343</td>\n",
       "      <td>0.871693</td>\n",
       "      <td>0.876829</td>\n",
       "      <td>0.881760</td>\n",
       "    </tr>\n",
       "    <tr>\n",
       "      <th>69</th>\n",
       "      <td>our_method</td>\n",
       "      <td>Llama 3 8B IT</td>\n",
       "      <td>90</td>\n",
       "      <td>0</td>\n",
       "      <td>0.123068</td>\n",
       "      <td>0.220658</td>\n",
       "      <td>0.299140</td>\n",
       "      <td>0.360637</td>\n",
       "      <td>0.409395</td>\n",
       "      <td>0.451783</td>\n",
       "      <td>...</td>\n",
       "      <td>0.990169</td>\n",
       "      <td>0.991519</td>\n",
       "      <td>0.992682</td>\n",
       "      <td>0.993687</td>\n",
       "      <td>0.994555</td>\n",
       "      <td>0.995304</td>\n",
       "      <td>0.995950</td>\n",
       "      <td>0.996508</td>\n",
       "      <td>0.996988</td>\n",
       "      <td>0.997403</td>\n",
       "    </tr>\n",
       "    <tr>\n",
       "      <th>70</th>\n",
       "      <td>regression</td>\n",
       "      <td>Llama 3 8B IT</td>\n",
       "      <td>90</td>\n",
       "      <td>0</td>\n",
       "      <td>0.041145</td>\n",
       "      <td>0.065846</td>\n",
       "      <td>0.086694</td>\n",
       "      <td>0.105376</td>\n",
       "      <td>0.122598</td>\n",
       "      <td>0.138739</td>\n",
       "      <td>...</td>\n",
       "      <td>8.993718</td>\n",
       "      <td>9.897176</td>\n",
       "      <td>10.890282</td>\n",
       "      <td>11.982710</td>\n",
       "      <td>13.185900</td>\n",
       "      <td>14.509104</td>\n",
       "      <td>15.966353</td>\n",
       "      <td>17.568999</td>\n",
       "      <td>19.332186</td>\n",
       "      <td>21.272471</td>\n",
       "    </tr>\n",
       "    <tr>\n",
       "      <th>71</th>\n",
       "      <td>pass@k</td>\n",
       "      <td>Llama 3 8B IT</td>\n",
       "      <td>90</td>\n",
       "      <td>0</td>\n",
       "      <td>0.041145</td>\n",
       "      <td>0.065846</td>\n",
       "      <td>0.086694</td>\n",
       "      <td>0.105376</td>\n",
       "      <td>0.122598</td>\n",
       "      <td>0.138739</td>\n",
       "      <td>...</td>\n",
       "      <td>8.993718</td>\n",
       "      <td>9.897176</td>\n",
       "      <td>10.890282</td>\n",
       "      <td>11.982710</td>\n",
       "      <td>13.185900</td>\n",
       "      <td>14.509104</td>\n",
       "      <td>15.966353</td>\n",
       "      <td>17.568999</td>\n",
       "      <td>19.332186</td>\n",
       "      <td>21.272471</td>\n",
       "    </tr>\n",
       "  </tbody>\n",
       "</table>\n",
       "<p>72 rows × 63 columns</p>\n",
       "</div>"
      ],
      "text/plain": [
       "         method          model  per_problem_budget  trial         1         2         3         4         5         6  ...       2811       3237       3727       4291       4941       5689       6551       7543       8685       10000\n",
       "0   discretized  Llama 3 8B IT                   5      0  0.030458  0.047429  0.057775  0.064682  0.069684  0.073550  ...   0.179333   0.181571   0.183801   0.186024   0.188242   0.190454   0.192661   0.194861   0.197055    0.199242\n",
       "1    our_method  Llama 3 8B IT                   5      0  0.092243  0.140461  0.160377  0.176101  0.185535  0.201839  ...   0.929734   0.934212   0.938402   0.942325   0.946003   0.949445   0.952671   0.955690   0.958517    0.961164\n",
       "2    regression  Llama 3 8B IT                   5      0  0.051040  0.090902  0.127409  0.161896  0.194954  0.226915  ...  37.994868  42.732022  48.053795  54.036512  60.770745  68.339604  76.858602  86.433724  97.199713  109.307624\n",
       "3        pass@k  Llama 3 8B IT                   5      0  0.051040  0.090902  0.127409  0.161896  0.194954  0.226915  ...  37.994868  42.732022  48.053795  54.036512  60.770745  68.339604  76.858602  86.433724  97.199713  109.307624\n",
       "4   discretized  Llama 3 8B IT                  10      0  0.049425  0.079323  0.098953  0.112858  0.123362  0.131711  ...   0.358560   0.362965   0.367336   0.371675   0.375989   0.380270   0.384526   0.388750   0.392944    0.397110\n",
       "..          ...            ...                 ...    ...       ...       ...       ...       ...       ...       ...  ...        ...        ...        ...        ...        ...        ...        ...        ...        ...         ...\n",
       "67       pass@k  Llama 3 8B IT                  85      0  0.044210  0.070426  0.092474  0.112188  0.130330  0.147310  ...   9.167323  10.078775  11.079729  12.179761  13.390193  14.720115  16.183392  17.791161  19.558330   21.501178\n",
       "68  discretized  Llama 3 8B IT                  90      0  0.029643  0.056804  0.081753  0.104727  0.125934  0.145557  ...   0.829226   0.836063   0.842620   0.848915   0.854963   0.860767   0.866343   0.871693   0.876829    0.881760\n",
       "69   our_method  Llama 3 8B IT                  90      0  0.123068  0.220658  0.299140  0.360637  0.409395  0.451783  ...   0.990169   0.991519   0.992682   0.993687   0.994555   0.995304   0.995950   0.996508   0.996988    0.997403\n",
       "70   regression  Llama 3 8B IT                  90      0  0.041145  0.065846  0.086694  0.105376  0.122598  0.138739  ...   8.993718   9.897176  10.890282  11.982710  13.185900  14.509104  15.966353  17.568999  19.332186   21.272471\n",
       "71       pass@k  Llama 3 8B IT                  90      0  0.041145  0.065846  0.086694  0.105376  0.122598  0.138739  ...   8.993718   9.897176  10.890282  11.982710  13.185900  14.509104  15.966353  17.568999  19.332186   21.272471\n",
       "\n",
       "[72 rows x 63 columns]"
      ]
     },
     "execution_count": 162,
     "metadata": {},
     "output_type": "execute_result"
    }
   ],
   "source": [
    "pd.read_csv('notebooks/statistical_analysis/data/processed_data/jailbreaking_shuffled_llama.csv')"
   ]
  },
  {
   "cell_type": "code",
   "execution_count": null,
   "metadata": {},
   "outputs": [],
   "source": []
  },
  {
   "cell_type": "code",
   "execution_count": null,
   "metadata": {},
   "outputs": [],
   "source": []
  },
  {
   "cell_type": "code",
   "execution_count": null,
   "metadata": {},
   "outputs": [],
   "source": []
  },
  {
   "cell_type": "code",
   "execution_count": null,
   "metadata": {},
   "outputs": [],
   "source": []
  },
  {
   "cell_type": "code",
   "execution_count": null,
   "metadata": {},
   "outputs": [],
   "source": []
  },
  {
   "cell_type": "code",
   "execution_count": null,
   "metadata": {},
   "outputs": [],
   "source": []
  },
  {
   "cell_type": "code",
   "execution_count": null,
   "metadata": {},
   "outputs": [],
   "source": []
  }
 ],
 "metadata": {
  "kernelspec": {
   "display_name": "Python finance",
   "language": "python",
   "name": "finance"
  },
  "language_info": {
   "codemirror_mode": {
    "name": "ipython",
    "version": 3
   },
   "file_extension": ".py",
   "mimetype": "text/x-python",
   "name": "python",
   "nbconvert_exporter": "python",
   "pygments_lexer": "ipython3",
   "version": "3.12.2"
  }
 },
 "nbformat": 4,
 "nbformat_minor": 2
}
