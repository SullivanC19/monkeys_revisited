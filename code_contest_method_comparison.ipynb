{
 "cells": [
  {
   "cell_type": "markdown",
   "metadata": {},
   "source": [
    "This notebook will walk through some of the analysis that we did using Pythia12B on the MATH dataset."
   ]
  },
  {
   "cell_type": "code",
   "execution_count": 1,
   "metadata": {},
   "outputs": [
    {
     "name": "stderr",
     "output_type": "stream",
     "text": [
      "/Users/jkazdan/miniforge3/envs/finance/lib/python3.12/site-packages/tqdm/auto.py:21: TqdmWarning: IProgress not found. Please update jupyter and ipywidgets. See https://ipywidgets.readthedocs.io/en/stable/user_install.html\n",
      "  from .autonotebook import tqdm as notebook_tqdm\n"
     ]
    }
   ],
   "source": [
    "import sys\n",
    "import os\n",
    "import src.analyze as analyze\n",
    "import src.stats_utils as stats_utils\n",
    "import src.mixtures as mixtures\n",
    "import src.better_optimiation as bopt\n",
    "import matplotlib.pyplot as plt\n",
    "import numpy as np\n",
    "import pandas as pd\n",
    "import scipy\n",
    "import sklearn\n",
    "from sklearn.linear_model import LinearRegression\n",
    "from sklearn.model_selection import train_test_split\n",
    "from sklearn.metrics import mean_squared_error\n",
    "import src.EM as EM\n",
    "import src.better_em as BEM\n",
    "import heapq\n",
    "import src.bem_geometric as bemg"
   ]
  },
  {
   "cell_type": "code",
   "execution_count": 2,
   "metadata": {},
   "outputs": [
    {
     "data": {
      "text/plain": [
       "<module 'src.bem_geometric' from '/Users/jkazdan/Documents/Research/monkeys/KoyejoLab-Origin-Power-Laws-Scaling-Inference-Compute/src/bem_geometric.py'>"
      ]
     },
     "execution_count": 2,
     "metadata": {},
     "output_type": "execute_result"
    }
   ],
   "source": [
    "import importlib\n",
    "\n",
    "importlib.reload(bopt)\n",
    "importlib.reload(stats_utils)\n",
    "importlib.reload(mixtures)\n",
    "importlib.reload(BEM)\n",
    "importlib.reload(bemg)"
   ]
  },
  {
   "cell_type": "code",
   "execution_count": 3,
   "metadata": {},
   "outputs": [
    {
     "name": "stdout",
     "output_type": "stream",
     "text": [
      "Loaded /Users/jkazdan/Documents/Research/monkeys/KoyejoLab-Origin-Power-Laws-Scaling-Inference-Compute/data/processed_data/large_language_monkeys_code_contests_pass_at_k.parquet with shape:  (70700, 7)\n",
      "Loaded /Users/jkazdan/Documents/Research/monkeys/KoyejoLab-Origin-Power-Laws-Scaling-Inference-Compute/data/processed_data/large_language_monkeys_code_contests_individual_outcomes.parquet with shape:  (7000000, 5)\n"
     ]
    }
   ],
   "source": [
    "# get data for the number of math problems solved\n",
    "data = analyze.create_or_load_large_language_monkeys_code_contests_pass_at_k_df()\n",
    "\n",
    "# this tells us whether each attempt was a success or failure -- I don't think it adds any\n",
    "# value given that the attempts were independent\n",
    "individual_data = (\n",
    "    analyze.create_or_load_large_language_monkeys_code_contests_individual_outcomes_df()\n",
    ")"
   ]
  },
  {
   "cell_type": "code",
   "execution_count": 4,
   "metadata": {},
   "outputs": [],
   "source": [
    "# label the number of total samples and compute the number of correct attempts for each problem\n",
    "data[\"Num. Samples Total\"] = 10000\n",
    "data[\"Num. Samples Correct\"] = data[\"Score\"] * data[\"Num. Samples Total\"]\n",
    "data = data[data[\"Scaling Parameter\"] == 1]"
   ]
  },
  {
   "cell_type": "code",
   "execution_count": 5,
   "metadata": {},
   "outputs": [],
   "source": [
    "# let's start by looking at the math dataset\n",
    "red_data = data[data[\"Benchmark\"] == \"CodeContests\"]"
   ]
  },
  {
   "cell_type": "code",
   "execution_count": 6,
   "metadata": {},
   "outputs": [],
   "source": [
    "# let's look at Pythia12B only\n",
    "model_name = \"Llama 3 8B Instruct\"  # ['Gemma 2B', 'Gemma 7B', 'Llama 3 70B Instruct', 'Llama 3 8B', 'Llama 3 8B Instruct']aaaaaaaaaaaaaaaaaaaa\n",
    "# scaling_parameter =\n",
    "pythia12_math = red_data[(red_data[\"Model\"] == model_name)]\n",
    "pythia12_math = pythia12_math[pythia12_math[\"Scaling Parameter\"] == 1]"
   ]
  },
  {
   "cell_type": "code",
   "execution_count": 7,
   "metadata": {},
   "outputs": [
    {
     "data": {
      "text/html": [
       "<div>\n",
       "<style scoped>\n",
       "    .dataframe tbody tr th:only-of-type {\n",
       "        vertical-align: middle;\n",
       "    }\n",
       "\n",
       "    .dataframe tbody tr th {\n",
       "        vertical-align: top;\n",
       "    }\n",
       "\n",
       "    .dataframe thead th {\n",
       "        text-align: right;\n",
       "    }\n",
       "</style>\n",
       "<table border=\"1\" class=\"dataframe\">\n",
       "  <thead>\n",
       "    <tr style=\"text-align: right;\">\n",
       "      <th></th>\n",
       "      <th>Score</th>\n",
       "      <th>Scaling Parameter</th>\n",
       "      <th>Problem Idx</th>\n",
       "      <th>Model</th>\n",
       "      <th>Benchmark</th>\n",
       "      <th>Log Score</th>\n",
       "      <th>Neg Log Score</th>\n",
       "      <th>Num. Samples Total</th>\n",
       "      <th>Num. Samples Correct</th>\n",
       "    </tr>\n",
       "  </thead>\n",
       "  <tbody>\n",
       "    <tr>\n",
       "      <th>56560</th>\n",
       "      <td>0.0000</td>\n",
       "      <td>1</td>\n",
       "      <td>0</td>\n",
       "      <td>Llama 3 8B Instruct</td>\n",
       "      <td>CodeContests</td>\n",
       "      <td>-inf</td>\n",
       "      <td>inf</td>\n",
       "      <td>10000</td>\n",
       "      <td>0.0</td>\n",
       "    </tr>\n",
       "    <tr>\n",
       "      <th>56561</th>\n",
       "      <td>0.0000</td>\n",
       "      <td>1</td>\n",
       "      <td>1</td>\n",
       "      <td>Llama 3 8B Instruct</td>\n",
       "      <td>CodeContests</td>\n",
       "      <td>-inf</td>\n",
       "      <td>inf</td>\n",
       "      <td>10000</td>\n",
       "      <td>0.0</td>\n",
       "    </tr>\n",
       "    <tr>\n",
       "      <th>56562</th>\n",
       "      <td>0.0000</td>\n",
       "      <td>1</td>\n",
       "      <td>2</td>\n",
       "      <td>Llama 3 8B Instruct</td>\n",
       "      <td>CodeContests</td>\n",
       "      <td>-inf</td>\n",
       "      <td>inf</td>\n",
       "      <td>10000</td>\n",
       "      <td>0.0</td>\n",
       "    </tr>\n",
       "    <tr>\n",
       "      <th>56563</th>\n",
       "      <td>0.0000</td>\n",
       "      <td>1</td>\n",
       "      <td>3</td>\n",
       "      <td>Llama 3 8B Instruct</td>\n",
       "      <td>CodeContests</td>\n",
       "      <td>-inf</td>\n",
       "      <td>inf</td>\n",
       "      <td>10000</td>\n",
       "      <td>0.0</td>\n",
       "    </tr>\n",
       "    <tr>\n",
       "      <th>56564</th>\n",
       "      <td>0.0014</td>\n",
       "      <td>1</td>\n",
       "      <td>4</td>\n",
       "      <td>Llama 3 8B Instruct</td>\n",
       "      <td>CodeContests</td>\n",
       "      <td>-6.571283</td>\n",
       "      <td>6.571283</td>\n",
       "      <td>10000</td>\n",
       "      <td>14.0</td>\n",
       "    </tr>\n",
       "    <tr>\n",
       "      <th>...</th>\n",
       "      <td>...</td>\n",
       "      <td>...</td>\n",
       "      <td>...</td>\n",
       "      <td>...</td>\n",
       "      <td>...</td>\n",
       "      <td>...</td>\n",
       "      <td>...</td>\n",
       "      <td>...</td>\n",
       "      <td>...</td>\n",
       "    </tr>\n",
       "    <tr>\n",
       "      <th>56695</th>\n",
       "      <td>0.0000</td>\n",
       "      <td>1</td>\n",
       "      <td>135</td>\n",
       "      <td>Llama 3 8B Instruct</td>\n",
       "      <td>CodeContests</td>\n",
       "      <td>-inf</td>\n",
       "      <td>inf</td>\n",
       "      <td>10000</td>\n",
       "      <td>0.0</td>\n",
       "    </tr>\n",
       "    <tr>\n",
       "      <th>56696</th>\n",
       "      <td>0.0001</td>\n",
       "      <td>1</td>\n",
       "      <td>136</td>\n",
       "      <td>Llama 3 8B Instruct</td>\n",
       "      <td>CodeContests</td>\n",
       "      <td>-9.210340</td>\n",
       "      <td>9.210340</td>\n",
       "      <td>10000</td>\n",
       "      <td>1.0</td>\n",
       "    </tr>\n",
       "    <tr>\n",
       "      <th>56697</th>\n",
       "      <td>0.0000</td>\n",
       "      <td>1</td>\n",
       "      <td>137</td>\n",
       "      <td>Llama 3 8B Instruct</td>\n",
       "      <td>CodeContests</td>\n",
       "      <td>-inf</td>\n",
       "      <td>inf</td>\n",
       "      <td>10000</td>\n",
       "      <td>0.0</td>\n",
       "    </tr>\n",
       "    <tr>\n",
       "      <th>56698</th>\n",
       "      <td>0.0000</td>\n",
       "      <td>1</td>\n",
       "      <td>138</td>\n",
       "      <td>Llama 3 8B Instruct</td>\n",
       "      <td>CodeContests</td>\n",
       "      <td>-inf</td>\n",
       "      <td>inf</td>\n",
       "      <td>10000</td>\n",
       "      <td>0.0</td>\n",
       "    </tr>\n",
       "    <tr>\n",
       "      <th>56699</th>\n",
       "      <td>0.0000</td>\n",
       "      <td>1</td>\n",
       "      <td>139</td>\n",
       "      <td>Llama 3 8B Instruct</td>\n",
       "      <td>CodeContests</td>\n",
       "      <td>-inf</td>\n",
       "      <td>inf</td>\n",
       "      <td>10000</td>\n",
       "      <td>0.0</td>\n",
       "    </tr>\n",
       "  </tbody>\n",
       "</table>\n",
       "<p>140 rows × 9 columns</p>\n",
       "</div>"
      ],
      "text/plain": [
       "        Score  Scaling Parameter  Problem Idx                Model     Benchmark  Log Score  Neg Log Score  Num. Samples Total  Num. Samples Correct\n",
       "56560  0.0000                  1            0  Llama 3 8B Instruct  CodeContests       -inf            inf               10000                   0.0\n",
       "56561  0.0000                  1            1  Llama 3 8B Instruct  CodeContests       -inf            inf               10000                   0.0\n",
       "56562  0.0000                  1            2  Llama 3 8B Instruct  CodeContests       -inf            inf               10000                   0.0\n",
       "56563  0.0000                  1            3  Llama 3 8B Instruct  CodeContests       -inf            inf               10000                   0.0\n",
       "56564  0.0014                  1            4  Llama 3 8B Instruct  CodeContests  -6.571283       6.571283               10000                  14.0\n",
       "...       ...                ...          ...                  ...           ...        ...            ...                 ...                   ...\n",
       "56695  0.0000                  1          135  Llama 3 8B Instruct  CodeContests       -inf            inf               10000                   0.0\n",
       "56696  0.0001                  1          136  Llama 3 8B Instruct  CodeContests  -9.210340       9.210340               10000                   1.0\n",
       "56697  0.0000                  1          137  Llama 3 8B Instruct  CodeContests       -inf            inf               10000                   0.0\n",
       "56698  0.0000                  1          138  Llama 3 8B Instruct  CodeContests       -inf            inf               10000                   0.0\n",
       "56699  0.0000                  1          139  Llama 3 8B Instruct  CodeContests       -inf            inf               10000                   0.0\n",
       "\n",
       "[140 rows x 9 columns]"
      ]
     },
     "execution_count": 7,
     "metadata": {},
     "output_type": "execute_result"
    }
   ],
   "source": [
    "pythia12_math"
   ]
  },
  {
   "cell_type": "markdown",
   "metadata": {},
   "source": [
    "A brief overview of the fitting methods:\n",
    "- The two parameter beta distribution is fit on estimated probabilities using scipy\n",
    "- The three parameter beta distribution is again fit with scipy using an estimated scale parameter given by highest_observed_success_rate*(num_samples+1)/num_samples.  Although this choice of scale parameter would cause make the likelihood under this model of observing higher pass@1 on a new question 0.  Therefore, this model is bad when trying to extrapolate to a test set of witheld problems, but good when estimating scaling laws (because if we don't observe a single success for a given question in 10,000 samples, it's unlikely that the true pass@1 is higher than 22.7%)  This is more of a problem if we specifically care about estimating the distribution rather than the power law, or if we have fewer samples.\n",
    "- The discretized beta distribution: We bin the success probabilities before fitting the beta distribution directly on the fitted probabilities.  The binning occurs on a log scale to prioritize fitting the left tail of the distribution accurately.  This fit is designed for estimating power laws in the low-sample regime.  "
   ]
  },
  {
   "cell_type": "code",
   "execution_count": 8,
   "metadata": {},
   "outputs": [
    {
     "name": "stderr",
     "output_type": "stream",
     "text": [
      "/Users/jkazdan/miniforge3/envs/finance/lib/python3.12/site-packages/scipy/optimize/_numdiff.py:590: RuntimeWarning: invalid value encountered in subtract\n",
      "  df = fun(x) - f0\n"
     ]
    }
   ],
   "source": [
    "beta_2_params = (\n",
    "    analyze.fit_beta_binomial_two_parameters_to_num_samples_and_num_successes(\n",
    "        pythia12_math\n",
    "    )\n",
    ")\n",
    "beta_2_params_stable = bopt.fit_beta_binomial_two_parameters_stable(pythia12_math)\n",
    "beta_3_params = beta_2_params_stable  # analyze.fit_beta_binomial_three_parameters_to_num_samples_and_num_successes(pythia12_math, maxiter=15)\n",
    "beta_3_discretized_params = (\n",
    "    analyze.fit_discretized_beta_three_parameters_to_num_samples_and_num_successes(\n",
    "        pythia12_math\n",
    "    )\n",
    ")  #"
   ]
  },
  {
   "cell_type": "code",
   "execution_count": 9,
   "metadata": {},
   "outputs": [
    {
     "data": {
      "text/plain": [
       "alpha                 0.5\n",
       "beta                  3.5\n",
       "loc                   0.0\n",
       "scale                 1.0\n",
       "neg_log_likelihood    NaN\n",
       "aic                   NaN\n",
       "bic                   NaN\n",
       "Power Law Exponent    0.5\n",
       "dtype: float64"
      ]
     },
     "execution_count": 9,
     "metadata": {},
     "output_type": "execute_result"
    }
   ],
   "source": [
    "# result of fitting a 2-parameter beta\n",
    "beta_2_params"
   ]
  },
  {
   "cell_type": "code",
   "execution_count": 10,
   "metadata": {},
   "outputs": [
    {
     "data": {
      "text/plain": [
       "alpha                  0.010000\n",
       "beta                   3.727324\n",
       "loc                    0.000000\n",
       "scale                  1.000000\n",
       "neg_log_likelihood     0.061399\n",
       "aic                    4.122798\n",
       "bic                   10.006083\n",
       "Power Law Exponent     0.010000\n",
       "dtype: float64"
      ]
     },
     "execution_count": 10,
     "metadata": {},
     "output_type": "execute_result"
    }
   ],
   "source": [
    "beta_2_params_stable"
   ]
  },
  {
   "cell_type": "code",
   "execution_count": 11,
   "metadata": {},
   "outputs": [
    {
     "data": {
      "image/png": "[encoded data removed]",
      "text/plain": [
       "<Figure size 640x480 with 1 Axes>"
      ]
     },
     "metadata": {},
     "output_type": "display_data"
    }
   ],
   "source": [
    "stats_utils.plot_histo_and_beta(pythia12_math[\"Score\"], beta_2_params_stable)"
   ]
  },
  {
   "cell_type": "code",
   "execution_count": 12,
   "metadata": {},
   "outputs": [
    {
     "data": {
      "image/png": "[encoded data removed]",
      "text/plain": [
       "<Figure size 640x480 with 1 Axes>"
      ]
     },
     "metadata": {},
     "output_type": "display_data"
    }
   ],
   "source": [
    "stats_utils.plot_histo_and_beta(pythia12_math[\"Score\"], beta_2_params)"
   ]
  },
  {
   "cell_type": "markdown",
   "metadata": {},
   "source": [
    "Both of the 3-parameter beta fits work comparably when we are fitting large amounts of data."
   ]
  },
  {
   "cell_type": "code",
   "execution_count": 13,
   "metadata": {},
   "outputs": [
    {
     "name": "stdout",
     "output_type": "stream",
     "text": [
      "Beta 3 params\n",
      "alpha                  0.010000\n",
      "beta                   3.727324\n",
      "loc                    0.000000\n",
      "scale                  1.000000\n",
      "neg_log_likelihood     0.061399\n",
      "aic                    4.122798\n",
      "bic                   10.006083\n",
      "Power Law Exponent     0.010000\n",
      "dtype: float64\n",
      "Beta 3 params discretized\n",
      "alpha                 0.026197\n",
      "beta                  1.870706\n",
      "loc                        0.0\n",
      "scale                    0.929\n",
      "neg_log_likelihood    0.268239\n",
      "success                Success\n",
      "dtype: object\n"
     ]
    }
   ],
   "source": [
    "print(\"Beta 3 params\")\n",
    "print(beta_3_params)\n",
    "print(\"Beta 3 params discretized\")\n",
    "print(beta_3_discretized_params)"
   ]
  },
  {
   "cell_type": "code",
   "execution_count": 14,
   "metadata": {},
   "outputs": [
    {
     "data": {
      "image/png": "[encoded data removed]",
      "text/plain": [
       "<Figure size 640x480 with 1 Axes>"
      ]
     },
     "metadata": {},
     "output_type": "display_data"
    }
   ],
   "source": [
    "stats_utils.plot_histo_and_beta(pythia12_math[\"Score\"], beta_3_params)"
   ]
  },
  {
   "cell_type": "code",
   "execution_count": 15,
   "metadata": {},
   "outputs": [
    {
     "data": {
      "text/plain": [
       "alpha                 0.026197\n",
       "beta                  1.870706\n",
       "loc                        0.0\n",
       "scale                    0.929\n",
       "neg_log_likelihood    0.268239\n",
       "success                Success\n",
       "dtype: object"
      ]
     },
     "execution_count": 15,
     "metadata": {},
     "output_type": "execute_result"
    }
   ],
   "source": [
    "beta_3_discretized_params"
   ]
  },
  {
   "cell_type": "code",
   "execution_count": 16,
   "metadata": {},
   "outputs": [
    {
     "data": {
      "image/png": "[encoded data removed]",
      "text/plain": [
       "<Figure size 640x480 with 1 Axes>"
      ]
     },
     "metadata": {},
     "output_type": "display_data"
    }
   ],
   "source": [
    "stats_utils.plot_histo_and_beta(pythia12_math[\"Score\"], beta_3_discretized_params)"
   ]
  },
  {
   "cell_type": "markdown",
   "metadata": {},
   "source": [
    "Now that we have observed the high-samples regime, let's look at what happens when there is only a small number of samples for each problem -- we will subsample only 20 attempts per problem and refit the distributions. Note that in order to fit the scaling law, beta is irrelevant.  Therefore, we are interested in understanding how close we can get to alpha.   "
   ]
  },
  {
   "cell_type": "code",
   "execution_count": 17,
   "metadata": {},
   "outputs": [],
   "source": [
    "smaller_data = data[[]]\n",
    "samples = 20\n",
    "probs = pythia12_math[\n",
    "    \"Score\"\n",
    "]  # np.clip(np.random.randn(len(pythia12_math['Score'])), 0.00001, 1-0.00001)\n",
    "smaller_data = {\n",
    "    \"Num. Samples Correct\": np.random.binomial(n=samples, p=probs),\n",
    "    \"Num. Samples Total\": np.ones(len(pythia12_math)) * samples,\n",
    "}\n",
    "smaller_pythia12_math = pd.DataFrame(smaller_data)\n",
    "smaller_pythia12_math[\"Score\"] = (\n",
    "    smaller_pythia12_math[\"Num. Samples Correct\"]\n",
    "    / smaller_pythia12_math[\"Num. Samples Total\"]\n",
    ")"
   ]
  },
  {
   "cell_type": "code",
   "execution_count": 18,
   "metadata": {},
   "outputs": [
    {
     "data": {
      "text/plain": [
       "array([ 0,  0,  0,  0,  0,  0,  0,  0,  0,  0,  0,  1,  0,  0,  0,  0,  0,\n",
       "        0,  0,  0,  0,  0,  0,  0,  0,  0,  0,  0,  0,  0,  0,  0,  0,  0,\n",
       "        1,  0,  0,  0,  0,  0,  0,  0,  0,  0,  0,  0,  0,  3,  0,  0,  0,\n",
       "        0,  0,  0,  0,  0,  0,  0,  0,  0,  0,  0,  0,  0,  0,  0,  0,  0,\n",
       "        0,  0,  0,  0,  0,  0,  0,  0,  0,  0,  0,  0,  0,  8,  0,  0,  0,\n",
       "        0,  0,  0,  0,  0,  0,  0,  0,  0,  0, 18,  0,  0,  0,  0,  0,  0,\n",
       "        0,  0,  0,  0,  0,  0,  0,  0,  0,  0,  0,  0,  0,  0,  0,  0,  1,\n",
       "        0,  0,  0,  0,  0,  0,  0,  0,  0,  0, 17,  0,  0,  0,  0,  0,  0,\n",
       "        0,  0,  0,  0])"
      ]
     },
     "execution_count": 18,
     "metadata": {},
     "output_type": "execute_result"
    }
   ],
   "source": [
    "np.random.binomial(n=samples, p=probs)"
   ]
  },
  {
   "cell_type": "markdown",
   "metadata": {},
   "source": [
    "We refit the data using the same three methods as before.  We will take the expectation of the resulting beta binomials and see which one estimates the largest pass@k for the full data.  "
   ]
  },
  {
   "cell_type": "code",
   "execution_count": 19,
   "metadata": {},
   "outputs": [
    {
     "data": {
      "text/plain": [
       "<module 'src.mixtures' from '/Users/jkazdan/Documents/Research/monkeys/KoyejoLab-Origin-Power-Laws-Scaling-Inference-Compute/src/mixtures.py'>"
      ]
     },
     "execution_count": 19,
     "metadata": {},
     "output_type": "execute_result"
    }
   ],
   "source": [
    "import importlib\n",
    "\n",
    "importlib.reload(bopt)\n",
    "importlib.reload(stats_utils)\n",
    "importlib.reload(mixtures)"
   ]
  },
  {
   "cell_type": "code",
   "execution_count": 20,
   "metadata": {},
   "outputs": [
    {
     "name": "stdout",
     "output_type": "stream",
     "text": [
      "the scale is 1.0\n"
     ]
    }
   ],
   "source": [
    "smaller_beta_2_params = (\n",
    "    analyze.fit_beta_binomial_two_parameters_to_num_samples_and_num_successes(\n",
    "        smaller_pythia12_math\n",
    "    )\n",
    ")\n",
    "smaller_beta_2_params_stable = bopt.fit_beta_binomial_two_parameters_stable(\n",
    "    smaller_pythia12_math\n",
    ")\n",
    "smaller_beta_3_params = (\n",
    "    analyze.fit_beta_binomial_three_parameters_to_num_samples_and_num_successes(\n",
    "        smaller_pythia12_math\n",
    "    )\n",
    ")\n",
    "smaller_beta_3_discretized_params = (\n",
    "    analyze.fit_discretized_beta_three_parameters_to_num_samples_and_num_successes(\n",
    "        smaller_pythia12_math\n",
    "    )\n",
    ")"
   ]
  },
  {
   "cell_type": "code",
   "execution_count": 21,
   "metadata": {},
   "outputs": [
    {
     "data": {
      "text/plain": [
       "alpha                  0.010000\n",
       "beta                   0.454962\n",
       "loc                    0.000000\n",
       "scale                  1.000000\n",
       "neg_log_likelihood     0.586199\n",
       "aic                    5.172397\n",
       "bic                   11.055682\n",
       "Power Law Exponent     0.010000\n",
       "dtype: float64"
      ]
     },
     "execution_count": 21,
     "metadata": {},
     "output_type": "execute_result"
    }
   ],
   "source": [
    "smaller_beta_2_params_stable"
   ]
  },
  {
   "cell_type": "markdown",
   "metadata": {},
   "source": [
    "Let's now plot the beta fit along with the entire distribution."
   ]
  },
  {
   "cell_type": "code",
   "execution_count": 22,
   "metadata": {},
   "outputs": [
    {
     "name": "stdout",
     "output_type": "stream",
     "text": [
      "alpha                  0.010000\n",
      "beta                   0.454966\n",
      "loc                    0.000000\n",
      "scale                  1.000000\n",
      "neg_log_likelihood     0.296997\n",
      "aic                    4.593994\n",
      "bic                   10.477279\n",
      "Power Law Exponent     0.010000\n",
      "dtype: float64\n"
     ]
    },
    {
     "data": {
      "image/png": "[encoded data removed]",
      "text/plain": [
       "<Figure size 640x480 with 1 Axes>"
      ]
     },
     "metadata": {},
     "output_type": "display_data"
    }
   ],
   "source": [
    "print(smaller_beta_2_params)\n",
    "stats_utils.plot_histo_and_beta(smaller_pythia12_math[\"Score\"], smaller_beta_2_params)"
   ]
  },
  {
   "cell_type": "code",
   "execution_count": 23,
   "metadata": {},
   "outputs": [
    {
     "name": "stdout",
     "output_type": "stream",
     "text": [
      "alpha                     0.01\n",
      "beta                  0.454988\n",
      "loc                        0.0\n",
      "scale                      1.0\n",
      "neg_log_likelihood    0.296997\n",
      "maxiter                   5000\n",
      "success                Success\n",
      "dtype: object\n"
     ]
    },
    {
     "data": {
      "image/png": "[encoded data removed]",
      "text/plain": [
       "<Figure size 640x480 with 1 Axes>"
      ]
     },
     "metadata": {},
     "output_type": "display_data"
    }
   ],
   "source": [
    "print(smaller_beta_3_params)\n",
    "stats_utils.plot_histo_and_beta(pythia12_math[\"Score\"], smaller_beta_3_params)"
   ]
  },
  {
   "cell_type": "code",
   "execution_count": 24,
   "metadata": {},
   "outputs": [
    {
     "name": "stdout",
     "output_type": "stream",
     "text": [
      "alpha                     0.01\n",
      "beta                  0.402425\n",
      "loc                        0.0\n",
      "scale                      1.0\n",
      "neg_log_likelihood    0.065558\n",
      "success                Success\n",
      "dtype: object\n"
     ]
    },
    {
     "data": {
      "image/png": "[encoded data removed]",
      "text/plain": [
       "<Figure size 640x480 with 1 Axes>"
      ]
     },
     "metadata": {},
     "output_type": "display_data"
    }
   ],
   "source": [
    "print(smaller_beta_3_discretized_params)\n",
    "stats_utils.plot_histo_and_beta(\n",
    "    pythia12_math[\"Score\"], smaller_beta_3_discretized_params\n",
    ")"
   ]
  },
  {
   "cell_type": "markdown",
   "metadata": {},
   "source": [
    "Now let's measure how far off $\\alpha$ is for each of these fits from the originals."
   ]
  },
  {
   "cell_type": "code",
   "execution_count": 25,
   "metadata": {},
   "outputs": [
    {
     "name": "stdout",
     "output_type": "stream",
     "text": [
      "beta_2_params error: 0.49\n",
      "beta_3_discretized_error: 0.016196623938403668\n"
     ]
    }
   ],
   "source": [
    "print(f'beta_2_params error: {beta_2_params['alpha']-smaller_beta_2_params['alpha']}')\n",
    "#print(f'beta_3_params error: {beta_3_params['alpha'] - smaller_beta_3_params['alpha']}')\n",
    "print(f'beta_3_discretized_error: {beta_3_discretized_params['alpha'] - smaller_beta_3_discretized_params['alpha']}')"
   ]
  },
  {
   "cell_type": "code",
   "execution_count": 26,
   "metadata": {},
   "outputs": [
    {
     "data": {
      "text/plain": [
       "0.21879339957575458"
      ]
     },
     "execution_count": 26,
     "metadata": {},
     "output_type": "execute_result"
    }
   ],
   "source": [
    "# p@k new\n",
    "np.mean(1 - (1 - probs) ** 10000)"
   ]
  },
  {
   "cell_type": "code",
   "execution_count": 27,
   "metadata": {},
   "outputs": [
    {
     "name": "stdout",
     "output_type": "stream",
     "text": [
      "Measured pass@k success rate: 0.23571428571428577\n"
     ]
    }
   ],
   "source": [
    "# let's compute the true pass@k\n",
    "p_at_k = 1 - (len(pythia12_math[pythia12_math[\"Num. Samples Correct\"] == 0])) / len(\n",
    "    pythia12_math\n",
    ")\n",
    "print(f\"Measured pass@k success rate: {p_at_k}\")"
   ]
  },
  {
   "cell_type": "markdown",
   "metadata": {},
   "source": [
    "Let's also compute the predicted pass@k for each of the predicted beta-binomials.  Specifically, we want to compute:\n",
    "\n",
    "$1-\\int_0^1 {n\\choose{0}}(1-p)^k dG(p)$ where $G(p)$ is the fitted beta distribution."
   ]
  },
  {
   "cell_type": "markdown",
   "metadata": {},
   "source": [
    "Let's estimate pass@k from both the subset of data and the full data for each method"
   ]
  },
  {
   "cell_type": "code",
   "execution_count": 28,
   "metadata": {},
   "outputs": [
    {
     "data": {
      "text/plain": [
       "0.10761813470572157"
      ]
     },
     "execution_count": 28,
     "metadata": {},
     "output_type": "execute_result"
    }
   ],
   "source": [
    "smaller_beta_2_pass_at_10000 = 1 - np.exp(\n",
    "    -1\n",
    "    * analyze.compute_beta_binomial_three_parameters_distribution_neg_log_likelihood(\n",
    "        params=(smaller_beta_2_params[\"alpha\"], smaller_beta_2_params[\"beta\"]),\n",
    "        scale=1.0,\n",
    "        num_samples=np.array([10000]),\n",
    "        num_successes=np.array([0]),\n",
    "    )\n",
    ")\n",
    "smaller_beta_2_pass_at_10000"
   ]
  },
  {
   "cell_type": "code",
   "execution_count": 29,
   "metadata": {},
   "outputs": [
    {
     "data": {
      "text/plain": [
       "0.10761835001041897"
      ]
     },
     "execution_count": 29,
     "metadata": {},
     "output_type": "execute_result"
    }
   ],
   "source": [
    "smaller_beta_2_stable_pass_at_10000 = 1 - np.exp(\n",
    "    -1\n",
    "    * analyze.compute_beta_binomial_three_parameters_distribution_neg_log_likelihood(\n",
    "        params=(\n",
    "            smaller_beta_2_params_stable[\"alpha\"],\n",
    "            smaller_beta_2_params_stable[\"beta\"],\n",
    "        ),\n",
    "        scale=1.0,\n",
    "        num_samples=np.array([10000]),\n",
    "        num_successes=np.array([0]),\n",
    "    )\n",
    ")\n",
    "smaller_beta_2_stable_pass_at_10000"
   ]
  },
  {
   "cell_type": "code",
   "execution_count": 30,
   "metadata": {},
   "outputs": [
    {
     "data": {
      "text/plain": [
       "0.9819488664002083"
      ]
     },
     "execution_count": 30,
     "metadata": {},
     "output_type": "execute_result"
    }
   ],
   "source": [
    "beta_2_pass_at_10000 = 1 - np.exp(\n",
    "    -1\n",
    "    * analyze.compute_beta_binomial_three_parameters_distribution_neg_log_likelihood(\n",
    "        params=(beta_2_params[\"alpha\"], beta_2_params[\"beta\"]),\n",
    "        scale=1.0,\n",
    "        num_samples=np.array([10000]),\n",
    "        num_successes=np.array([0]),\n",
    "    )\n",
    ")\n",
    "beta_2_pass_at_10000"
   ]
  },
  {
   "cell_type": "code",
   "execution_count": 31,
   "metadata": {},
   "outputs": [
    {
     "data": {
      "text/plain": [
       "0.10761835001041897"
      ]
     },
     "execution_count": 31,
     "metadata": {},
     "output_type": "execute_result"
    }
   ],
   "source": [
    "smaller_beta_2_pass_at_10000_stable = 1 - np.exp(\n",
    "    -1\n",
    "    * analyze.compute_beta_binomial_three_parameters_distribution_neg_log_likelihood(\n",
    "        params=(\n",
    "            smaller_beta_2_params_stable[\"alpha\"],\n",
    "            smaller_beta_2_params_stable[\"beta\"],\n",
    "        ),\n",
    "        scale=1.0,\n",
    "        num_samples=np.array([10000]),\n",
    "        num_successes=np.array([0]),\n",
    "    )\n",
    ")\n",
    "smaller_beta_2_pass_at_10000_stable"
   ]
  },
  {
   "cell_type": "markdown",
   "metadata": {},
   "source": [
    "This is strange!  The data fit on the subset is a better estimator of the true pass@k than the data fit on the entire set"
   ]
  },
  {
   "cell_type": "code",
   "execution_count": 32,
   "metadata": {},
   "outputs": [
    {
     "data": {
      "text/plain": [
       "0.10761698963793953"
      ]
     },
     "execution_count": 32,
     "metadata": {},
     "output_type": "execute_result"
    }
   ],
   "source": [
    "smaller_beta_3_pass_at_10000 = 1 - np.exp(\n",
    "    -1\n",
    "    * analyze.compute_beta_binomial_three_parameters_distribution_neg_log_likelihood(\n",
    "        params=(smaller_beta_3_params[\"alpha\"], smaller_beta_3_params[\"beta\"]),\n",
    "        scale=smaller_beta_3_params[\"scale\"],\n",
    "        num_samples=np.array([10000]),\n",
    "        num_successes=np.array([0]),\n",
    "    )\n",
    ")\n",
    "smaller_beta_3_pass_at_10000"
   ]
  },
  {
   "cell_type": "code",
   "execution_count": 33,
   "metadata": {},
   "outputs": [
    {
     "data": {
      "text/plain": [
       "0.0771931978642788"
      ]
     },
     "execution_count": 33,
     "metadata": {},
     "output_type": "execute_result"
    }
   ],
   "source": [
    "beta_3_pass_at_10000 = 1 - np.exp(\n",
    "    -1\n",
    "    * analyze.compute_beta_binomial_three_parameters_distribution_neg_log_likelihood(\n",
    "        params=(beta_3_params[\"alpha\"], beta_3_params[\"beta\"]),\n",
    "        scale=beta_3_params[\"scale\"],\n",
    "        num_samples=np.array([10000]),\n",
    "        num_successes=np.array([0]),\n",
    "    )\n",
    ")\n",
    "beta_3_pass_at_10000"
   ]
  },
  {
   "cell_type": "code",
   "execution_count": 34,
   "metadata": {},
   "outputs": [],
   "source": [
    "def compute_estimate(params, k):\n",
    "    return 1 - np.exp(\n",
    "        -1\n",
    "        * analyze.compute_beta_binomial_three_parameters_distribution_neg_log_likelihood(\n",
    "            params=(params[\"alpha\"], params[\"beta\"]),\n",
    "            scale=params[\"scale\"],\n",
    "            num_samples=np.array([k]),\n",
    "            num_successes=np.array([0]),\n",
    "        )\n",
    "    )\n",
    "\n",
    "\n",
    "def compute_p_at_ks(data, ks):\n",
    "    pass_at_ks = analyze.compute_pass_at_k_from_num_samples_and_num_successes_df(\n",
    "        data, ks\n",
    "    )\n",
    "    pass_at_ks = pass_at_ks.groupby(by=\"Scaling Parameter\").mean()\n",
    "    return np.array(pass_at_ks[\"Score\"])"
   ]
  },
  {
   "cell_type": "code",
   "execution_count": 35,
   "metadata": {},
   "outputs": [
    {
     "data": {
      "text/plain": [
       "0.005583728126697985"
      ]
     },
     "execution_count": 35,
     "metadata": {},
     "output_type": "execute_result"
    }
   ],
   "source": [
    "ks = np.array([50, 100, 1000, 10000])\n",
    "beta_estimates = [\n",
    "    compute_estimate(smaller_beta_3_discretized_params, k)\n",
    "    for k in [50, 100, 1000, 10000]\n",
    "]\n",
    "pass_at_ks = compute_p_at_ks(pythia12_math, ks)\n",
    "np.mean((beta_estimates - pass_at_ks) ** 2)"
   ]
  },
  {
   "cell_type": "code",
   "execution_count": 36,
   "metadata": {},
   "outputs": [
    {
     "data": {
      "text/plain": [
       "0.1105810841132504"
      ]
     },
     "execution_count": 36,
     "metadata": {},
     "output_type": "execute_result"
    }
   ],
   "source": [
    "smaller_beta_3_discrete_pass_at_10000 = 1 - np.exp(\n",
    "    -1\n",
    "    * analyze.compute_beta_binomial_three_parameters_distribution_neg_log_likelihood(\n",
    "        params=(\n",
    "            smaller_beta_3_discretized_params[\"alpha\"],\n",
    "            smaller_beta_3_discretized_params[\"beta\"],\n",
    "        ),\n",
    "        scale=smaller_beta_3_params[\"scale\"],\n",
    "        num_samples=np.array([10000]),\n",
    "        num_successes=np.array([0]),\n",
    "    )\n",
    ")\n",
    "smaller_beta_3_discrete_pass_at_10000"
   ]
  },
  {
   "cell_type": "code",
   "execution_count": 37,
   "metadata": {},
   "outputs": [
    {
     "name": "stdout",
     "output_type": "stream",
     "text": [
      "0.16807541865220188\n"
     ]
    }
   ],
   "source": [
    "# the better estimator:\n",
    "try:\n",
    "    discrete_at_9900 = 1 - np.exp(\n",
    "        -1\n",
    "        * analyze.compute_beta_binomial_three_parameters_distribution_neg_log_likelihood(\n",
    "            params=(\n",
    "                smaller_beta_3_discretized_params[\"alpha\"],\n",
    "                smaller_beta_3_discretized_params[\"beta\"],\n",
    "            ),\n",
    "            scale=smaller_beta_3_params[\"scale\"],\n",
    "            num_samples=np.array([1e5 - samples]),\n",
    "            num_successes=np.array([0]),\n",
    "        )\n",
    "    )\n",
    "    print(\n",
    "        (\n",
    "            discrete_at_9900\n",
    "            * len(\n",
    "                smaller_pythia12_math[\n",
    "                    smaller_pythia12_math[\"Num. Samples Correct\"] == 0\n",
    "                ]\n",
    "            )\n",
    "            + len(\n",
    "                smaller_pythia12_math[\n",
    "                    smaller_pythia12_math[\"Num. Samples Correct\"] != 0\n",
    "                ]\n",
    "            )\n",
    "        )\n",
    "        / len(smaller_pythia12_math)\n",
    "    )\n",
    "\n",
    "except:\n",
    "    pass"
   ]
  },
  {
   "cell_type": "code",
   "execution_count": 38,
   "metadata": {},
   "outputs": [
    {
     "name": "stdout",
     "output_type": "stream",
     "text": [
      "0.12017325753721657\n"
     ]
    }
   ],
   "source": [
    "# the better estimator:\n",
    "try:\n",
    "    discrete_fail_100 = np.exp(\n",
    "        -1\n",
    "        * analyze.compute_beta_binomial_three_parameters_distribution_neg_log_likelihood(\n",
    "            params=(\n",
    "                smaller_beta_3_discretized_params[\"alpha\"],\n",
    "                smaller_beta_3_discretized_params[\"beta\"],\n",
    "            ),\n",
    "            scale=smaller_beta_3_params[\"scale\"],\n",
    "            num_samples=np.array([samples]),\n",
    "            num_successes=np.array([0]),\n",
    "        )\n",
    "    )\n",
    "    discrete_fail_10000 = np.exp(\n",
    "        -1\n",
    "        * analyze.compute_beta_binomial_three_parameters_distribution_neg_log_likelihood(\n",
    "            params=(\n",
    "                smaller_beta_3_discretized_params[\"alpha\"],\n",
    "                smaller_beta_3_discretized_params[\"beta\"],\n",
    "            ),\n",
    "            scale=smaller_beta_3_params[\"scale\"],\n",
    "            num_samples=np.array([1e5]),\n",
    "            num_successes=np.array([0]),\n",
    "        )\n",
    "    )\n",
    "    print(\n",
    "        (\n",
    "            len(smaller_pythia12_math) * (discrete_fail_100 - discrete_fail_10000)\n",
    "            + len(\n",
    "                smaller_pythia12_math[\n",
    "                    smaller_pythia12_math[\"Num. Samples Correct\"] != 0\n",
    "                ]\n",
    "            )\n",
    "        )\n",
    "        / len(smaller_pythia12_math)\n",
    "    )\n",
    "except:\n",
    "    pass"
   ]
  },
  {
   "cell_type": "code",
   "execution_count": 39,
   "metadata": {},
   "outputs": [
    {
     "name": "stdout",
     "output_type": "stream",
     "text": [
      "0.04285714285714286\n"
     ]
    },
    {
     "data": {
      "text/plain": [
       "0.04912547064934109"
      ]
     },
     "execution_count": 39,
     "metadata": {},
     "output_type": "execute_result"
    }
   ],
   "source": [
    "fail_all = (\n",
    "    analyze.compute_beta_binomial_three_parameters_distribution_neg_log_likelihood(\n",
    "        params=(\n",
    "            smaller_beta_3_discretized_params[\"alpha\"],\n",
    "            smaller_beta_3_discretized_params[\"beta\"],\n",
    "        ),\n",
    "        scale=smaller_beta_3_params[\"scale\"],\n",
    "        num_samples=np.array([pythia12_math[\"Num. Samples Total\"].max()]),\n",
    "        num_successes=np.array([0]),\n",
    "    )\n",
    ")\n",
    "fail_first = (\n",
    "    analyze.compute_beta_binomial_three_parameters_distribution_neg_log_likelihood(\n",
    "        params=(\n",
    "            smaller_beta_3_discretized_params[\"alpha\"],\n",
    "            smaller_beta_3_discretized_params[\"beta\"],\n",
    "        ),\n",
    "        scale=smaller_beta_3_params[\"scale\"],\n",
    "        num_samples=np.array([smaller_pythia12_math[\"Num. Samples Total\"].max()]),\n",
    "        num_successes=np.array([0]),\n",
    "    )\n",
    ")\n",
    "succeed_first = len(\n",
    "    smaller_pythia12_math[smaller_pythia12_math[\"Num. Samples Correct\"] != 0]\n",
    ")\n",
    "fail_first_true = len(smaller_pythia12_math) - succeed_first\n",
    "questions = len(smaller_pythia12_math)\n",
    "print(succeed_first / questions)\n",
    "best_estimate = (\n",
    "    (fail_first_true - fail_all * questions) / fail_first_true + succeed_first\n",
    ") / questions\n",
    "best_estimate"
   ]
  },
  {
   "cell_type": "code",
   "execution_count": 40,
   "metadata": {},
   "outputs": [
    {
     "data": {
      "text/plain": [
       "0.20571848928194159"
      ]
     },
     "execution_count": 40,
     "metadata": {},
     "output_type": "execute_result"
    }
   ],
   "source": [
    "beta_3_discrete_pass_at_10000 = 1 - np.exp(\n",
    "    -1\n",
    "    * analyze.compute_beta_binomial_three_parameters_distribution_neg_log_likelihood(\n",
    "        params=(beta_3_discretized_params[\"alpha\"], beta_3_discretized_params[\"beta\"]),\n",
    "        scale=beta_3_discretized_params[\"scale\"],\n",
    "        num_samples=np.array([10000]),\n",
    "        num_successes=np.array([0]),\n",
    "    )\n",
    ")\n",
    "beta_3_discrete_pass_at_10000"
   ]
  },
  {
   "cell_type": "markdown",
   "metadata": {},
   "source": [
    "Rylan claimed that the pass@k estimates for the discretized distribution were superior.  Based on this analysis, the standard beta binomial estimator seems to work better.  There are many more models and datasets that one could analyze, though.  Maybe this observation doesn't hold widely across models.  It does seem fairly spectacular that with just 10 samples per problem we are able to estimate pass@k using this method within 2%.  "
   ]
  },
  {
   "cell_type": "code",
   "execution_count": 41,
   "metadata": {},
   "outputs": [
    {
     "data": {
      "text/html": [
       "<div>\n",
       "<style scoped>\n",
       "    .dataframe tbody tr th:only-of-type {\n",
       "        vertical-align: middle;\n",
       "    }\n",
       "\n",
       "    .dataframe tbody tr th {\n",
       "        vertical-align: top;\n",
       "    }\n",
       "\n",
       "    .dataframe thead th {\n",
       "        text-align: right;\n",
       "    }\n",
       "</style>\n",
       "<table border=\"1\" class=\"dataframe\">\n",
       "  <thead>\n",
       "    <tr style=\"text-align: right;\">\n",
       "      <th></th>\n",
       "      <th>Num. Samples Correct</th>\n",
       "      <th>Num. Samples Total</th>\n",
       "      <th>Score</th>\n",
       "    </tr>\n",
       "  </thead>\n",
       "  <tbody>\n",
       "    <tr>\n",
       "      <th>0</th>\n",
       "      <td>0</td>\n",
       "      <td>20.0</td>\n",
       "      <td>0.0</td>\n",
       "    </tr>\n",
       "    <tr>\n",
       "      <th>1</th>\n",
       "      <td>0</td>\n",
       "      <td>20.0</td>\n",
       "      <td>0.0</td>\n",
       "    </tr>\n",
       "    <tr>\n",
       "      <th>2</th>\n",
       "      <td>0</td>\n",
       "      <td>20.0</td>\n",
       "      <td>0.0</td>\n",
       "    </tr>\n",
       "    <tr>\n",
       "      <th>3</th>\n",
       "      <td>0</td>\n",
       "      <td>20.0</td>\n",
       "      <td>0.0</td>\n",
       "    </tr>\n",
       "    <tr>\n",
       "      <th>4</th>\n",
       "      <td>0</td>\n",
       "      <td>20.0</td>\n",
       "      <td>0.0</td>\n",
       "    </tr>\n",
       "    <tr>\n",
       "      <th>...</th>\n",
       "      <td>...</td>\n",
       "      <td>...</td>\n",
       "      <td>...</td>\n",
       "    </tr>\n",
       "    <tr>\n",
       "      <th>135</th>\n",
       "      <td>0</td>\n",
       "      <td>20.0</td>\n",
       "      <td>0.0</td>\n",
       "    </tr>\n",
       "    <tr>\n",
       "      <th>136</th>\n",
       "      <td>0</td>\n",
       "      <td>20.0</td>\n",
       "      <td>0.0</td>\n",
       "    </tr>\n",
       "    <tr>\n",
       "      <th>137</th>\n",
       "      <td>0</td>\n",
       "      <td>20.0</td>\n",
       "      <td>0.0</td>\n",
       "    </tr>\n",
       "    <tr>\n",
       "      <th>138</th>\n",
       "      <td>0</td>\n",
       "      <td>20.0</td>\n",
       "      <td>0.0</td>\n",
       "    </tr>\n",
       "    <tr>\n",
       "      <th>139</th>\n",
       "      <td>0</td>\n",
       "      <td>20.0</td>\n",
       "      <td>0.0</td>\n",
       "    </tr>\n",
       "  </tbody>\n",
       "</table>\n",
       "<p>140 rows × 3 columns</p>\n",
       "</div>"
      ],
      "text/plain": [
       "     Num. Samples Correct  Num. Samples Total  Score\n",
       "0                       0                20.0    0.0\n",
       "1                       0                20.0    0.0\n",
       "2                       0                20.0    0.0\n",
       "3                       0                20.0    0.0\n",
       "4                       0                20.0    0.0\n",
       "..                    ...                 ...    ...\n",
       "135                     0                20.0    0.0\n",
       "136                     0                20.0    0.0\n",
       "137                     0                20.0    0.0\n",
       "138                     0                20.0    0.0\n",
       "139                     0                20.0    0.0\n",
       "\n",
       "[140 rows x 3 columns]"
      ]
     },
     "execution_count": 41,
     "metadata": {},
     "output_type": "execute_result"
    }
   ],
   "source": [
    "smaller_pythia12_math"
   ]
  },
  {
   "cell_type": "markdown",
   "metadata": {},
   "source": [
    "Finally, let's look at the original estimator developed for fitting power laws."
   ]
  },
  {
   "cell_type": "code",
   "execution_count": 42,
   "metadata": {},
   "outputs": [
    {
     "data": {
      "text/plain": [
       "array([0.19934677])"
      ]
     },
     "execution_count": 42,
     "metadata": {},
     "output_type": "execute_result"
    }
   ],
   "source": [
    "# original estimator\n",
    "ks_fit = np.array([i for i in range(1, samples)])\n",
    "pass_at_ks = analyze.compute_pass_at_k_from_num_samples_and_num_successes_df(\n",
    "    smaller_pythia12_math, ks_fit\n",
    ")\n",
    "pass_at_ks = pass_at_ks.groupby(\"Scaling Parameter\")[\"Score\"].mean()\n",
    "model = LinearRegression(fit_intercept=True)\n",
    "model.fit(np.log(ks_fit).reshape(-1, 1), -np.log(pass_at_ks))\n",
    "np.exp(-model.predict(np.log([10000]).reshape(-1, 1)))"
   ]
  },
  {
   "cell_type": "code",
   "execution_count": 43,
   "metadata": {},
   "outputs": [
    {
     "data": {
      "text/plain": [
       "[<matplotlib.lines.Line2D at 0x290190f50>]"
      ]
     },
     "execution_count": 43,
     "metadata": {},
     "output_type": "execute_result"
    },
    {
     "data": {
      "image/png": "[encoded data removed]",
      "text/plain": [
       "<Figure size 640x480 with 1 Axes>"
      ]
     },
     "metadata": {},
     "output_type": "display_data"
    }
   ],
   "source": [
    "plt.scatter(np.log(ks_fit), -np.log(pass_at_ks))\n",
    "plt.plot(np.log(ks_fit), model.predict(np.log(ks_fit).reshape(-1, 1)))"
   ]
  },
  {
   "cell_type": "code",
   "execution_count": 44,
   "metadata": {},
   "outputs": [
    {
     "data": {
      "text/plain": [
       "3.8465390428180988"
      ]
     },
     "execution_count": 44,
     "metadata": {},
     "output_type": "execute_result"
    }
   ],
   "source": [
    "model.intercept_"
   ]
  },
  {
   "cell_type": "markdown",
   "metadata": {},
   "source": [
    "\n",
    "Define $\\eta_x = \\mathbb{E}[n_x]$, or the expected number of samples observed $x$ times in the first $[-k, 0)$ trials (we write this as a continuous interval to be consistent with Efron, but really it is $\\{-k, -k+1,...,-1\\})$.\n",
    "\n",
    "Under our model using Efron's notation, $$\\eta_x = S\\int_0^1 {k\\choose{x}} p^x(1-p)^{k-x} dG(p)$$.\n",
    "Let $t= n/k<1$, i.e. the number of new samples divided by the number of samples taken so far.  We also will need to assume that all of the probabilities are small in the sense that $(1-p_i)^n \\approx (1-np_i)$ for all probabilities and $(1-p_i)^k \\approx (1-p_i)^n$.  This is an obviously unrealistic assumption in our case.  We want to estimate the number of additional problems that we will solve at least once if we take $n$ additional samples.  In expectation, this is given by $$\\Delta_{t}(x) = S\\int_0^1 (1-p)^k(1-(1-p)^n)dG(p).$$  \n",
    "\n",
    "We can rewrite this as \n",
    "$$ \\Delta_t(x) = S \\int_0^1 (1-p)^k-(1-p)^{n}(1-p)^{k} \\\\ = \\eta_0 - S\\int_0^1 (1-p)^{n+k}.$$\n",
    "\n",
    "We use Poisson approximation in order to resolve the second term in terms of $\\eta_x$.  First, we need to assume a low time horizon, i.e. $0<t<1$ and small p.  Under these assumptions, we get\n",
    "\n",
    "$$  \\sum_{i=0}^{n+k} {n+k\\choose{i}}(-p)^i \\\\ = \\sum_{i=0}^{k} {k\\choose{i}}(-p)^i (1-p)^{n-i} \\\\ \\approx \\sum_{i=0}^k {k\\choose{i}}(-p)^i (1-p)^{k-i}.$$\n",
    "\n",
    "If one integrates this expression over the distribution of probabilities, one recovers $\\eta_0 - \\sum (-1)^i \\eta_i$.\n"
   ]
  },
  {
   "cell_type": "code",
   "execution_count": 45,
   "metadata": {},
   "outputs": [
    {
     "data": {
      "text/plain": [
       "1.6099531571795207e+23"
      ]
     },
     "execution_count": 45,
     "metadata": {},
     "output_type": "execute_result"
    }
   ],
   "source": [
    "stats_utils.compute_efron_estimator(smaller_pythia12_math, predicted_samples=980 / 20)"
   ]
  },
  {
   "cell_type": "markdown",
   "metadata": {},
   "source": [
    "More stable versions of Efron?"
   ]
  },
  {
   "cell_type": "code",
   "execution_count": 46,
   "metadata": {},
   "outputs": [
    {
     "name": "stdout",
     "output_type": "stream",
     "text": [
      "0.0020080240317408397\n"
     ]
    }
   ],
   "source": [
    "import math\n",
    "\n",
    "final_samples = 1e4 / samples\n",
    "highest = smaller_pythia12_math[\"Num. Samples Correct\"].max()\n",
    "total = 0\n",
    "for y in range(1, samples):\n",
    "    xi_y = 0\n",
    "    u = 2 / (final_samples - 1)\n",
    "    for j in range(1, y + 1):\n",
    "        xi_y += (\n",
    "            math.comb(y, j)\n",
    "            * (-1) ** (j + 1)\n",
    "            / 2**y\n",
    "            * len(\n",
    "                smaller_pythia12_math[\n",
    "                    smaller_pythia12_math[\"Num. Samples Correct\"] == j\n",
    "                ]\n",
    "            )\n",
    "        )\n",
    "    total += u**y * xi_y\n",
    "print(total)"
   ]
  },
  {
   "cell_type": "code",
   "execution_count": 47,
   "metadata": {},
   "outputs": [
    {
     "data": {
      "text/plain": [
       "0.04285714285714286"
      ]
     },
     "execution_count": 47,
     "metadata": {},
     "output_type": "execute_result"
    }
   ],
   "source": [
    "len(smaller_pythia12_math[smaller_pythia12_math[\"Num. Samples Correct\"] != 0]) / len(\n",
    "    smaller_pythia12_math\n",
    ")"
   ]
  },
  {
   "cell_type": "code",
   "execution_count": 48,
   "metadata": {},
   "outputs": [
    {
     "data": {
      "text/plain": [
       "0.05"
      ]
     },
     "execution_count": 48,
     "metadata": {},
     "output_type": "execute_result"
    }
   ],
   "source": [
    "def compute_bin_estimator(data, predicted_samples):\n",
    "    largest_success_rate = data[\"Num. Samples Correct\"].max()\n",
    "    total = 0\n",
    "    for i in range(1, largest_success_rate):\n",
    "        term = len(data[data[\"Num. Samples Correct\"] == i]) * (-1) ** (i + 1)\n",
    "        total += term\n",
    "\n",
    "    total += len(data[data[\"Num. Samples Correct\"] != 0])\n",
    "    total /= len(data)\n",
    "    return total\n",
    "\n",
    "\n",
    "compute_bin_estimator(smaller_pythia12_math, predicted_samples=0)"
   ]
  },
  {
   "cell_type": "code",
   "execution_count": 49,
   "metadata": {},
   "outputs": [
    {
     "data": {
      "text/plain": [
       "<module 'src.EM' from '/Users/jkazdan/Documents/Research/monkeys/KoyejoLab-Origin-Power-Laws-Scaling-Inference-Compute/src/EM.py'>"
      ]
     },
     "execution_count": 49,
     "metadata": {},
     "output_type": "execute_result"
    }
   ],
   "source": [
    "import importlib\n",
    "\n",
    "importlib.reload(bopt)\n",
    "importlib.reload(stats_utils)\n",
    "importlib.reload(mixtures)\n",
    "importlib.reload(EM)"
   ]
  },
  {
   "cell_type": "code",
   "execution_count": 83,
   "metadata": {},
   "outputs": [
    {
     "name": "stdout",
     "output_type": "stream",
     "text": [
      "0: nll: 41.4447192540471\n",
      "0: nll: 41.4447192539833\n",
      "0: nll: 41.4447192539833\n",
      "0: nll: 41.44471925398324\n",
      "0: nll: 41.44471925398153\n",
      "0: nll: 41.44471925398028\n",
      "0: nll: 41.44471925397983\n",
      "0: nll: 41.444719253979486\n",
      "0: nll: 41.444719253979486\n",
      "0: nll: 41.444719253979486\n",
      "0: nll: 41.444719253979486\n",
      "0: nll: 41.444719253979486\n",
      "0: nll: 41.444719253979486\n",
      "0: nll: 41.444719253979486\n",
      "0: nll: 41.444719253979486\n",
      "0: nll: 41.444719253979486\n",
      "0: nll: 41.444719253979486\n",
      "0: nll: 41.444719253979486\n",
      "0: nll: 41.444719253979486\n",
      "0: nll: 41.444719253979486\n",
      "0: nll: 41.444719253979486\n",
      "0: nll: 41.444719253979486\n",
      "0: nll: 41.444719253979486\n",
      "0: nll: 41.444719253979486\n",
      "0: nll: 41.444719253979486\n",
      "0: nll: 41.444719253979486\n",
      "0: nll: 41.444719253979486\n",
      "0: nll: 41.444719253979486\n",
      "0: nll: 41.444719253979486\n",
      "0: nll: 41.444719253979486\n",
      "0: nll: 41.444719253979486\n",
      "0: nll: 41.444719253979486\n",
      "0: nll: 41.444719253979486\n",
      "0: nll: 41.444719253979486\n",
      "0: nll: 41.444719253979486\n",
      "0: nll: 41.444719253979486\n",
      "0: nll: 41.444719253979486\n",
      "0: nll: 41.444719253979486\n",
      "0: nll: 41.444719253979486\n",
      "0: nll: 41.444719253979486\n",
      "0: nll: 41.444719253979486\n",
      "0: nll: 41.444719253979486\n",
      "0: nll: 41.444719253979486\n",
      "0: nll: 41.444719253979486\n",
      "0: nll: 41.444719253979486\n",
      "0: nll: 41.444719253979486\n",
      "0: nll: 41.444719253979486\n",
      "0: nll: 41.444719253979486\n",
      "0: nll: 41.444719253979486\n",
      "0: nll: 41.444719253979486\n",
      "0: nll: 41.444719253979486\n",
      "0: nll: 41.444719253979486\n",
      "0: nll: 41.444719253979486\n",
      "0: nll: 41.444719253979486\n",
      "0: nll: 41.444719253979486\n",
      "0: nll: 41.444719253979486\n",
      "0: nll: 41.444719253979486\n",
      "0: nll: 41.444719253979486\n",
      "0: nll: 41.444719253979486\n",
      "0: nll: 41.444719253979486\n",
      "0: nll: 41.444719253979486\n",
      "0: nll: 41.444719253979486\n",
      "0: nll: 41.444719253979486\n",
      "0: nll: 41.444719253979486\n",
      "0: nll: 41.444719253979486\n",
      "0: nll: 41.444719253979486\n",
      "0: nll: 41.444719253979486\n",
      "0: nll: 41.444719253979486\n",
      "0: nll: 41.444719253979486\n",
      "0: nll: 41.444719253979486\n",
      "0: nll: 41.444719253979486\n",
      "0: nll: 41.444719253979486\n",
      "0: nll: 41.444719253979486\n",
      "0: nll: 41.444719253979486\n",
      "0: nll: 41.444719253979486\n",
      "0: nll: 41.444719253979486\n",
      "0: nll: 41.444719253979486\n",
      "0: nll: 41.444719253979486\n",
      "0: nll: 41.444719253979486\n",
      "0: nll: 41.444719253979486\n",
      "0: nll: 41.444719253979486\n",
      "0: nll: 41.444719253979486\n",
      "0: nll: 41.444719253979486\n",
      "0: nll: 41.444719253979486\n",
      "0: nll: 41.444719253979486\n",
      "0: nll: 41.444719253979486\n",
      "0: nll: 41.444719253979486\n",
      "0: nll: 41.444719253979486\n",
      "0: nll: 41.444719253979486\n",
      "0: nll: 41.444719253979486\n",
      "0: nll: 41.444719253979486\n",
      "0: nll: 41.444719253979486\n",
      "0: nll: 41.444719253979486\n",
      "0: nll: 41.444719253979486\n",
      "0: nll: 41.444719253979486\n",
      "0: nll: 41.444719253979486\n",
      "0: nll: 41.444719253979486\n",
      "0: nll: 41.444719253979486\n",
      "0: nll: 41.444719253979486\n",
      "0: nll: 41.444719253979486\n",
      "0: nll: 41.444719253979486\n",
      "0: nll: 41.444719253979486\n",
      "0: nll: 41.444719253979486\n",
      "0: nll: 41.444719253979486\n",
      "0: nll: 41.444719253979486\n",
      "0: nll: 41.444719253979486\n",
      "0: nll: 41.444719253979486\n",
      "0: nll: 41.444719253979486\n",
      "0: nll: 41.444719253979486\n",
      "0: nll: 41.444719253979486\n",
      "0: nll: 41.444719253979486\n",
      "0: nll: 41.444719253979486\n",
      "0: nll: 41.444719253979486\n",
      "0: nll: 41.444719253979486\n",
      "0: nll: 41.444719253979486\n",
      "0: nll: 41.444719253979486\n",
      "0: nll: 41.444719253979486\n",
      "0: nll: 41.444719253979486\n",
      "0: nll: 41.444719253979486\n",
      "0: nll: 41.444719253979486\n",
      "0: nll: 41.444719253979486\n",
      "0: nll: 41.444719253979486\n",
      "0: nll: 41.444719253979486\n",
      "0: nll: 41.444719253979486\n",
      "0: nll: 41.444719253979486\n",
      "0: nll: 41.444719253979486\n",
      "0: nll: 41.444719253979486\n",
      "0: nll: 41.444719253979486\n",
      "0: nll: 41.444719253979486\n",
      "0: nll: 41.444719253979486\n",
      "0: nll: 41.444719253979486\n",
      "0: nll: 41.444719253979486\n",
      "0: nll: 41.444719253979486\n",
      "0: nll: 41.444719253979486\n",
      "0: nll: 41.444719253979486\n",
      "0: nll: 41.444719253979486\n",
      "0: nll: 41.444719253979486\n",
      "0: nll: 41.444719253979486\n",
      "0: nll: 41.444719253979486\n",
      "0: nll: 41.444719253979486\n",
      "0: nll: 41.444719253979486\n",
      "0: nll: 41.444719253979486\n",
      "0: nll: 41.444719253979486\n",
      "0: nll: 41.444719253979486\n",
      "0: nll: 41.444719253979486\n",
      "0: nll: 41.444719253979486\n",
      "0: nll: 41.444719253979486\n",
      "0: nll: 41.444719253979486\n",
      "0: nll: 41.444719253979486\n",
      "0: nll: 41.444719253979486\n",
      "0: nll: 41.444719253979486\n",
      "0: nll: 41.444719253979486\n",
      "0: nll: 41.444719253979486\n",
      "0: nll: 41.444719253979486\n",
      "0: nll: 41.444719253979486\n",
      "0: nll: 41.444719253979486\n",
      "0: nll: 41.444719253979486\n",
      "0: nll: 41.444719253979486\n",
      "0: nll: 41.444719253979486\n",
      "0: nll: 41.444719253979486\n",
      "0: nll: 41.444719253979486\n",
      "0: nll: 41.444719253979486\n",
      "0: nll: 41.444719253979486\n",
      "0: nll: 41.444719253979486\n",
      "0: nll: 41.444719253979486\n",
      "0: nll: 41.444719253979486\n",
      "0: nll: 41.444719253979486\n",
      "0: nll: 41.444719253979486\n",
      "0: nll: 41.444719253979486\n",
      "0: nll: 41.444719253979486\n",
      "0: nll: 41.444719253979486\n",
      "0: nll: 41.444719253979486\n",
      "0: nll: 41.444719253979486\n",
      "0: nll: 41.444719253979486\n",
      "0: nll: 41.444719253979486\n",
      "0: nll: 41.444719253979486\n",
      "0: nll: 41.444719253979486\n",
      "0: nll: 41.444719253979486\n",
      "0: nll: 41.444719253979486\n",
      "0: nll: 41.444719253979486\n",
      "0: nll: 41.444719253979486\n",
      "0: nll: 41.444719253979486\n",
      "0: nll: 41.444719253979486\n",
      "0: nll: 41.444719253979486\n",
      "0: nll: 41.444719253979486\n",
      "0: nll: 41.444719253979486\n",
      "0: nll: 41.444719253979486\n",
      "0: nll: 41.444719253979486\n",
      "0: nll: 41.444719253979486\n",
      "0: nll: 41.444719253979486\n",
      "0: nll: 41.444719253979486\n",
      "0: nll: 41.444719253979486\n",
      "0: nll: 41.444719253979486\n",
      "0: nll: 41.444719253979486\n",
      "0: nll: 41.444719253979486\n",
      "0: nll: 41.444719253979486\n",
      "0: nll: 41.444719253979486\n",
      "0: nll: 41.444719253979486\n",
      "0: nll: 41.444719253979486\n",
      "0: nll: 41.444719253979486\n",
      "0: nll: 41.444719253979486\n",
      "0: nll: 41.444719253979486\n",
      "0: nll: 41.444719253979486\n",
      "0: nll: 41.444719253979486\n",
      "0: nll: 41.444719253979486\n",
      "0: nll: 41.444719253979486\n",
      "0: nll: 41.444719253979486\n",
      "0: nll: 41.444719253979486\n",
      "0: nll: 41.444719253979486\n",
      "0: nll: 41.444719253979486\n",
      "0: nll: 41.444719253979486\n",
      "0: nll: 41.444719253979486\n",
      "0: nll: 41.444719253979486\n",
      "0: nll: 41.444719253979486\n",
      "0: nll: 41.444719253979486\n",
      "0: nll: 41.444719253979486\n",
      "0: nll: 41.444719253979486\n",
      "0: nll: 41.444719253979486\n",
      "0: nll: 41.444719253979486\n",
      "0: nll: 41.444719253979486\n",
      "0: nll: 41.444719253979486\n",
      "0: nll: 41.444719253979486\n",
      "0: nll: 41.444719253979486\n",
      "0: nll: 41.444719253979486\n",
      "0: nll: 41.444719253979486\n",
      "0: nll: 41.444719253979486\n",
      "0: nll: 41.444719253979486\n",
      "0: nll: 41.444719253979486\n",
      "0: nll: 41.444719253979486\n",
      "0: nll: 41.444719253979486\n",
      "0: nll: 41.444719253979486\n",
      "0: nll: 41.444719253979486\n",
      "0: nll: 41.444719253979486\n",
      "0: nll: 41.444719253979486\n",
      "0: nll: 41.444719253979486\n",
      "0: nll: 41.444719253979486\n",
      "0: nll: 41.444719253979486\n",
      "0: nll: 41.444719253979486\n",
      "0: nll: 41.444719253979486\n",
      "0: nll: 41.444719253979486\n",
      "0: nll: 41.444719253979486\n",
      "0: nll: 41.444719253979486\n",
      "0: nll: 41.444719253979486\n",
      "0: nll: 41.444719253979486\n",
      "0: nll: 41.444719253979486\n",
      "0: nll: 41.444719253979486\n",
      "0: nll: 41.444719253979486\n",
      "0: nll: 41.444719253979486\n",
      "0: nll: 41.444719253979486\n",
      "0: nll: 41.444719253979486\n",
      "0: nll: 41.444719253979486\n",
      "0: nll: 41.444719253979486\n",
      "0: nll: 41.444719253979486\n",
      "0: nll: 41.444719253979486\n",
      "0: nll: 41.444719253979486\n",
      "0: nll: 41.444719253979486\n",
      "0: nll: 41.444719253979486\n",
      "0: nll: 41.444719253979486\n",
      "0: nll: 41.444719253979486\n",
      "0: nll: 41.444719253979486\n",
      "0: nll: 41.444719253979486\n",
      "0: nll: 41.444719253979486\n",
      "0: nll: 41.444719253979486\n",
      "0: nll: 41.444719253979486\n",
      "0: nll: 41.444719253979486\n",
      "0: nll: 41.444719253979486\n",
      "0: nll: 41.444719253979486\n",
      "0: nll: 41.444719253979486\n",
      "0: nll: 41.444719253979486\n",
      "0: nll: 41.444719253979486\n",
      "0: nll: 41.444719253979486\n",
      "0: nll: 41.444719253979486\n",
      "0: nll: 41.444719253979486\n",
      "0: nll: 41.444719253979486\n",
      "0: nll: 41.444719253979486\n",
      "0: nll: 41.444719253979486\n",
      "0: nll: 41.444719253979486\n",
      "0: nll: 41.444719253979486\n",
      "0: nll: 41.444719253979486\n",
      "0: nll: 41.444719253979486\n",
      "0: nll: 41.444719253979486\n",
      "0: nll: 41.444719253979486\n",
      "0: nll: 41.444719253979486\n",
      "0: nll: 41.444719253979486\n",
      "0: nll: 41.444719253979486\n",
      "0: nll: 41.444719253979486\n",
      "0: nll: 41.444719253979486\n",
      "0: nll: 41.444719253979486\n",
      "0: nll: 41.444719253979486\n",
      "0: nll: 41.444719253979486\n",
      "0: nll: 41.444719253979486\n",
      "0: nll: 41.444719253979486\n",
      "0: nll: 41.444719253979486\n",
      "0: nll: 41.444719253979486\n",
      "0: nll: 41.444719253979486\n",
      "0: nll: 41.444719253979486\n",
      "0: nll: 41.444719253979486\n",
      "0: nll: 41.444719253979486\n",
      "0: nll: 41.444719253979486\n",
      "0: nll: 41.444719253979486\n",
      "0: nll: 41.444719253979486\n",
      "0: nll: 41.444719253979486\n",
      "0: nll: 41.444719253979486\n",
      "0: nll: 41.444719253979486\n",
      "0: nll: 41.444719253979486\n",
      "0: nll: 41.444719253979486\n",
      "0: nll: 41.444719253979486\n",
      "0: nll: 41.444719253979486\n",
      "0: nll: 41.444719253979486\n",
      "0: nll: 41.444719253979486\n",
      "0: nll: 41.444719253979486\n",
      "0: nll: 41.444719253979486\n",
      "0: nll: 41.444719253979486\n",
      "0: nll: 41.444719253979486\n",
      "0: nll: 41.444719253979486\n",
      "0: nll: 41.444719253979486\n",
      "0: nll: 41.444719253979486\n",
      "0: nll: 41.444719253979486\n",
      "0: nll: 41.444719253979486\n",
      "0: nll: 41.444719253979486\n",
      "0: nll: 41.444719253979486\n",
      "0: nll: 41.444719253979486\n",
      "0: nll: 41.444719253979486\n",
      "0: nll: 41.444719253979486\n",
      "0: nll: 41.444719253979486\n",
      "0: nll: 41.444719253979486\n",
      "0: nll: 41.444719253979486\n",
      "0: nll: 41.444719253979486\n",
      "0: nll: 41.444719253979486\n",
      "0: nll: 41.444719253979486\n",
      "0: nll: 41.444719253979486\n",
      "0: nll: 41.444719253979486\n",
      "0: nll: 41.444719253979486\n",
      "0: nll: 41.444719253979486\n",
      "0: nll: 41.444719253979486\n",
      "0: nll: 41.444719253979486\n",
      "0: nll: 41.444719253979486\n",
      "0: nll: 41.444719253979486\n",
      "0: nll: 41.444719253979486\n",
      "0: nll: 41.444719253979486\n",
      "0: nll: 41.444719253979486\n",
      "0: nll: 41.444719253979486\n",
      "0: nll: 41.444719253979486\n",
      "0: nll: 41.444719253979486\n",
      "0: nll: 41.444719253979486\n",
      "0: nll: 41.444719253979486\n",
      "0: nll: 41.444719253979486\n",
      "0: nll: 41.444719253979486\n",
      "0: nll: 41.444719253979486\n",
      "0: nll: 41.444719253979486\n",
      "0: nll: 41.444719253979486\n",
      "0: nll: 41.444719253979486\n",
      "0: nll: 41.444719253979486\n",
      "0: nll: 41.444719253979486\n",
      "0: nll: 41.444719253979486\n",
      "0: nll: 41.444719253979486\n",
      "0: nll: 41.444719253979486\n",
      "0: nll: 41.444719253979486\n",
      "0: nll: 41.444719253979486\n",
      "0: nll: 41.444719253979486\n",
      "0: nll: 41.444719253979486\n",
      "0: nll: 41.444719253979486\n",
      "0: nll: 41.444719253979486\n",
      "0: nll: 41.444719253979486\n",
      "0: nll: 41.444719253979486\n",
      "0: nll: 41.444719253979486\n",
      "0: nll: 41.444719253979486\n",
      "0: nll: 41.444719253979486\n",
      "0: nll: 41.444719253979486\n",
      "0: nll: 41.444719253979486\n",
      "0: nll: 41.444719253979486\n",
      "0: nll: 41.444719253979486\n",
      "0: nll: 41.444719253979486\n",
      "0: nll: 41.444719253979486\n",
      "0: nll: 41.444719253979486\n",
      "0: nll: 41.444719253979486\n",
      "0: nll: 41.444719253979486\n",
      "0: nll: 41.444719253979486\n",
      "0: nll: 41.444719253979486\n",
      "0: nll: 41.444719253979486\n",
      "0: nll: 41.444719253979486\n",
      "0: nll: 41.444719253979486\n",
      "0: nll: 41.444719253979486\n",
      "0: nll: 41.444719253979486\n",
      "0: nll: 41.444719253979486\n",
      "0: nll: 41.444719253979486\n",
      "0: nll: 41.444719253979486\n",
      "0: nll: 41.444719253979486\n",
      "0: nll: 41.444719253979486\n",
      "0: nll: 41.444719253979486\n",
      "0: nll: 41.444719253979486\n",
      "0: nll: 41.444719253979486\n",
      "0: nll: 41.444719253979486\n",
      "0: nll: 41.444719253979486\n",
      "0: nll: 41.444719253979486\n",
      "0: nll: 41.444719253979486\n",
      "0: nll: 41.444719253979486\n",
      "0: nll: 41.444719253979486\n",
      "0: nll: 41.444719253979486\n",
      "0: nll: 41.444719253979486\n",
      "0: nll: 41.444719253979486\n",
      "0: nll: 41.444719253979486\n",
      "0: nll: 41.444719253979486\n",
      "0: nll: 41.444719253979486\n",
      "0: nll: 41.444719253979486\n",
      "0: nll: 41.444719253979486\n",
      "0: nll: 41.444719253979486\n",
      "0: nll: 41.444719253979486\n",
      "0: nll: 41.444719253979486\n",
      "0: nll: 41.444719253979486\n",
      "0: nll: 41.444719253979486\n",
      "0: nll: 41.444719253979486\n",
      "0: nll: 41.444719253979486\n",
      "0: nll: 41.444719253979486\n",
      "0: nll: 41.444719253979486\n",
      "0: nll: 41.444719253979486\n",
      "0: nll: 41.444719253979486\n",
      "0: nll: 41.444719253979486\n",
      "0: nll: 41.444719253979486\n",
      "0: nll: 41.444719253979486\n",
      "0: nll: 41.444719253979486\n",
      "0: nll: 41.444719253979486\n",
      "0: nll: 41.444719253979486\n",
      "0: nll: 41.444719253979486\n",
      "0: nll: 41.444719253979486\n",
      "0: nll: 41.444719253979486\n",
      "0: nll: 41.444719253979486\n",
      "0: nll: 41.444719253979486\n",
      "0: nll: 41.444719253979486\n",
      "0: nll: 41.444719253979486\n",
      "0: nll: 41.444719253979486\n",
      "0: nll: 41.444719253979486\n",
      "0: nll: 41.444719253979486\n",
      "0: nll: 41.444719253979486\n",
      "0: nll: 41.444719253979486\n",
      "0: nll: 41.444719253979486\n",
      "0: nll: 41.444719253979486\n",
      "0: nll: 41.444719253979486\n",
      "0: nll: 41.444719253979486\n",
      "0: nll: 41.444719253979486\n",
      "0: nll: 41.444719253979486\n",
      "0: nll: 41.444719253979486\n",
      "0: nll: 41.444719253979486\n",
      "0: nll: 41.444719253979486\n",
      "0: nll: 41.444719253979486\n",
      "0: nll: 41.444719253979486\n",
      "0: nll: 41.444719253979486\n",
      "0: nll: 41.444719253979486\n",
      "0: nll: 41.444719253979486\n",
      "0: nll: 41.444719253979486\n",
      "0: nll: 41.444719253979486\n",
      "0: nll: 41.444719253979486\n",
      "0: nll: 41.444719253979486\n",
      "0: nll: 41.444719253979486\n",
      "0: nll: 41.444719253979486\n",
      "0: nll: 41.444719253979486\n",
      "0: nll: 41.444719253979486\n",
      "0: nll: 41.444719253979486\n",
      "0: nll: 41.444719253979486\n",
      "0: nll: 41.444719253979486\n",
      "0: nll: 41.444719253979486\n",
      "0: nll: 41.444719253979486\n",
      "0: nll: 41.444719253979486\n",
      "0: nll: 41.444719253979486\n",
      "0: nll: 41.444719253979486\n",
      "0: nll: 41.444719253979486\n",
      "0: nll: 41.444719253979486\n",
      "0: nll: 41.444719253979486\n",
      "0: nll: 41.444719253979486\n",
      "0: nll: 41.444719253979486\n",
      "0: nll: 41.444719253979486\n",
      "0: nll: 41.444719253979486\n",
      "0: nll: 41.444719253979486\n",
      "0: nll: 41.444719253979486\n",
      "0: nll: 41.444719253979486\n",
      "0: nll: 41.444719253979486\n",
      "0: nll: 41.444719253979486\n",
      "0: nll: 41.444719253979486\n",
      "0: nll: 41.444719253979486\n",
      "0: nll: 41.444719253979486\n",
      "0: nll: 41.444719253979486\n",
      "0: nll: 41.444719253979486\n",
      "0: nll: 41.444719253979486\n",
      "0: nll: 41.444719253979486\n",
      "0: nll: 41.444719253979486\n",
      "0: nll: 41.444719253979486\n",
      "0: nll: 41.444719253979486\n",
      "0: nll: 41.444719253979486\n",
      "0: nll: 41.444719253979486\n",
      "0: nll: 41.444719253979486\n",
      "0: nll: 41.444719253979486\n",
      "0: nll: 41.444719253979486\n",
      "0: nll: 41.444719253979486\n",
      "0: nll: 41.444719253979486\n",
      "0: nll: 41.444719253979486\n",
      "0: nll: 41.444719253979486\n",
      "0: nll: 41.444719253979486\n",
      "0: nll: 41.444719253979486\n",
      "0: nll: 41.444719253979486\n",
      "0: nll: 41.444719253979486\n"
     ]
    }
   ],
   "source": [
    "n_distr = 1\n",
    "beta_mixture = BEM.beta_binom_mixture(\n",
    "    n_distr=n_distr,\n",
    "    num_successes=smaller_pythia12_math[\"Num. Samples Correct\"],\n",
    "    num_trials=smaller_pythia12_math[\"Num. Samples Total\"],\n",
    ")\n",
    "beta_mixture_params = beta_mixture.fit_mixture()\n",
    "# beta_mixture_params = EM.fit_beta_binomial_mixture_em(smaller_pythia12_math['Num. Samples Total'], smaller_pythia12_math['Num. Samples Correct'], n_distr)"
   ]
  },
  {
   "cell_type": "code",
   "execution_count": 84,
   "metadata": {},
   "outputs": [
    {
     "name": "stdout",
     "output_type": "stream",
     "text": [
      "{'alpha_0': 0.007709469832975866, 'beta_0': 0.3789489705904275, 'pi_0': 1.0}\n"
     ]
    }
   ],
   "source": [
    "print(beta_mixture_params)"
   ]
  },
  {
   "cell_type": "code",
   "execution_count": 85,
   "metadata": {},
   "outputs": [
    {
     "data": {
      "image/png": "[encoded data removed]",
      "text/plain": [
       "<Figure size 1200x800 with 2 Axes>"
      ]
     },
     "execution_count": 85,
     "metadata": {},
     "output_type": "execute_result"
    },
    {
     "data": {
      "image/png": "[encoded data removed]",
      "text/plain": [
       "<Figure size 1200x800 with 2 Axes>"
      ]
     },
     "metadata": {},
     "output_type": "display_data"
    }
   ],
   "source": [
    "mixtures.plot_beta_binomial_mixture_with_histogram(\n",
    "    pythia12_math, beta_mixture_params, n_distr\n",
    ")"
   ]
  },
  {
   "cell_type": "code",
   "execution_count": 86,
   "metadata": {},
   "outputs": [
    {
     "data": {
      "text/plain": [
       "0.08767341447027122"
      ]
     },
     "execution_count": 86,
     "metadata": {},
     "output_type": "execute_result"
    }
   ],
   "source": [
    "# beta_mixture_params['pi_0'] =1\n",
    "probs = [beta_mixture_params[f\"pi_{i}\"] for i in range(n_distr - 1)]\n",
    "probs = np.array(probs + [1 - sum(probs)])\n",
    "log_probs = bopt.compute_component_log_pmfs(\n",
    "    0, 10000, beta_mixture_params, n_distr=n_distr\n",
    ") + np.log(probs)\n",
    "1 - np.exp(scipy.special.logsumexp(log_probs))"
   ]
  },
  {
   "cell_type": "code",
   "execution_count": 87,
   "metadata": {},
   "outputs": [
    {
     "data": {
      "text/plain": [
       "0.08768852801355358"
      ]
     },
     "execution_count": 87,
     "metadata": {},
     "output_type": "execute_result"
    }
   ],
   "source": [
    "expected = EM.compute_expected_pass_at_k(beta_mixture_params, n_distr, samples, 10000)\n",
    "expected + len(\n",
    "    smaller_pythia12_math[smaller_pythia12_math[\"Num. Samples Correct\"] != 0]\n",
    ") / len(pythia12_math)"
   ]
  },
  {
   "cell_type": "code",
   "execution_count": 88,
   "metadata": {},
   "outputs": [
    {
     "data": {
      "text/plain": [
       "0.08768852801355358"
      ]
     },
     "execution_count": 88,
     "metadata": {},
     "output_type": "execute_result"
    }
   ],
   "source": [
    "expected = EM.compute_expected_pass_at_k(beta_mixture_params, n_distr, samples, 10000)\n",
    "expected + len(\n",
    "    smaller_pythia12_math[smaller_pythia12_math[\"Num. Samples Correct\"] != 0]\n",
    ") / len(pythia12_math)"
   ]
  },
  {
   "cell_type": "code",
   "execution_count": 89,
   "metadata": {},
   "outputs": [
    {
     "data": {
      "text/plain": [
       "0.12675964729541678"
      ]
     },
     "execution_count": 89,
     "metadata": {},
     "output_type": "execute_result"
    }
   ],
   "source": [
    "expected = EM.compute_expected_pass_at_k(\n",
    "    beta_mixture_params, n_distr, 0, 10000 - samples\n",
    ") * len(smaller_pythia12_math[smaller_pythia12_math[\"Num. Samples Correct\"] == 0])\n",
    "(\n",
    "    expected\n",
    "    + len(smaller_pythia12_math[smaller_pythia12_math[\"Num. Samples Correct\"] != 0])\n",
    ") / len(pythia12_math)"
   ]
  },
  {
   "cell_type": "code",
   "execution_count": 90,
   "metadata": {},
   "outputs": [
    {
     "data": {
      "text/plain": [
       "0.1267731252734592"
      ]
     },
     "execution_count": 90,
     "metadata": {},
     "output_type": "execute_result"
    }
   ],
   "source": [
    "num_samples_total = pythia12_math[\"Num. Samples Total\"].max()\n",
    "fail_all_mixture = 1 - EM.compute_expected_pass_at_k(\n",
    "    beta_mixture_params, n_distr, 0, num_samples_total\n",
    ")\n",
    "# fail_first = analyze.compute_beta_binomial_three_parameters_distribution_neg_log_likelihood(params = (smaller_beta_3_discretized_params['alpha'], smaller_beta_3_discretized_params['beta']), scale = smaller_beta_3_params['scale'], num_samples = np.array([smaller_pythia12_math['Num. Samples Total'].max()]), num_successes = np.array([0]) )\n",
    "succeed_first = len(\n",
    "    smaller_pythia12_math[smaller_pythia12_math[\"Num. Samples Correct\"] != 0]\n",
    ")\n",
    "fail_first_true = len(smaller_pythia12_math) - succeed_first\n",
    "questions = len(smaller_pythia12_math)\n",
    "best_estimate = ((questions - fail_all_mixture * fail_first_true)) / questions\n",
    "best_estimate"
   ]
  },
  {
   "cell_type": "code",
   "execution_count": 91,
   "metadata": {},
   "outputs": [],
   "source": [
    "def compute_estimates_better_mixture(data, params, k, n_distr):\n",
    "    unsolved = 1 - EM.compute_expected_pass_at_k(beta_mixture_params, n_distr, 0, k)\n",
    "    fail_first_true = len(data[data[\"Num. Samples Correct\"] == 0])\n",
    "    questions = len(data)\n",
    "    estimate = (questions - fail_first_true * unsolved) / questions\n",
    "    return estimate"
   ]
  },
  {
   "cell_type": "code",
   "execution_count": 92,
   "metadata": {},
   "outputs": [],
   "source": [
    "mixture_estimates = [\n",
    "    compute_estimates_better_mixture(\n",
    "        smaller_pythia12_math, beta_mixture_params, k, n_distr\n",
    "    )\n",
    "    for k in ks\n",
    "]"
   ]
  },
  {
   "cell_type": "code",
   "execution_count": 93,
   "metadata": {},
   "outputs": [
    {
     "data": {
      "text/plain": [
       "[0.0903494710750058,\n",
       " 0.09520559591740647,\n",
       " 0.11113272739904018,\n",
       " 0.1267731252734592]"
      ]
     },
     "execution_count": 93,
     "metadata": {},
     "output_type": "execute_result"
    }
   ],
   "source": [
    "mixture_estimates"
   ]
  },
  {
   "cell_type": "code",
   "execution_count": 94,
   "metadata": {},
   "outputs": [],
   "source": [
    "# chao's estimator\n",
    "fraction_solved_1 = smaller_pythia12_math[\n",
    "    smaller_pythia12_math[\"Num. Samples Correct\"] == 1\n",
    "].count()  # /len(smaller_pythia12_math)"
   ]
  },
  {
   "cell_type": "code",
   "execution_count": 95,
   "metadata": {},
   "outputs": [],
   "source": [
    "fraction_solved_2 = smaller_pythia12_math[\n",
    "    smaller_pythia12_math[\"Num. Samples Correct\"] == 2\n",
    "].count()  # /len(smaller_pythia12_math)"
   ]
  },
  {
   "cell_type": "code",
   "execution_count": 96,
   "metadata": {},
   "outputs": [
    {
     "data": {
      "text/plain": [
       "Num. Samples Correct    0.042857\n",
       "Num. Samples Total      0.042857\n",
       "Score                   0.042857\n",
       "dtype: float64"
      ]
     },
     "execution_count": 96,
     "metadata": {},
     "output_type": "execute_result"
    }
   ],
   "source": [
    "(\n",
    "    smaller_pythia12_math[smaller_pythia12_math[\"Num. Samples Correct\"] != 0].count()\n",
    "    + fraction_solved_1 * (fraction_solved_1 - 1) / (2 * (fraction_solved_2 + 1))\n",
    ") / len(smaller_pythia12_math)"
   ]
  },
  {
   "cell_type": "code",
   "execution_count": 97,
   "metadata": {},
   "outputs": [],
   "source": [
    "def good_turing(data):\n",
    "    largest_success_rate = data[\"Num. Samples Correct\"].max()\n",
    "    total = 0\n",
    "    for i in range(largest_success_rate + 1):\n",
    "        solved_i = len(data[data[\"Num. Samples Correct\"] == i])\n",
    "        solved_iadd1 = len(data[data[\"Num. Samples Correct\"] == i + 1])\n",
    "        smoothed_n_i = (i + 1) * solved_iadd1 / solved_i\n",
    "        print(smoothed_n_i)\n",
    "        if i < 3:\n",
    "            p_hat_i = i / samples  # smoothed_n_i / data['Num. Samples Total'].max()\n",
    "        else:\n",
    "            p_hat_i = i / samples\n",
    "        total += solved_i * (1 - (1 - p_hat_i) ** 1e5)\n",
    "    return total, total / len(data)"
   ]
  },
  {
   "cell_type": "code",
   "execution_count": 98,
   "metadata": {},
   "outputs": [
    {
     "name": "stdout",
     "output_type": "stream",
     "text": [
      "0.007462686567164179\n",
      "2.0\n",
      "0.0\n"
     ]
    }
   ],
   "source": [
    "try:\n",
    "    good_turing(smaller_pythia12_math)\n",
    "except:\n",
    "    pass"
   ]
  },
  {
   "cell_type": "code",
   "execution_count": 99,
   "metadata": {},
   "outputs": [
    {
     "data": {
      "text/html": [
       "<style>#sk-container-id-2 {\n",
       "  /* Definition of color scheme common for light and dark mode */\n",
       "  --sklearn-color-text: #000;\n",
       "  --sklearn-color-text-muted: #666;\n",
       "  --sklearn-color-line: gray;\n",
       "  /* Definition of color scheme for unfitted estimators */\n",
       "  --sklearn-color-unfitted-level-0: #fff5e6;\n",
       "  --sklearn-color-unfitted-level-1: #f6e4d2;\n",
       "  --sklearn-color-unfitted-level-2: #ffe0b3;\n",
       "  --sklearn-color-unfitted-level-3: chocolate;\n",
       "  /* Definition of color scheme for fitted estimators */\n",
       "  --sklearn-color-fitted-level-0: #f0f8ff;\n",
       "  --sklearn-color-fitted-level-1: #d4ebff;\n",
       "  --sklearn-color-fitted-level-2: #b3dbfd;\n",
       "  --sklearn-color-fitted-level-3: cornflowerblue;\n",
       "\n",
       "  /* Specific color for light theme */\n",
       "  --sklearn-color-text-on-default-background: var(--sg-text-color, var(--theme-code-foreground, var(--jp-content-font-color1, black)));\n",
       "  --sklearn-color-background: var(--sg-background-color, var(--theme-background, var(--jp-layout-color0, white)));\n",
       "  --sklearn-color-border-box: var(--sg-text-color, var(--theme-code-foreground, var(--jp-content-font-color1, black)));\n",
       "  --sklearn-color-icon: #696969;\n",
       "\n",
       "  @media (prefers-color-scheme: dark) {\n",
       "    /* Redefinition of color scheme for dark theme */\n",
       "    --sklearn-color-text-on-default-background: var(--sg-text-color, var(--theme-code-foreground, var(--jp-content-font-color1, white)));\n",
       "    --sklearn-color-background: var(--sg-background-color, var(--theme-background, var(--jp-layout-color0, #111)));\n",
       "    --sklearn-color-border-box: var(--sg-text-color, var(--theme-code-foreground, var(--jp-content-font-color1, white)));\n",
       "    --sklearn-color-icon: #878787;\n",
       "  }\n",
       "}\n",
       "\n",
       "#sk-container-id-2 {\n",
       "  color: var(--sklearn-color-text);\n",
       "}\n",
       "\n",
       "#sk-container-id-2 pre {\n",
       "  padding: 0;\n",
       "}\n",
       "\n",
       "#sk-container-id-2 input.sk-hidden--visually {\n",
       "  border: 0;\n",
       "  clip: rect(1px 1px 1px 1px);\n",
       "  clip: rect(1px, 1px, 1px, 1px);\n",
       "  height: 1px;\n",
       "  margin: -1px;\n",
       "  overflow: hidden;\n",
       "  padding: 0;\n",
       "  position: absolute;\n",
       "  width: 1px;\n",
       "}\n",
       "\n",
       "#sk-container-id-2 div.sk-dashed-wrapped {\n",
       "  border: 1px dashed var(--sklearn-color-line);\n",
       "  margin: 0 0.4em 0.5em 0.4em;\n",
       "  box-sizing: border-box;\n",
       "  padding-bottom: 0.4em;\n",
       "  background-color: var(--sklearn-color-background);\n",
       "}\n",
       "\n",
       "#sk-container-id-2 div.sk-container {\n",
       "  /* jupyter's `normalize.less` sets `[hidden] { display: none; }`\n",
       "     but bootstrap.min.css set `[hidden] { display: none !important; }`\n",
       "     so we also need the `!important` here to be able to override the\n",
       "     default hidden behavior on the sphinx rendered scikit-learn.org.\n",
       "     See: https://github.com/scikit-learn/scikit-learn/issues/21755 */\n",
       "  display: inline-block !important;\n",
       "  position: relative;\n",
       "}\n",
       "\n",
       "#sk-container-id-2 div.sk-text-repr-fallback {\n",
       "  display: none;\n",
       "}\n",
       "\n",
       "div.sk-parallel-item,\n",
       "div.sk-serial,\n",
       "div.sk-item {\n",
       "  /* draw centered vertical line to link estimators */\n",
       "  background-image: linear-gradient(var(--sklearn-color-text-on-default-background), var(--sklearn-color-text-on-default-background));\n",
       "  background-size: 2px 100%;\n",
       "  background-repeat: no-repeat;\n",
       "  background-position: center center;\n",
       "}\n",
       "\n",
       "/* Parallel-specific style estimator block */\n",
       "\n",
       "#sk-container-id-2 div.sk-parallel-item::after {\n",
       "  content: \"\";\n",
       "  width: 100%;\n",
       "  border-bottom: 2px solid var(--sklearn-color-text-on-default-background);\n",
       "  flex-grow: 1;\n",
       "}\n",
       "\n",
       "#sk-container-id-2 div.sk-parallel {\n",
       "  display: flex;\n",
       "  align-items: stretch;\n",
       "  justify-content: center;\n",
       "  background-color: var(--sklearn-color-background);\n",
       "  position: relative;\n",
       "}\n",
       "\n",
       "#sk-container-id-2 div.sk-parallel-item {\n",
       "  display: flex;\n",
       "  flex-direction: column;\n",
       "}\n",
       "\n",
       "#sk-container-id-2 div.sk-parallel-item:first-child::after {\n",
       "  align-self: flex-end;\n",
       "  width: 50%;\n",
       "}\n",
       "\n",
       "#sk-container-id-2 div.sk-parallel-item:last-child::after {\n",
       "  align-self: flex-start;\n",
       "  width: 50%;\n",
       "}\n",
       "\n",
       "#sk-container-id-2 div.sk-parallel-item:only-child::after {\n",
       "  width: 0;\n",
       "}\n",
       "\n",
       "/* Serial-specific style estimator block */\n",
       "\n",
       "#sk-container-id-2 div.sk-serial {\n",
       "  display: flex;\n",
       "  flex-direction: column;\n",
       "  align-items: center;\n",
       "  background-color: var(--sklearn-color-background);\n",
       "  padding-right: 1em;\n",
       "  padding-left: 1em;\n",
       "}\n",
       "\n",
       "\n",
       "/* Toggleable style: style used for estimator/Pipeline/ColumnTransformer box that is\n",
       "clickable and can be expanded/collapsed.\n",
       "- Pipeline and ColumnTransformer use this feature and define the default style\n",
       "- Estimators will overwrite some part of the style using the `sk-estimator` class\n",
       "*/\n",
       "\n",
       "/* Pipeline and ColumnTransformer style (default) */\n",
       "\n",
       "#sk-container-id-2 div.sk-toggleable {\n",
       "  /* Default theme specific background. It is overwritten whether we have a\n",
       "  specific estimator or a Pipeline/ColumnTransformer */\n",
       "  background-color: var(--sklearn-color-background);\n",
       "}\n",
       "\n",
       "/* Toggleable label */\n",
       "#sk-container-id-2 label.sk-toggleable__label {\n",
       "  cursor: pointer;\n",
       "  display: flex;\n",
       "  width: 100%;\n",
       "  margin-bottom: 0;\n",
       "  padding: 0.5em;\n",
       "  box-sizing: border-box;\n",
       "  text-align: center;\n",
       "  align-items: start;\n",
       "  justify-content: space-between;\n",
       "  gap: 0.5em;\n",
       "}\n",
       "\n",
       "#sk-container-id-2 label.sk-toggleable__label .caption {\n",
       "  font-size: 0.6rem;\n",
       "  font-weight: lighter;\n",
       "  color: var(--sklearn-color-text-muted);\n",
       "}\n",
       "\n",
       "#sk-container-id-2 label.sk-toggleable__label-arrow:before {\n",
       "  /* Arrow on the left of the label */\n",
       "  content: \"▸\";\n",
       "  float: left;\n",
       "  margin-right: 0.25em;\n",
       "  color: var(--sklearn-color-icon);\n",
       "}\n",
       "\n",
       "#sk-container-id-2 label.sk-toggleable__label-arrow:hover:before {\n",
       "  color: var(--sklearn-color-text);\n",
       "}\n",
       "\n",
       "/* Toggleable content - dropdown */\n",
       "\n",
       "#sk-container-id-2 div.sk-toggleable__content {\n",
       "  max-height: 0;\n",
       "  max-width: 0;\n",
       "  overflow: hidden;\n",
       "  text-align: left;\n",
       "  /* unfitted */\n",
       "  background-color: var(--sklearn-color-unfitted-level-0);\n",
       "}\n",
       "\n",
       "#sk-container-id-2 div.sk-toggleable__content.fitted {\n",
       "  /* fitted */\n",
       "  background-color: var(--sklearn-color-fitted-level-0);\n",
       "}\n",
       "\n",
       "#sk-container-id-2 div.sk-toggleable__content pre {\n",
       "  margin: 0.2em;\n",
       "  border-radius: 0.25em;\n",
       "  color: var(--sklearn-color-text);\n",
       "  /* unfitted */\n",
       "  background-color: var(--sklearn-color-unfitted-level-0);\n",
       "}\n",
       "\n",
       "#sk-container-id-2 div.sk-toggleable__content.fitted pre {\n",
       "  /* unfitted */\n",
       "  background-color: var(--sklearn-color-fitted-level-0);\n",
       "}\n",
       "\n",
       "#sk-container-id-2 input.sk-toggleable__control:checked~div.sk-toggleable__content {\n",
       "  /* Expand drop-down */\n",
       "  max-height: 200px;\n",
       "  max-width: 100%;\n",
       "  overflow: auto;\n",
       "}\n",
       "\n",
       "#sk-container-id-2 input.sk-toggleable__control:checked~label.sk-toggleable__label-arrow:before {\n",
       "  content: \"▾\";\n",
       "}\n",
       "\n",
       "/* Pipeline/ColumnTransformer-specific style */\n",
       "\n",
       "#sk-container-id-2 div.sk-label input.sk-toggleable__control:checked~label.sk-toggleable__label {\n",
       "  color: var(--sklearn-color-text);\n",
       "  background-color: var(--sklearn-color-unfitted-level-2);\n",
       "}\n",
       "\n",
       "#sk-container-id-2 div.sk-label.fitted input.sk-toggleable__control:checked~label.sk-toggleable__label {\n",
       "  background-color: var(--sklearn-color-fitted-level-2);\n",
       "}\n",
       "\n",
       "/* Estimator-specific style */\n",
       "\n",
       "/* Colorize estimator box */\n",
       "#sk-container-id-2 div.sk-estimator input.sk-toggleable__control:checked~label.sk-toggleable__label {\n",
       "  /* unfitted */\n",
       "  background-color: var(--sklearn-color-unfitted-level-2);\n",
       "}\n",
       "\n",
       "#sk-container-id-2 div.sk-estimator.fitted input.sk-toggleable__control:checked~label.sk-toggleable__label {\n",
       "  /* fitted */\n",
       "  background-color: var(--sklearn-color-fitted-level-2);\n",
       "}\n",
       "\n",
       "#sk-container-id-2 div.sk-label label.sk-toggleable__label,\n",
       "#sk-container-id-2 div.sk-label label {\n",
       "  /* The background is the default theme color */\n",
       "  color: var(--sklearn-color-text-on-default-background);\n",
       "}\n",
       "\n",
       "/* On hover, darken the color of the background */\n",
       "#sk-container-id-2 div.sk-label:hover label.sk-toggleable__label {\n",
       "  color: var(--sklearn-color-text);\n",
       "  background-color: var(--sklearn-color-unfitted-level-2);\n",
       "}\n",
       "\n",
       "/* Label box, darken color on hover, fitted */\n",
       "#sk-container-id-2 div.sk-label.fitted:hover label.sk-toggleable__label.fitted {\n",
       "  color: var(--sklearn-color-text);\n",
       "  background-color: var(--sklearn-color-fitted-level-2);\n",
       "}\n",
       "\n",
       "/* Estimator label */\n",
       "\n",
       "#sk-container-id-2 div.sk-label label {\n",
       "  font-family: monospace;\n",
       "  font-weight: bold;\n",
       "  display: inline-block;\n",
       "  line-height: 1.2em;\n",
       "}\n",
       "\n",
       "#sk-container-id-2 div.sk-label-container {\n",
       "  text-align: center;\n",
       "}\n",
       "\n",
       "/* Estimator-specific */\n",
       "#sk-container-id-2 div.sk-estimator {\n",
       "  font-family: monospace;\n",
       "  border: 1px dotted var(--sklearn-color-border-box);\n",
       "  border-radius: 0.25em;\n",
       "  box-sizing: border-box;\n",
       "  margin-bottom: 0.5em;\n",
       "  /* unfitted */\n",
       "  background-color: var(--sklearn-color-unfitted-level-0);\n",
       "}\n",
       "\n",
       "#sk-container-id-2 div.sk-estimator.fitted {\n",
       "  /* fitted */\n",
       "  background-color: var(--sklearn-color-fitted-level-0);\n",
       "}\n",
       "\n",
       "/* on hover */\n",
       "#sk-container-id-2 div.sk-estimator:hover {\n",
       "  /* unfitted */\n",
       "  background-color: var(--sklearn-color-unfitted-level-2);\n",
       "}\n",
       "\n",
       "#sk-container-id-2 div.sk-estimator.fitted:hover {\n",
       "  /* fitted */\n",
       "  background-color: var(--sklearn-color-fitted-level-2);\n",
       "}\n",
       "\n",
       "/* Specification for estimator info (e.g. \"i\" and \"?\") */\n",
       "\n",
       "/* Common style for \"i\" and \"?\" */\n",
       "\n",
       ".sk-estimator-doc-link,\n",
       "a:link.sk-estimator-doc-link,\n",
       "a:visited.sk-estimator-doc-link {\n",
       "  float: right;\n",
       "  font-size: smaller;\n",
       "  line-height: 1em;\n",
       "  font-family: monospace;\n",
       "  background-color: var(--sklearn-color-background);\n",
       "  border-radius: 1em;\n",
       "  height: 1em;\n",
       "  width: 1em;\n",
       "  text-decoration: none !important;\n",
       "  margin-left: 0.5em;\n",
       "  text-align: center;\n",
       "  /* unfitted */\n",
       "  border: var(--sklearn-color-unfitted-level-1) 1pt solid;\n",
       "  color: var(--sklearn-color-unfitted-level-1);\n",
       "}\n",
       "\n",
       ".sk-estimator-doc-link.fitted,\n",
       "a:link.sk-estimator-doc-link.fitted,\n",
       "a:visited.sk-estimator-doc-link.fitted {\n",
       "  /* fitted */\n",
       "  border: var(--sklearn-color-fitted-level-1) 1pt solid;\n",
       "  color: var(--sklearn-color-fitted-level-1);\n",
       "}\n",
       "\n",
       "/* On hover */\n",
       "div.sk-estimator:hover .sk-estimator-doc-link:hover,\n",
       ".sk-estimator-doc-link:hover,\n",
       "div.sk-label-container:hover .sk-estimator-doc-link:hover,\n",
       ".sk-estimator-doc-link:hover {\n",
       "  /* unfitted */\n",
       "  background-color: var(--sklearn-color-unfitted-level-3);\n",
       "  color: var(--sklearn-color-background);\n",
       "  text-decoration: none;\n",
       "}\n",
       "\n",
       "div.sk-estimator.fitted:hover .sk-estimator-doc-link.fitted:hover,\n",
       ".sk-estimator-doc-link.fitted:hover,\n",
       "div.sk-label-container:hover .sk-estimator-doc-link.fitted:hover,\n",
       ".sk-estimator-doc-link.fitted:hover {\n",
       "  /* fitted */\n",
       "  background-color: var(--sklearn-color-fitted-level-3);\n",
       "  color: var(--sklearn-color-background);\n",
       "  text-decoration: none;\n",
       "}\n",
       "\n",
       "/* Span, style for the box shown on hovering the info icon */\n",
       ".sk-estimator-doc-link span {\n",
       "  display: none;\n",
       "  z-index: 9999;\n",
       "  position: relative;\n",
       "  font-weight: normal;\n",
       "  right: .2ex;\n",
       "  padding: .5ex;\n",
       "  margin: .5ex;\n",
       "  width: min-content;\n",
       "  min-width: 20ex;\n",
       "  max-width: 50ex;\n",
       "  color: var(--sklearn-color-text);\n",
       "  box-shadow: 2pt 2pt 4pt #999;\n",
       "  /* unfitted */\n",
       "  background: var(--sklearn-color-unfitted-level-0);\n",
       "  border: .5pt solid var(--sklearn-color-unfitted-level-3);\n",
       "}\n",
       "\n",
       ".sk-estimator-doc-link.fitted span {\n",
       "  /* fitted */\n",
       "  background: var(--sklearn-color-fitted-level-0);\n",
       "  border: var(--sklearn-color-fitted-level-3);\n",
       "}\n",
       "\n",
       ".sk-estimator-doc-link:hover span {\n",
       "  display: block;\n",
       "}\n",
       "\n",
       "/* \"?\"-specific style due to the `<a>` HTML tag */\n",
       "\n",
       "#sk-container-id-2 a.estimator_doc_link {\n",
       "  float: right;\n",
       "  font-size: 1rem;\n",
       "  line-height: 1em;\n",
       "  font-family: monospace;\n",
       "  background-color: var(--sklearn-color-background);\n",
       "  border-radius: 1rem;\n",
       "  height: 1rem;\n",
       "  width: 1rem;\n",
       "  text-decoration: none;\n",
       "  /* unfitted */\n",
       "  color: var(--sklearn-color-unfitted-level-1);\n",
       "  border: var(--sklearn-color-unfitted-level-1) 1pt solid;\n",
       "}\n",
       "\n",
       "#sk-container-id-2 a.estimator_doc_link.fitted {\n",
       "  /* fitted */\n",
       "  border: var(--sklearn-color-fitted-level-1) 1pt solid;\n",
       "  color: var(--sklearn-color-fitted-level-1);\n",
       "}\n",
       "\n",
       "/* On hover */\n",
       "#sk-container-id-2 a.estimator_doc_link:hover {\n",
       "  /* unfitted */\n",
       "  background-color: var(--sklearn-color-unfitted-level-3);\n",
       "  color: var(--sklearn-color-background);\n",
       "  text-decoration: none;\n",
       "}\n",
       "\n",
       "#sk-container-id-2 a.estimator_doc_link.fitted:hover {\n",
       "  /* fitted */\n",
       "  background-color: var(--sklearn-color-fitted-level-3);\n",
       "}\n",
       "</style><div id=\"sk-container-id-2\" class=\"sk-top-container\"><div class=\"sk-text-repr-fallback\"><pre>LinearRegression()</pre><b>In a Jupyter environment, please rerun this cell to show the HTML representation or trust the notebook. <br />On GitHub, the HTML representation is unable to render, please try loading this page with nbviewer.org.</b></div><div class=\"sk-container\" hidden><div class=\"sk-item\"><div class=\"sk-estimator fitted sk-toggleable\"><input class=\"sk-toggleable__control sk-hidden--visually\" id=\"sk-estimator-id-2\" type=\"checkbox\" checked><label for=\"sk-estimator-id-2\" class=\"sk-toggleable__label fitted sk-toggleable__label-arrow\"><div><div>LinearRegression</div></div><div><a class=\"sk-estimator-doc-link fitted\" rel=\"noreferrer\" target=\"_blank\" href=\"https://scikit-learn.org/1.6/modules/generated/sklearn.linear_model.LinearRegression.html\">?<span>Documentation for LinearRegression</span></a><span class=\"sk-estimator-doc-link fitted\">i<span>Fitted</span></span></div></label><div class=\"sk-toggleable__content fitted\"><pre>LinearRegression()</pre></div> </div></div></div></div>"
      ],
      "text/plain": [
       "LinearRegression()"
      ]
     },
     "execution_count": 99,
     "metadata": {},
     "output_type": "execute_result"
    }
   ],
   "source": [
    "model"
   ]
  },
  {
   "cell_type": "code",
   "execution_count": 100,
   "metadata": {},
   "outputs": [],
   "source": [
    "X = ks.reshape(-1, 1)\n",
    "regression_predictions = np.exp(-model.predict(np.log(X)))"
   ]
  },
  {
   "cell_type": "code",
   "execution_count": 101,
   "metadata": {},
   "outputs": [
    {
     "data": {
      "text/plain": [
       "array([0.0551479 , 0.0652438 , 0.11404447, 0.19934677])"
      ]
     },
     "execution_count": 101,
     "metadata": {},
     "output_type": "execute_result"
    }
   ],
   "source": [
    "regression_predictions"
   ]
  },
  {
   "cell_type": "code",
   "execution_count": 102,
   "metadata": {},
   "outputs": [
    {
     "data": {
      "text/html": [
       "<div>\n",
       "<style scoped>\n",
       "    .dataframe tbody tr th:only-of-type {\n",
       "        vertical-align: middle;\n",
       "    }\n",
       "\n",
       "    .dataframe tbody tr th {\n",
       "        vertical-align: top;\n",
       "    }\n",
       "\n",
       "    .dataframe thead th {\n",
       "        text-align: right;\n",
       "    }\n",
       "</style>\n",
       "<table border=\"1\" class=\"dataframe\">\n",
       "  <thead>\n",
       "    <tr style=\"text-align: right;\">\n",
       "      <th></th>\n",
       "      <th>Problem Idx</th>\n",
       "      <th>Attempt Idx</th>\n",
       "      <th>Score</th>\n",
       "      <th>Benchmark</th>\n",
       "      <th>Model</th>\n",
       "    </tr>\n",
       "  </thead>\n",
       "  <tbody>\n",
       "    <tr>\n",
       "      <th>1400067</th>\n",
       "      <td>82</td>\n",
       "      <td>1</td>\n",
       "      <td>0.0</td>\n",
       "      <td>CodeContests</td>\n",
       "      <td>Llama 3 8B Instruct</td>\n",
       "    </tr>\n",
       "    <tr>\n",
       "      <th>1400207</th>\n",
       "      <td>82</td>\n",
       "      <td>2</td>\n",
       "      <td>0.0</td>\n",
       "      <td>CodeContests</td>\n",
       "      <td>Llama 3 8B Instruct</td>\n",
       "    </tr>\n",
       "    <tr>\n",
       "      <th>1400347</th>\n",
       "      <td>82</td>\n",
       "      <td>3</td>\n",
       "      <td>0.0</td>\n",
       "      <td>CodeContests</td>\n",
       "      <td>Llama 3 8B Instruct</td>\n",
       "    </tr>\n",
       "    <tr>\n",
       "      <th>1400487</th>\n",
       "      <td>82</td>\n",
       "      <td>4</td>\n",
       "      <td>0.0</td>\n",
       "      <td>CodeContests</td>\n",
       "      <td>Llama 3 8B Instruct</td>\n",
       "    </tr>\n",
       "    <tr>\n",
       "      <th>1400627</th>\n",
       "      <td>82</td>\n",
       "      <td>5</td>\n",
       "      <td>0.0</td>\n",
       "      <td>CodeContests</td>\n",
       "      <td>Llama 3 8B Instruct</td>\n",
       "    </tr>\n",
       "    <tr>\n",
       "      <th>...</th>\n",
       "      <td>...</td>\n",
       "      <td>...</td>\n",
       "      <td>...</td>\n",
       "      <td>...</td>\n",
       "      <td>...</td>\n",
       "    </tr>\n",
       "    <tr>\n",
       "      <th>2799367</th>\n",
       "      <td>82</td>\n",
       "      <td>9996</td>\n",
       "      <td>0.0</td>\n",
       "      <td>CodeContests</td>\n",
       "      <td>Llama 3 8B Instruct</td>\n",
       "    </tr>\n",
       "    <tr>\n",
       "      <th>2799507</th>\n",
       "      <td>82</td>\n",
       "      <td>9997</td>\n",
       "      <td>0.0</td>\n",
       "      <td>CodeContests</td>\n",
       "      <td>Llama 3 8B Instruct</td>\n",
       "    </tr>\n",
       "    <tr>\n",
       "      <th>2799647</th>\n",
       "      <td>82</td>\n",
       "      <td>9998</td>\n",
       "      <td>0.0</td>\n",
       "      <td>CodeContests</td>\n",
       "      <td>Llama 3 8B Instruct</td>\n",
       "    </tr>\n",
       "    <tr>\n",
       "      <th>2799787</th>\n",
       "      <td>82</td>\n",
       "      <td>9999</td>\n",
       "      <td>0.0</td>\n",
       "      <td>CodeContests</td>\n",
       "      <td>Llama 3 8B Instruct</td>\n",
       "    </tr>\n",
       "    <tr>\n",
       "      <th>2799927</th>\n",
       "      <td>82</td>\n",
       "      <td>10000</td>\n",
       "      <td>0.0</td>\n",
       "      <td>CodeContests</td>\n",
       "      <td>Llama 3 8B Instruct</td>\n",
       "    </tr>\n",
       "  </tbody>\n",
       "</table>\n",
       "<p>10000 rows × 5 columns</p>\n",
       "</div>"
      ],
      "text/plain": [
       "         Problem Idx  Attempt Idx  Score     Benchmark                Model\n",
       "1400067           82            1    0.0  CodeContests  Llama 3 8B Instruct\n",
       "1400207           82            2    0.0  CodeContests  Llama 3 8B Instruct\n",
       "1400347           82            3    0.0  CodeContests  Llama 3 8B Instruct\n",
       "1400487           82            4    0.0  CodeContests  Llama 3 8B Instruct\n",
       "1400627           82            5    0.0  CodeContests  Llama 3 8B Instruct\n",
       "...              ...          ...    ...           ...                  ...\n",
       "2799367           82         9996    0.0  CodeContests  Llama 3 8B Instruct\n",
       "2799507           82         9997    0.0  CodeContests  Llama 3 8B Instruct\n",
       "2799647           82         9998    0.0  CodeContests  Llama 3 8B Instruct\n",
       "2799787           82         9999    0.0  CodeContests  Llama 3 8B Instruct\n",
       "2799927           82        10000    0.0  CodeContests  Llama 3 8B Instruct\n",
       "\n",
       "[10000 rows x 5 columns]"
      ]
     },
     "execution_count": 102,
     "metadata": {},
     "output_type": "execute_result"
    }
   ],
   "source": [
    "individual_data[\n",
    "    (individual_data[\"Model\"] == model_name) & (individual_data[\"Problem Idx\"] == 82)\n",
    "]"
   ]
  },
  {
   "cell_type": "code",
   "execution_count": 103,
   "metadata": {},
   "outputs": [],
   "source": [
    "individual_data_model = individual_data[(individual_data[\"Model\"] == model_name)]"
   ]
  },
  {
   "cell_type": "code",
   "execution_count": 104,
   "metadata": {},
   "outputs": [],
   "source": [
    "heap = []\n",
    "heapq.heapify(heap)\n",
    "budget = samples * len(pythia12_math)\n",
    "results = []\n",
    "for ele in individual_data_model[\"Problem Idx\"].unique():\n",
    "    heapq.heappush(heap, (0, ele))\n",
    "total_samples = 0\n",
    "while total_samples < budget:\n",
    "    total_samples += 1\n",
    "    attempts, index = heapq.heappop(heap)\n",
    "    attempt_index = attempts + 1\n",
    "\n",
    "    # Check if this attempt exists\n",
    "    filtered_data = individual_data_model[\n",
    "        (individual_data_model[\"Problem Idx\"] == index)\n",
    "        & (individual_data_model[\"Attempt Idx\"] == attempt_index)\n",
    "    ]\n",
    "\n",
    "    if filtered_data.empty:\n",
    "        continue  # Skip if no data for this attempt\n",
    "\n",
    "    score = filtered_data[\"Score\"].iloc[0]\n",
    "    attempts += 1\n",
    "\n",
    "    if score == 0:\n",
    "        heapq.heappush(heap, (attempts, index))  # Fixed: use 'index' not 'ele'\n",
    "    else:\n",
    "        results.append(\n",
    "            {\n",
    "                \"Problem Idx\": index,\n",
    "                \"Num. Samples Total\": attempts,\n",
    "                \"Num. Samples Correct\": 1,\n",
    "            }\n",
    "        )\n",
    "while heap:\n",
    "    attempts, index = heapq.heappop(heap)\n",
    "    results.append(\n",
    "        {\n",
    "            \"Problem Idx\": index,\n",
    "            \"Num. Samples Total\": attempts,\n",
    "            \"Num. Samples Correct\": 0,\n",
    "        }\n",
    "    )\n",
    "efficient_data = pd.DataFrame(results)"
   ]
  },
  {
   "cell_type": "code",
   "execution_count": 105,
   "metadata": {},
   "outputs": [
    {
     "data": {
      "text/plain": [
       "<module 'src.bem_geometric' from '/Users/jkazdan/Documents/Research/monkeys/KoyejoLab-Origin-Power-Laws-Scaling-Inference-Compute/src/bem_geometric.py'>"
      ]
     },
     "execution_count": 105,
     "metadata": {},
     "output_type": "execute_result"
    }
   ],
   "source": [
    "import importlib\n",
    "\n",
    "importlib.reload(bopt)\n",
    "importlib.reload(stats_utils)\n",
    "importlib.reload(mixtures)\n",
    "importlib.reload(BEM)\n",
    "importlib.reload(bemg)"
   ]
  },
  {
   "cell_type": "code",
   "execution_count": 106,
   "metadata": {},
   "outputs": [
    {
     "name": "stdout",
     "output_type": "stream",
     "text": [
      "0: nll: 51.41381514268285\n",
      "0: nll: 51.413815142154974\n",
      "0: nll: 51.413815142106564\n",
      "0: nll: 51.41381514147229\n",
      "0: nll: 51.41381514056647\n",
      "0: nll: 51.413815140560104\n",
      "0: nll: 51.41381514054552\n",
      "0: nll: 51.41381514054538\n",
      "0: nll: 51.413815140508646\n",
      "0: nll: 51.41381514041104\n",
      "0: nll: 51.41381512527295\n",
      "0: nll: 51.41381512017759\n",
      "0: nll: 51.41381511961521\n",
      "0: nll: 51.413815119530824\n",
      "0: nll: 51.413815119530824\n",
      "0: nll: 51.413815119530824\n",
      "0: nll: 51.413815119530824\n",
      "0: nll: 51.413815119530824\n",
      "0: nll: 51.413815119530824\n",
      "0: nll: 51.413815119530824\n",
      "0: nll: 51.413815119530824\n",
      "0: nll: 51.413815119530824\n",
      "0: nll: 51.413815119530824\n",
      "0: nll: 51.413815119530824\n",
      "0: nll: 51.413815119530824\n",
      "0: nll: 51.413815119530824\n",
      "0: nll: 51.413815119530824\n",
      "0: nll: 51.413815119530824\n",
      "0: nll: 51.413815119530824\n",
      "0: nll: 51.413815119530824\n",
      "0: nll: 51.413815119530824\n",
      "0: nll: 51.413815119530824\n",
      "0: nll: 51.413815119530824\n",
      "0: nll: 51.413815119530824\n",
      "0: nll: 51.413815119530824\n",
      "0: nll: 51.413815119530824\n",
      "0: nll: 51.413815119530824\n",
      "0: nll: 51.413815119530824\n",
      "0: nll: 51.413815119530824\n",
      "0: nll: 51.413815119530824\n",
      "0: nll: 51.413815119530824\n",
      "0: nll: 51.413815119530824\n",
      "0: nll: 51.413815119530824\n",
      "0: nll: 51.413815119530824\n",
      "0: nll: 51.413815119530824\n",
      "0: nll: 51.413815119530824\n",
      "0: nll: 51.413815119530824\n",
      "0: nll: 51.413815119530824\n",
      "0: nll: 51.413815119530824\n",
      "0: nll: 51.413815119530824\n",
      "0: nll: 51.413815119530824\n",
      "0: nll: 51.413815119530824\n",
      "0: nll: 51.413815119530824\n",
      "0: nll: 51.413815119530824\n",
      "0: nll: 51.413815119530824\n",
      "0: nll: 51.413815119530824\n",
      "0: nll: 51.413815119530824\n",
      "0: nll: 51.413815119530824\n",
      "0: nll: 51.413815119530824\n",
      "0: nll: 51.413815119530824\n",
      "0: nll: 51.413815119530824\n",
      "0: nll: 51.413815119530824\n",
      "0: nll: 51.413815119530824\n",
      "0: nll: 51.413815119530824\n",
      "0: nll: 51.413815119530824\n",
      "0: nll: 51.413815119530824\n",
      "0: nll: 51.413815119530824\n",
      "0: nll: 51.413815119530824\n",
      "0: nll: 51.413815119530824\n",
      "0: nll: 51.413815119530824\n",
      "0: nll: 51.413815119530824\n",
      "0: nll: 51.413815119530824\n",
      "0: nll: 51.413815119530824\n",
      "0: nll: 51.413815119530824\n",
      "0: nll: 51.413815119530824\n",
      "0: nll: 51.413815119530824\n",
      "0: nll: 51.413815119530824\n",
      "0: nll: 51.413815119530824\n",
      "0: nll: 51.413815119530824\n",
      "0: nll: 51.413815119530824\n",
      "0: nll: 51.413815119530824\n",
      "0: nll: 51.413815119530824\n",
      "0: nll: 51.413815119530824\n",
      "0: nll: 51.413815119530824\n",
      "0: nll: 51.413815119530824\n",
      "0: nll: 51.413815119530824\n",
      "0: nll: 51.413815119530824\n",
      "0: nll: 51.413815119530824\n",
      "0: nll: 51.413815119530824\n",
      "0: nll: 51.413815119530824\n",
      "0: nll: 51.413815119530824\n",
      "0: nll: 51.413815119530824\n",
      "0: nll: 51.413815119530824\n",
      "0: nll: 51.413815119530824\n",
      "0: nll: 51.413815119530824\n",
      "0: nll: 51.413815119530824\n",
      "0: nll: 51.413815119530824\n",
      "0: nll: 51.413815119530824\n",
      "0: nll: 51.413815119530824\n",
      "0: nll: 51.413815119530824\n",
      "0: nll: 51.413815119530824\n",
      "0: nll: 51.413815119530824\n",
      "0: nll: 51.413815119530824\n",
      "0: nll: 51.413815119530824\n",
      "0: nll: 51.413815119530824\n",
      "0: nll: 51.413815119530824\n",
      "0: nll: 51.413815119530824\n",
      "0: nll: 51.413815119530824\n",
      "0: nll: 51.413815119530824\n",
      "0: nll: 51.413815119530824\n",
      "0: nll: 51.413815119530824\n",
      "0: nll: 51.413815119530824\n",
      "0: nll: 51.413815119530824\n",
      "0: nll: 51.413815119530824\n",
      "0: nll: 51.413815119530824\n",
      "0: nll: 51.413815119530824\n",
      "0: nll: 51.413815119530824\n",
      "0: nll: 51.413815119530824\n",
      "0: nll: 51.413815119530824\n",
      "0: nll: 51.413815119530824\n",
      "0: nll: 51.413815119530824\n",
      "0: nll: 51.413815119530824\n",
      "0: nll: 51.413815119530824\n",
      "0: nll: 51.413815119530824\n",
      "0: nll: 51.413815119530824\n",
      "0: nll: 51.413815119530824\n",
      "0: nll: 51.413815119530824\n",
      "0: nll: 51.413815119530824\n",
      "0: nll: 51.413815119530824\n",
      "0: nll: 51.413815119530824\n",
      "0: nll: 51.413815119530824\n",
      "0: nll: 51.413815119530824\n",
      "0: nll: 51.413815119530824\n",
      "0: nll: 51.413815119530824\n",
      "0: nll: 51.413815119530824\n",
      "0: nll: 51.413815119530824\n",
      "0: nll: 51.413815119530824\n",
      "0: nll: 51.413815119530824\n",
      "0: nll: 51.413815119530824\n",
      "0: nll: 51.413815119530824\n",
      "0: nll: 51.413815119530824\n",
      "0: nll: 51.413815119530824\n",
      "0: nll: 51.413815119530824\n",
      "0: nll: 51.413815119530824\n",
      "0: nll: 51.413815119530824\n",
      "0: nll: 51.413815119530824\n",
      "0: nll: 51.413815119530824\n",
      "0: nll: 51.413815119530824\n",
      "0: nll: 51.413815119530824\n",
      "0: nll: 51.413815119530824\n",
      "0: nll: 51.413815119530824\n",
      "0: nll: 51.413815119530824\n",
      "0: nll: 51.413815119530824\n",
      "0: nll: 51.413815119530824\n",
      "0: nll: 51.413815119530824\n",
      "0: nll: 51.413815119530824\n",
      "0: nll: 51.413815119530824\n",
      "0: nll: 51.413815119530824\n",
      "0: nll: 51.413815119530824\n",
      "0: nll: 51.413815119530824\n",
      "0: nll: 51.413815119530824\n",
      "0: nll: 51.413815119530824\n",
      "0: nll: 51.413815119530824\n",
      "0: nll: 51.413815119530824\n",
      "0: nll: 51.413815119530824\n",
      "0: nll: 51.413815119530824\n",
      "0: nll: 51.413815119530824\n",
      "0: nll: 51.413815119530824\n",
      "0: nll: 51.413815119530824\n",
      "0: nll: 51.413815119530824\n",
      "0: nll: 51.413815119530824\n",
      "0: nll: 51.413815119530824\n",
      "0: nll: 51.413815119530824\n",
      "0: nll: 51.413815119530824\n",
      "0: nll: 51.413815119530824\n",
      "0: nll: 51.413815119530824\n",
      "0: nll: 51.413815119530824\n",
      "0: nll: 51.413815119530824\n",
      "0: nll: 51.413815119530824\n",
      "0: nll: 51.413815119530824\n",
      "0: nll: 51.413815119530824\n",
      "0: nll: 51.413815119530824\n",
      "0: nll: 51.413815119530824\n",
      "0: nll: 51.413815119530824\n",
      "0: nll: 51.413815119530824\n",
      "0: nll: 51.413815119530824\n",
      "0: nll: 51.413815119530824\n",
      "0: nll: 51.413815119530824\n",
      "0: nll: 51.413815119530824\n",
      "0: nll: 51.413815119530824\n",
      "0: nll: 51.413815119530824\n",
      "0: nll: 51.413815119530824\n",
      "0: nll: 51.413815119530824\n",
      "0: nll: 51.413815119530824\n",
      "0: nll: 51.413815119530824\n",
      "0: nll: 51.413815119530824\n",
      "0: nll: 51.413815119530824\n",
      "0: nll: 51.413815119530824\n",
      "0: nll: 51.413815119530824\n",
      "0: nll: 51.413815119530824\n",
      "0: nll: 51.413815119530824\n",
      "0: nll: 51.413815119530824\n",
      "0: nll: 51.413815119530824\n",
      "0: nll: 51.413815119530824\n",
      "0: nll: 51.413815119530824\n",
      "0: nll: 51.413815119530824\n",
      "0: nll: 51.413815119530824\n",
      "0: nll: 51.413815119530824\n",
      "0: nll: 51.413815119530824\n",
      "0: nll: 51.413815119530824\n",
      "0: nll: 51.413815119530824\n",
      "0: nll: 51.413815119530824\n",
      "0: nll: 51.413815119530824\n",
      "0: nll: 51.413815119530824\n",
      "0: nll: 51.413815119530824\n",
      "0: nll: 51.413815119530824\n",
      "0: nll: 51.413815119530824\n",
      "0: nll: 51.413815119530824\n",
      "0: nll: 51.413815119530824\n",
      "0: nll: 51.413815119530824\n",
      "0: nll: 51.413815119530824\n",
      "0: nll: 51.413815119530824\n",
      "0: nll: 51.413815119530824\n",
      "0: nll: 51.413815119530824\n",
      "0: nll: 51.413815119530824\n",
      "0: nll: 51.413815119530824\n",
      "0: nll: 51.413815119530824\n",
      "0: nll: 51.413815119530824\n",
      "0: nll: 51.413815119530824\n",
      "0: nll: 51.413815119530824\n",
      "0: nll: 51.413815119530824\n",
      "0: nll: 51.413815119530824\n",
      "0: nll: 51.413815119530824\n",
      "0: nll: 51.413815119530824\n",
      "0: nll: 51.413815119530824\n",
      "0: nll: 51.413815119530824\n",
      "0: nll: 51.413815119530824\n",
      "0: nll: 51.413815119530824\n",
      "0: nll: 51.413815119530824\n",
      "0: nll: 51.413815119530824\n",
      "0: nll: 51.413815119530824\n",
      "0: nll: 51.413815119530824\n",
      "0: nll: 51.413815119530824\n",
      "0: nll: 51.413815119530824\n",
      "0: nll: 51.413815119530824\n",
      "0: nll: 51.413815119530824\n",
      "0: nll: 51.413815119530824\n",
      "0: nll: 51.413815119530824\n",
      "0: nll: 51.413815119530824\n",
      "0: nll: 51.413815119530824\n",
      "0: nll: 51.413815119530824\n",
      "0: nll: 51.413815119530824\n",
      "0: nll: 51.413815119530824\n",
      "0: nll: 51.413815119530824\n",
      "0: nll: 51.413815119530824\n",
      "0: nll: 51.413815119530824\n",
      "0: nll: 51.413815119530824\n",
      "0: nll: 51.413815119530824\n",
      "0: nll: 51.413815119530824\n",
      "0: nll: 51.413815119530824\n",
      "0: nll: 51.413815119530824\n",
      "0: nll: 51.413815119530824\n",
      "0: nll: 51.413815119530824\n",
      "0: nll: 51.413815119530824\n",
      "0: nll: 51.413815119530824\n",
      "0: nll: 51.413815119530824\n",
      "0: nll: 51.413815119530824\n",
      "0: nll: 51.413815119530824\n",
      "0: nll: 51.413815119530824\n",
      "0: nll: 51.413815119530824\n",
      "0: nll: 51.413815119530824\n",
      "0: nll: 51.413815119530824\n",
      "0: nll: 51.413815119530824\n",
      "0: nll: 51.413815119530824\n",
      "0: nll: 51.413815119530824\n",
      "0: nll: 51.413815119530824\n",
      "0: nll: 51.413815119530824\n",
      "0: nll: 51.413815119530824\n",
      "0: nll: 51.413815119530824\n",
      "0: nll: 51.413815119530824\n",
      "0: nll: 51.413815119530824\n",
      "0: nll: 51.413815119530824\n",
      "0: nll: 51.413815119530824\n",
      "0: nll: 51.413815119530824\n",
      "0: nll: 51.413815119530824\n",
      "0: nll: 51.413815119530824\n",
      "0: nll: 51.413815119530824\n",
      "0: nll: 51.413815119530824\n",
      "0: nll: 51.413815119530824\n",
      "0: nll: 51.413815119530824\n",
      "0: nll: 51.413815119530824\n",
      "0: nll: 51.413815119530824\n",
      "0: nll: 51.413815119530824\n",
      "0: nll: 51.413815119530824\n",
      "0: nll: 51.413815119530824\n",
      "0: nll: 51.413815119530824\n",
      "0: nll: 51.413815119530824\n",
      "0: nll: 51.413815119530824\n",
      "0: nll: 51.413815119530824\n",
      "0: nll: 51.413815119530824\n",
      "0: nll: 51.413815119530824\n",
      "0: nll: 51.413815119530824\n",
      "0: nll: 51.413815119530824\n",
      "0: nll: 51.413815119530824\n",
      "0: nll: 51.413815119530824\n",
      "0: nll: 51.413815119530824\n",
      "0: nll: 51.413815119530824\n",
      "0: nll: 51.413815119530824\n",
      "0: nll: 51.413815119530824\n",
      "0: nll: 51.413815119530824\n",
      "0: nll: 51.413815119530824\n",
      "0: nll: 51.413815119530824\n",
      "0: nll: 51.413815119530824\n",
      "0: nll: 51.413815119530824\n",
      "0: nll: 51.413815119530824\n",
      "0: nll: 51.413815119530824\n",
      "0: nll: 51.413815119530824\n",
      "0: nll: 51.413815119530824\n",
      "0: nll: 51.413815119530824\n",
      "0: nll: 51.413815119530824\n",
      "0: nll: 51.413815119530824\n",
      "0: nll: 51.413815119530824\n",
      "0: nll: 51.413815119530824\n",
      "0: nll: 51.413815119530824\n",
      "0: nll: 51.413815119530824\n",
      "0: nll: 51.413815119530824\n",
      "0: nll: 51.413815119530824\n",
      "0: nll: 51.413815119530824\n",
      "0: nll: 51.413815119530824\n",
      "0: nll: 51.413815119530824\n",
      "0: nll: 51.413815119530824\n",
      "0: nll: 51.413815119530824\n",
      "0: nll: 51.413815119530824\n",
      "0: nll: 51.413815119530824\n",
      "0: nll: 51.413815119530824\n",
      "0: nll: 51.413815119530824\n",
      "0: nll: 51.413815119530824\n",
      "0: nll: 51.413815119530824\n",
      "0: nll: 51.413815119530824\n",
      "0: nll: 51.413815119530824\n",
      "0: nll: 51.413815119530824\n",
      "0: nll: 51.413815119530824\n",
      "0: nll: 51.413815119530824\n",
      "0: nll: 51.413815119530824\n",
      "0: nll: 51.413815119530824\n",
      "0: nll: 51.413815119530824\n",
      "0: nll: 51.413815119530824\n",
      "0: nll: 51.413815119530824\n",
      "0: nll: 51.413815119530824\n",
      "0: nll: 51.413815119530824\n",
      "0: nll: 51.413815119530824\n",
      "0: nll: 51.413815119530824\n",
      "0: nll: 51.413815119530824\n",
      "0: nll: 51.413815119530824\n",
      "0: nll: 51.413815119530824\n",
      "0: nll: 51.413815119530824\n",
      "0: nll: 51.413815119530824\n",
      "0: nll: 51.413815119530824\n",
      "0: nll: 51.413815119530824\n",
      "0: nll: 51.413815119530824\n",
      "0: nll: 51.413815119530824\n",
      "0: nll: 51.413815119530824\n",
      "0: nll: 51.413815119530824\n",
      "0: nll: 51.413815119530824\n",
      "0: nll: 51.413815119530824\n",
      "0: nll: 51.413815119530824\n",
      "0: nll: 51.413815119530824\n",
      "0: nll: 51.413815119530824\n",
      "0: nll: 51.413815119530824\n",
      "0: nll: 51.413815119530824\n",
      "0: nll: 51.413815119530824\n",
      "0: nll: 51.413815119530824\n",
      "0: nll: 51.413815119530824\n",
      "0: nll: 51.413815119530824\n",
      "0: nll: 51.413815119530824\n",
      "0: nll: 51.413815119530824\n",
      "0: nll: 51.413815119530824\n",
      "0: nll: 51.413815119530824\n",
      "0: nll: 51.413815119530824\n",
      "0: nll: 51.413815119530824\n",
      "0: nll: 51.413815119530824\n",
      "0: nll: 51.413815119530824\n",
      "0: nll: 51.413815119530824\n",
      "0: nll: 51.413815119530824\n",
      "0: nll: 51.413815119530824\n",
      "0: nll: 51.413815119530824\n",
      "0: nll: 51.413815119530824\n",
      "0: nll: 51.413815119530824\n",
      "0: nll: 51.413815119530824\n",
      "0: nll: 51.413815119530824\n",
      "0: nll: 51.413815119530824\n",
      "0: nll: 51.413815119530824\n",
      "0: nll: 51.413815119530824\n",
      "0: nll: 51.413815119530824\n",
      "0: nll: 51.413815119530824\n",
      "0: nll: 51.413815119530824\n",
      "0: nll: 51.413815119530824\n",
      "0: nll: 51.413815119530824\n",
      "0: nll: 51.413815119530824\n",
      "0: nll: 51.413815119530824\n",
      "0: nll: 51.413815119530824\n",
      "0: nll: 51.413815119530824\n",
      "0: nll: 51.413815119530824\n",
      "0: nll: 51.413815119530824\n",
      "0: nll: 51.413815119530824\n",
      "0: nll: 51.413815119530824\n",
      "0: nll: 51.413815119530824\n",
      "0: nll: 51.413815119530824\n",
      "0: nll: 51.413815119530824\n",
      "0: nll: 51.413815119530824\n",
      "0: nll: 51.413815119530824\n",
      "0: nll: 51.413815119530824\n",
      "0: nll: 51.413815119530824\n",
      "0: nll: 51.413815119530824\n",
      "0: nll: 51.413815119530824\n",
      "0: nll: 51.413815119530824\n",
      "0: nll: 51.413815119530824\n",
      "0: nll: 51.413815119530824\n",
      "0: nll: 51.413815119530824\n",
      "0: nll: 51.413815119530824\n",
      "0: nll: 51.413815119530824\n",
      "0: nll: 51.413815119530824\n",
      "0: nll: 51.413815119530824\n",
      "0: nll: 51.413815119530824\n",
      "0: nll: 51.413815119530824\n",
      "0: nll: 51.413815119530824\n",
      "0: nll: 51.413815119530824\n",
      "0: nll: 51.413815119530824\n",
      "0: nll: 51.413815119530824\n",
      "0: nll: 51.413815119530824\n",
      "0: nll: 51.413815119530824\n",
      "0: nll: 51.413815119530824\n",
      "0: nll: 51.413815119530824\n",
      "0: nll: 51.413815119530824\n",
      "0: nll: 51.413815119530824\n",
      "0: nll: 51.413815119530824\n",
      "0: nll: 51.413815119530824\n",
      "0: nll: 51.413815119530824\n",
      "0: nll: 51.413815119530824\n",
      "0: nll: 51.413815119530824\n",
      "0: nll: 51.413815119530824\n",
      "0: nll: 51.413815119530824\n",
      "0: nll: 51.413815119530824\n",
      "0: nll: 51.413815119530824\n",
      "0: nll: 51.413815119530824\n",
      "0: nll: 51.413815119530824\n",
      "0: nll: 51.413815119530824\n",
      "0: nll: 51.413815119530824\n",
      "0: nll: 51.413815119530824\n",
      "0: nll: 51.413815119530824\n",
      "0: nll: 51.413815119530824\n",
      "0: nll: 51.413815119530824\n",
      "0: nll: 51.413815119530824\n",
      "0: nll: 51.413815119530824\n",
      "0: nll: 51.413815119530824\n",
      "0: nll: 51.413815119530824\n",
      "0: nll: 51.413815119530824\n",
      "0: nll: 51.413815119530824\n",
      "0: nll: 51.413815119530824\n",
      "0: nll: 51.413815119530824\n",
      "0: nll: 51.413815119530824\n",
      "0: nll: 51.413815119530824\n",
      "0: nll: 51.413815119530824\n",
      "0: nll: 51.413815119530824\n",
      "0: nll: 51.413815119530824\n",
      "0: nll: 51.413815119530824\n",
      "0: nll: 51.413815119530824\n",
      "0: nll: 51.413815119530824\n",
      "0: nll: 51.413815119530824\n",
      "0: nll: 51.413815119530824\n",
      "0: nll: 51.413815119530824\n",
      "0: nll: 51.413815119530824\n",
      "0: nll: 51.413815119530824\n",
      "0: nll: 51.413815119530824\n",
      "0: nll: 51.413815119530824\n",
      "0: nll: 51.413815119530824\n",
      "0: nll: 51.413815119530824\n",
      "0: nll: 51.413815119530824\n",
      "0: nll: 51.413815119530824\n",
      "0: nll: 51.413815119530824\n",
      "0: nll: 51.413815119530824\n",
      "0: nll: 51.413815119530824\n",
      "0: nll: 51.413815119530824\n",
      "0: nll: 51.413815119530824\n",
      "0: nll: 51.413815119530824\n",
      "0: nll: 51.413815119530824\n",
      "0: nll: 51.413815119530824\n",
      "0: nll: 51.413815119530824\n",
      "0: nll: 51.413815119530824\n",
      "0: nll: 51.413815119530824\n",
      "0: nll: 51.413815119530824\n",
      "0: nll: 51.413815119530824\n",
      "0: nll: 51.413815119530824\n",
      "0: nll: 51.413815119530824\n",
      "0: nll: 51.413815119530824\n",
      "0: nll: 51.413815119530824\n",
      "0: nll: 51.413815119530824\n",
      "0: nll: 51.413815119530824\n",
      "0: nll: 51.413815119530824\n",
      "0: nll: 51.413815119530824\n"
     ]
    }
   ],
   "source": [
    "n_distr = 1\n",
    "geom_mix = bemg.beta_geometric_mixture(\n",
    "    n_distr=n_distr,\n",
    "    num_successes=efficient_data[\"Num. Samples Correct\"],\n",
    "    num_trials=efficient_data[\"Num. Samples Total\"],\n",
    ")\n",
    "geom_params = geom_mix.fit_mixture()"
   ]
  },
  {
   "cell_type": "code",
   "execution_count": 107,
   "metadata": {},
   "outputs": [
    {
     "data": {
      "image/png": "[encoded data removed]",
      "text/plain": [
       "<Figure size 1200x800 with 2 Axes>"
      ]
     },
     "execution_count": 107,
     "metadata": {},
     "output_type": "execute_result"
    },
    {
     "data": {
      "image/png": "[encoded data removed]",
      "text/plain": [
       "<Figure size 1200x800 with 2 Axes>"
      ]
     },
     "metadata": {},
     "output_type": "display_data"
    }
   ],
   "source": [
    "mixtures.plot_beta_binomial_mixture_with_histogram(pythia12_math, geom_params, n_distr)"
   ]
  },
  {
   "cell_type": "code",
   "execution_count": 108,
   "metadata": {},
   "outputs": [
    {
     "data": {
      "text/plain": [
       "0.05714285714285716"
      ]
     },
     "execution_count": 108,
     "metadata": {},
     "output_type": "execute_result"
    }
   ],
   "source": [
    "1 - len(efficient_data[efficient_data[\"Num. Samples Correct\"] == 0]) / len(\n",
    "    efficient_data\n",
    ")"
   ]
  },
  {
   "cell_type": "code",
   "execution_count": 109,
   "metadata": {},
   "outputs": [
    {
     "data": {
      "text/plain": [
       "0.042857142857142816"
      ]
     },
     "execution_count": 109,
     "metadata": {},
     "output_type": "execute_result"
    }
   ],
   "source": [
    "1 - len(\n",
    "    smaller_pythia12_math[smaller_pythia12_math[\"Num. Samples Correct\"] == 0]\n",
    ") / len(smaller_pythia12_math)"
   ]
  },
  {
   "cell_type": "code",
   "execution_count": 110,
   "metadata": {},
   "outputs": [],
   "source": [
    "def compute_estimates_better_mixture_geometric(data, params, k, n_distr):\n",
    "    total = 0\n",
    "    for row in data.iterrows():\n",
    "        row = row[1]\n",
    "        if row[\"Num. Samples Correct\"] == 0:\n",
    "            denom = 1 - EM.compute_expected_pass_at_k(\n",
    "                params, n_distr, 0, row[\"Num. Samples Total\"]\n",
    "            )\n",
    "            estimate = EM.compute_expected_pass_at_k(\n",
    "                params,\n",
    "                n_distr,\n",
    "                row[\"Num. Samples Total\"],\n",
    "                k - row[\"Num. Samples Total\"],\n",
    "            )\n",
    "            total += estimate / denom\n",
    "    fail_first_false = len(data[data[\"Num. Samples Correct\"] != 0])\n",
    "    questions = len(data)\n",
    "    estimate = (fail_first_false + total) / questions\n",
    "    return estimate"
   ]
  },
  {
   "cell_type": "code",
   "execution_count": 111,
   "metadata": {},
   "outputs": [
    {
     "data": {
      "text/plain": [
       "0.133391010115683"
      ]
     },
     "execution_count": 111,
     "metadata": {},
     "output_type": "execute_result"
    }
   ],
   "source": [
    "efficient_estimate = EM.compute_expected_pass_at_k(\n",
    "    geom_params, n_distr, 0, num_samples_total\n",
    ")\n",
    "efficient_estimate"
   ]
  },
  {
   "cell_type": "code",
   "execution_count": 112,
   "metadata": {},
   "outputs": [],
   "source": [
    "geom_reformatted = {\n",
    "    \"alpha\": geom_params[\"alpha_0\"],\n",
    "    \"beta\": geom_params[\"beta_0\"],\n",
    "    \"scale\": 1.0,\n",
    "}\n",
    "efficient_beta_binomial = [compute_estimate(geom_reformatted, k) for k in ks]"
   ]
  },
  {
   "cell_type": "code",
   "execution_count": 113,
   "metadata": {},
   "outputs": [],
   "source": [
    "geom_correct_estimates = [\n",
    "    compute_estimates_better_mixture_geometric(efficient_data, geom_params, k, n_distr)\n",
    "    for k in ks\n",
    "]"
   ]
  },
  {
   "cell_type": "code",
   "execution_count": 114,
   "metadata": {},
   "outputs": [],
   "source": [
    "pass_at_ks = compute_p_at_ks(pythia12_math, ks)"
   ]
  },
  {
   "cell_type": "code",
   "execution_count": 115,
   "metadata": {},
   "outputs": [
    {
     "data": {
      "text/plain": [
       "<matplotlib.legend.Legend at 0x2a6a52e40>"
      ]
     },
     "execution_count": 115,
     "metadata": {},
     "output_type": "execute_result"
    },
    {
     "data": {
      "image/png": "[encoded data removed]",
      "text/plain": [
       "<Figure size 640x480 with 1 Axes>"
      ]
     },
     "metadata": {},
     "output_type": "display_data"
    }
   ],
   "source": [
    "plt.plot(ks, beta_estimates, label=\"Discretized beta estimates\")\n",
    "plt.plot(ks, mixture_estimates, label=\"Beta-Binomial Mixture\")\n",
    "# plt.plot(ks, efficient_beta_binomial, label = 'Beta-Geometric Mixture')\n",
    "plt.plot(ks, geom_correct_estimates, label=\"Beta-Geometric Mixture\")\n",
    "plt.plot(\n",
    "    ks, np.clip(regression_predictions, 0, 1), label=\"Regression estimates clipped at 1\"\n",
    ")\n",
    "plt.plot(\n",
    "    ks,\n",
    "    pass_at_ks,\n",
    "    label=\"Pass@k (True)\",\n",
    "    linewidth=4,\n",
    "    color=\"red\",\n",
    "    linestyle=\"-\",\n",
    "    marker=\"s\",\n",
    "    markersize=8,\n",
    "    markerfacecolor=\"red\",\n",
    "    markeredgecolor=\"darkred\",\n",
    ")\n",
    "plt.title(f\"Estimates of Pass@k for {model_name}\")\n",
    "plt.ylabel(\"Pass@k\")\n",
    "plt.xlabel(\"log(k)\")\n",
    "plt.xscale(\"log\")\n",
    "plt.legend(bbox_to_anchor=(1.05, 1), loc=\"upper left\")"
   ]
  },
  {
   "cell_type": "code",
   "execution_count": null,
   "metadata": {},
   "outputs": [],
   "source": []
  }
 ],
 "metadata": {
  "kernelspec": {
   "display_name": "Python finance",
   "language": "python",
   "name": "finance"
  },
  "language_info": {
   "codemirror_mode": {
    "name": "ipython",
    "version": 3
   },
   "file_extension": ".py",
   "mimetype": "text/x-python",
   "name": "python",
   "nbconvert_exporter": "python",
   "pygments_lexer": "ipython3",
   "version": "3.12.2"
  }
 },
 "nbformat": 4,
 "nbformat_minor": 2
}
